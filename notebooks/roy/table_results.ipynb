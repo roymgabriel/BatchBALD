{
 "cells": [
  {
   "cell_type": "code",
   "execution_count": 29,
   "id": "31e1d91c-e31a-4272-afcd-6a8ef83ae46d",
   "metadata": {},
   "outputs": [],
   "source": [
    "import numpy as np\n",
    "inf = np.inf"
   ]
  },
  {
   "cell_type": "markdown",
   "id": "147b1374-4dc9-4d4d-81cb-6e4aa482826c",
   "metadata": {},
   "source": [
    "# Binary"
   ]
  },
  {
   "cell_type": "markdown",
   "id": "10afed4e-6556-4428-a3ec-6dc10e4d2861",
   "metadata": {},
   "source": [
    "## Accuracy"
   ]
  },
  {
   "cell_type": "code",
   "execution_count": 13,
   "id": "048e5cb2-50e5-41b5-b7c1-ccf4c58e6302",
   "metadata": {},
   "outputs": [],
   "source": [
    "BatchBALD = [290., 330., 650.]\n",
    "Random = [530.,  np.inf,  np.inf]\n",
    "Var_Ratios = [290, 390, 470]\n",
    "Mean_STD = [290, 350, 390]\n",
    "Entropy_Sampling = [210, 230, 250]\n",
    "Least_Confidence = [270, 370, 450]\n",
    "Margin_Sampling = [310, 330, 510]"
   ]
  },
  {
   "cell_type": "code",
   "execution_count": 14,
   "id": "e8c09a9c-e21c-4e27-b341-1af45b8258f4",
   "metadata": {},
   "outputs": [],
   "source": [
    "a = [BatchBALD, Random, Var_Ratios, Mean_STD, Entropy_Sampling, Least_Confidence, Margin_Sampling]\n",
    "b = ['BatchBALD', 'Random', 'Var_Ratios', 'Mean_STD', 'Entropy_Sampling', 'Least_Confidence', 'Margin_Sampling']"
   ]
  },
  {
   "cell_type": "code",
   "execution_count": 15,
   "id": "5c5ff6f4-3bfe-48d1-aa47-a2f0fb6c62b5",
   "metadata": {},
   "outputs": [],
   "source": [
    "n = 1623"
   ]
  },
  {
   "cell_type": "code",
   "execution_count": 23,
   "id": "ba855a72-28ac-4ad0-b4f3-0fb2104b7731",
   "metadata": {},
   "outputs": [
    {
     "name": "stdout",
     "output_type": "stream",
     "text": [
      "BatchBALD\n",
      "20.33 & [17.87, 40.05]\n",
      "\n",
      "Random\n",
      "inf & [32.66, inf]\n",
      "\n",
      "Var_Ratios\n",
      "24.03 & [17.87, 28.96]\n",
      "\n",
      "Mean_STD\n",
      "21.57 & [17.87, 24.03]\n",
      "\n",
      "Entropy_Sampling\n",
      "14.17 & [12.94, 15.4]\n",
      "\n",
      "Least_Confidence\n",
      "22.8 & [16.64, 27.73]\n",
      "\n",
      "Margin_Sampling\n",
      "20.33 & [19.1, 31.42]\n",
      "\n"
     ]
    }
   ],
   "source": [
    "for i,j in zip(a, b):\n",
    "    print(j)\n",
    "    tmp = np.divide(i, n) * 100\n",
    "    tmp = np.round(tmp, 2)\n",
    "    print(tmp[1], '&', [tmp[0], tmp[2]])\n",
    "    print()"
   ]
  },
  {
   "cell_type": "markdown",
   "id": "90957347-188e-4c72-b6cb-49baa1e3014e",
   "metadata": {},
   "source": [
    "## F1"
   ]
  },
  {
   "cell_type": "code",
   "execution_count": 24,
   "id": "9b10074a-931d-4347-b79c-8f6e4cfc036d",
   "metadata": {},
   "outputs": [],
   "source": [
    "BatchBALD =[210, 250, 410]\n",
    "Random =[290, 430, 690]\n",
    "Var_Ratios=[170, 270, 370]\n",
    "Mean_STD =[ 70, 130, 310]\n",
    "Entropy_Sampling =[210, 230, 250]\n",
    "Least_Confidence =[270, 330, 450]\n",
    "Margin_Sampling = [270, 270, 310]"
   ]
  },
  {
   "cell_type": "code",
   "execution_count": 25,
   "id": "cacd4663-d632-4528-9c82-8729bb41397b",
   "metadata": {},
   "outputs": [],
   "source": [
    "a = [BatchBALD, Random, Var_Ratios, Mean_STD, Entropy_Sampling, Least_Confidence, Margin_Sampling]\n",
    "b = ['BatchBALD', 'Random', 'Var_Ratios', 'Mean_STD', 'Entropy_Sampling', 'Least_Confidence', 'Margin_Sampling']"
   ]
  },
  {
   "cell_type": "code",
   "execution_count": 26,
   "id": "020cb959-eb91-4e0b-9cec-dce7ae0ce764",
   "metadata": {},
   "outputs": [],
   "source": [
    "n = 1623"
   ]
  },
  {
   "cell_type": "code",
   "execution_count": 27,
   "id": "a3cdfdad-adc2-4473-81e5-efc8baead026",
   "metadata": {},
   "outputs": [
    {
     "name": "stdout",
     "output_type": "stream",
     "text": [
      "BatchBALD\n",
      "15.4 & [12.94, 25.26]\n",
      "\n",
      "Random\n",
      "26.49 & [17.87, 42.51]\n",
      "\n",
      "Var_Ratios\n",
      "16.64 & [10.47, 22.8]\n",
      "\n",
      "Mean_STD\n",
      "8.01 & [4.31, 19.1]\n",
      "\n",
      "Entropy_Sampling\n",
      "14.17 & [12.94, 15.4]\n",
      "\n",
      "Least_Confidence\n",
      "20.33 & [16.64, 27.73]\n",
      "\n",
      "Margin_Sampling\n",
      "16.64 & [16.64, 19.1]\n",
      "\n"
     ]
    }
   ],
   "source": [
    "for i,j in zip(a, b):\n",
    "    print(j)\n",
    "    tmp = np.divide(i, n) * 100\n",
    "    tmp = np.round(tmp, 2)\n",
    "    print(tmp[1], '&', [tmp[0], tmp[2]])\n",
    "    print()"
   ]
  },
  {
   "cell_type": "markdown",
   "id": "cb23919e-ed33-46ae-b682-ba4555771bbf",
   "metadata": {},
   "source": [
    "## AU PRC"
   ]
  },
  {
   "cell_type": "code",
   "execution_count": 43,
   "id": "fbac7c7e-c1b3-41d3-a068-c03570dd76e0",
   "metadata": {},
   "outputs": [],
   "source": [
    "BatchBALD =[170, 210, 290]\n",
    "Random =[250., 290., 430.]\n",
    "Var_Ratios=[170, 230, 270]\n",
    "Mean_STD =[190., 190., 290.]\n",
    "Entropy_Sampling=[130., 150., 230.]\n",
    "Least_Confidence =[150, 190, 270]\n",
    "Margin_Sampling =[130, 150, 250]"
   ]
  },
  {
   "cell_type": "code",
   "execution_count": 44,
   "id": "7004a54e-1fb3-4eed-9886-0911021869c6",
   "metadata": {},
   "outputs": [],
   "source": [
    "a = [BatchBALD, Random, Var_Ratios, Mean_STD, Entropy_Sampling, Least_Confidence, Margin_Sampling]\n",
    "b = ['BatchBALD', 'Random', 'Var_Ratios', 'Mean_STD', 'Entropy_Sampling', 'Least_Confidence', 'Margin_Sampling']"
   ]
  },
  {
   "cell_type": "code",
   "execution_count": 45,
   "id": "5f35bf7b-c2bd-4652-96f1-a619d787cd87",
   "metadata": {},
   "outputs": [],
   "source": [
    "n = 1623"
   ]
  },
  {
   "cell_type": "code",
   "execution_count": 46,
   "id": "9e5aa178-278d-48e5-b800-3a9ea9e49284",
   "metadata": {},
   "outputs": [
    {
     "name": "stdout",
     "output_type": "stream",
     "text": [
      "BatchBALD\n",
      "12.94 & [10.47, 17.87]\n",
      "\n",
      "Random\n",
      "17.87 & [15.4, 26.49]\n",
      "\n",
      "Var_Ratios\n",
      "14.17 & [10.47, 16.64]\n",
      "\n",
      "Mean_STD\n",
      "11.71 & [11.71, 17.87]\n",
      "\n",
      "Entropy_Sampling\n",
      "9.24 & [8.01, 14.17]\n",
      "\n",
      "Least_Confidence\n",
      "11.71 & [9.24, 16.64]\n",
      "\n",
      "Margin_Sampling\n",
      "9.24 & [8.01, 15.4]\n",
      "\n"
     ]
    }
   ],
   "source": [
    "for i,j in zip(a, b):\n",
    "    print(j)\n",
    "    tmp = np.divide(i, n) * 100\n",
    "    tmp = np.round(tmp, 2)\n",
    "    print(tmp[1], '&', [tmp[0], tmp[2]])\n",
    "    print()"
   ]
  },
  {
   "cell_type": "markdown",
   "id": "fdc9a054-40fa-4687-b735-c8501291f86d",
   "metadata": {},
   "source": [
    "## AU ROC"
   ]
  },
  {
   "cell_type": "code",
   "execution_count": 39,
   "id": "b0bd482a-27fd-4f83-b5cb-081a9b00b7ed",
   "metadata": {},
   "outputs": [],
   "source": [
    "BatchBALD =[130, 150, 250]\n",
    "Random =[ 90, 170, 330]\n",
    "Var_Ratios=[ 90,  90, 170]\n",
    "Mean_STD =[150, 190, 210]\n",
    "Entropy_Sampling =[130, 130, 190]\n",
    "Least_Confidence =[ 90, 170, 230]\n",
    "Margin_Sampling=[ 90., 130., 250.]\n"
   ]
  },
  {
   "cell_type": "code",
   "execution_count": 40,
   "id": "ea740054-52a0-434b-a8c2-d9e2b3fbb627",
   "metadata": {},
   "outputs": [],
   "source": [
    "a = [BatchBALD, Random, Var_Ratios, Mean_STD, Entropy_Sampling, Least_Confidence, Margin_Sampling]\n",
    "b = ['BatchBALD', 'Random', 'Var_Ratios', 'Mean_STD', 'Entropy_Sampling', 'Least_Confidence', 'Margin_Sampling']"
   ]
  },
  {
   "cell_type": "code",
   "execution_count": 41,
   "id": "60dab4be-beb0-466b-87b8-ec70b7b72d90",
   "metadata": {},
   "outputs": [],
   "source": [
    "n = 1623"
   ]
  },
  {
   "cell_type": "code",
   "execution_count": 42,
   "id": "a3e4dbc6-0c3e-410e-bbef-98d54de094a5",
   "metadata": {},
   "outputs": [
    {
     "name": "stdout",
     "output_type": "stream",
     "text": [
      "BatchBALD\n",
      "9.24 & [8.01, 15.4]\n",
      "\n",
      "Random\n",
      "10.47 & [5.55, 20.33]\n",
      "\n",
      "Var_Ratios\n",
      "5.55 & [5.55, 10.47]\n",
      "\n",
      "Mean_STD\n",
      "11.71 & [9.24, 12.94]\n",
      "\n",
      "Entropy_Sampling\n",
      "8.01 & [8.01, 11.71]\n",
      "\n",
      "Least_Confidence\n",
      "10.47 & [5.55, 14.17]\n",
      "\n",
      "Margin_Sampling\n",
      "8.01 & [5.55, 15.4]\n",
      "\n"
     ]
    }
   ],
   "source": [
    "for i,j in zip(a, b):\n",
    "    print(j)\n",
    "    tmp = np.divide(i, n) * 100\n",
    "    tmp = np.round(tmp, 2)\n",
    "    print(tmp[1], '&', [tmp[0], tmp[2]])\n",
    "    print()"
   ]
  },
  {
   "cell_type": "markdown",
   "id": "e5fafc42-cfe6-4c72-b598-2ce937fddb1e",
   "metadata": {},
   "source": [
    "## Precision"
   ]
  },
  {
   "cell_type": "code",
   "execution_count": 30,
   "id": "c557002f-8a8f-4efe-b8ac-3e5e51bc6977",
   "metadata": {},
   "outputs": [],
   "source": [
    "BatchBALD =[290., 390.,  inf]\n",
    "Random =[430.,  inf,  inf]\n",
    "Var_Ratios =[290., 330.,  inf]\n",
    "Mean_STD =[150., 210.,  inf]\n",
    "Entropy_Sampling =[inf, inf, inf]\n",
    "Least_Confidence =[230., 270.,  inf]\n",
    "Margin_Sampling =[210., 250.,  inf]"
   ]
  },
  {
   "cell_type": "code",
   "execution_count": 31,
   "id": "5489ac1c-cb10-44ee-b5b2-88976413cb80",
   "metadata": {},
   "outputs": [],
   "source": [
    "a = [BatchBALD, Random, Var_Ratios, Mean_STD, Entropy_Sampling, Least_Confidence, Margin_Sampling]\n",
    "b = ['BatchBALD', 'Random', 'Var_Ratios', 'Mean_STD', 'Entropy_Sampling', 'Least_Confidence', 'Margin_Sampling']"
   ]
  },
  {
   "cell_type": "code",
   "execution_count": 32,
   "id": "aa78ffc7-3e07-4d7a-b66d-dcaf3141f162",
   "metadata": {},
   "outputs": [],
   "source": [
    "n = 1623"
   ]
  },
  {
   "cell_type": "code",
   "execution_count": 33,
   "id": "2f46292c-a1ea-4b42-a3c5-9aadc186629b",
   "metadata": {},
   "outputs": [
    {
     "name": "stdout",
     "output_type": "stream",
     "text": [
      "BatchBALD\n",
      "24.03 & [17.87, inf]\n",
      "\n",
      "Random\n",
      "inf & [26.49, inf]\n",
      "\n",
      "Var_Ratios\n",
      "20.33 & [17.87, inf]\n",
      "\n",
      "Mean_STD\n",
      "12.94 & [9.24, inf]\n",
      "\n",
      "Entropy_Sampling\n",
      "inf & [inf, inf]\n",
      "\n",
      "Least_Confidence\n",
      "16.64 & [14.17, inf]\n",
      "\n",
      "Margin_Sampling\n",
      "15.4 & [12.94, inf]\n",
      "\n"
     ]
    }
   ],
   "source": [
    "for i,j in zip(a, b):\n",
    "    print(j)\n",
    "    tmp = np.divide(i, n) * 100\n",
    "    tmp = np.round(tmp, 2)\n",
    "    print(tmp[1], '&', [tmp[0], tmp[2]])\n",
    "    print()"
   ]
  },
  {
   "cell_type": "markdown",
   "id": "8295a423-4cfb-4099-bfba-d34c9138deff",
   "metadata": {},
   "source": [
    "## Recall"
   ]
  },
  {
   "cell_type": "code",
   "execution_count": 35,
   "id": "716084a2-ff6f-4062-a25b-c958114dbe24",
   "metadata": {},
   "outputs": [],
   "source": [
    "BatchBALD=[110, 110, 130]\n",
    "Random =[ 70,  90, 290]\n",
    "Var_Ratios=[ 90, 110, 190]\n",
    "Mean_STD =[150, 210, 270]\n",
    "Entropy_Sampling= [50,  70, 130]\n",
    "Least_Confidence=[ 70, 110, 130]\n",
    "Margin_Sampling=[130, 150, 190]"
   ]
  },
  {
   "cell_type": "code",
   "execution_count": 36,
   "id": "edba9f79-0228-4a41-8998-7dc5656cda3e",
   "metadata": {},
   "outputs": [],
   "source": [
    "a = [BatchBALD, Random, Var_Ratios, Mean_STD, Entropy_Sampling, Least_Confidence, Margin_Sampling]\n",
    "b = ['BatchBALD', 'Random', 'Var_Ratios', 'Mean_STD', 'Entropy_Sampling', 'Least_Confidence', 'Margin_Sampling']"
   ]
  },
  {
   "cell_type": "code",
   "execution_count": 37,
   "id": "011693dd-c4d2-4a71-95c4-6d94a5001538",
   "metadata": {},
   "outputs": [],
   "source": [
    "n = 1623"
   ]
  },
  {
   "cell_type": "code",
   "execution_count": 38,
   "id": "bc3e8b13-e3a0-4d69-b79b-5cd07bf5bad0",
   "metadata": {},
   "outputs": [
    {
     "name": "stdout",
     "output_type": "stream",
     "text": [
      "BatchBALD\n",
      "6.78 & [6.78, 8.01]\n",
      "\n",
      "Random\n",
      "5.55 & [4.31, 17.87]\n",
      "\n",
      "Var_Ratios\n",
      "6.78 & [5.55, 11.71]\n",
      "\n",
      "Mean_STD\n",
      "12.94 & [9.24, 16.64]\n",
      "\n",
      "Entropy_Sampling\n",
      "4.31 & [3.08, 8.01]\n",
      "\n",
      "Least_Confidence\n",
      "6.78 & [4.31, 8.01]\n",
      "\n",
      "Margin_Sampling\n",
      "9.24 & [8.01, 11.71]\n",
      "\n"
     ]
    }
   ],
   "source": [
    "for i,j in zip(a, b):\n",
    "    print(j)\n",
    "    tmp = np.divide(i, n) * 100\n",
    "    tmp = np.round(tmp, 2)\n",
    "    print(tmp[1], '&', [tmp[0], tmp[2]])\n",
    "    print()"
   ]
  },
  {
   "cell_type": "markdown",
   "id": "70767811-3c14-4680-afa0-891168604cd9",
   "metadata": {},
   "source": [
    "## Specificity"
   ]
  },
  {
   "cell_type": "code",
   "execution_count": 48,
   "id": "bf97d0a6-9098-4fbf-a61c-86c8d62e448a",
   "metadata": {},
   "outputs": [],
   "source": [
    "BatchBALD =[470.,  inf,  inf]\n",
    "Random =[310., 610.,  inf]\n",
    "Var_Ratios =[inf, inf, inf]\n",
    "Mean_STD =[inf, inf, inf]\n",
    "Entropy_Sampling=[inf, inf, inf]\n",
    "Least_Confidence =[210., 290.,  inf]\n",
    "Margin_Sampling =[170., 290.,  inf]"
   ]
  },
  {
   "cell_type": "code",
   "execution_count": 49,
   "id": "66d23163-c949-4b57-af71-aa67aead862a",
   "metadata": {},
   "outputs": [],
   "source": [
    "a = [BatchBALD, Random, Var_Ratios, Mean_STD, Entropy_Sampling, Least_Confidence, Margin_Sampling]\n",
    "b = ['BatchBALD', 'Random', 'Var_Ratios', 'Mean_STD', 'Entropy_Sampling', 'Least_Confidence', 'Margin_Sampling']"
   ]
  },
  {
   "cell_type": "code",
   "execution_count": 50,
   "id": "d4a10ccf-6c7f-4aff-b1db-503c703a96ce",
   "metadata": {},
   "outputs": [],
   "source": [
    "n = 1623"
   ]
  },
  {
   "cell_type": "code",
   "execution_count": 51,
   "id": "0f767b29-640e-41e5-b3ba-edab0dc1dcbf",
   "metadata": {},
   "outputs": [
    {
     "name": "stdout",
     "output_type": "stream",
     "text": [
      "BatchBALD\n",
      "inf & [28.96, inf]\n",
      "\n",
      "Random\n",
      "37.58 & [19.1, inf]\n",
      "\n",
      "Var_Ratios\n",
      "inf & [inf, inf]\n",
      "\n",
      "Mean_STD\n",
      "inf & [inf, inf]\n",
      "\n",
      "Entropy_Sampling\n",
      "inf & [inf, inf]\n",
      "\n",
      "Least_Confidence\n",
      "17.87 & [12.94, inf]\n",
      "\n",
      "Margin_Sampling\n",
      "17.87 & [10.47, inf]\n",
      "\n"
     ]
    }
   ],
   "source": [
    "for i,j in zip(a, b):\n",
    "    print(j)\n",
    "    tmp = np.divide(i, n) * 100\n",
    "    tmp = np.round(tmp, 2)\n",
    "    print(tmp[1], '&', [tmp[0], tmp[2]])\n",
    "    print()"
   ]
  },
  {
   "cell_type": "code",
   "execution_count": null,
   "id": "e5a630c5-4041-40e6-8c6c-e590e56a2976",
   "metadata": {},
   "outputs": [],
   "source": []
  },
  {
   "cell_type": "code",
   "execution_count": null,
   "id": "3ee9b4a8-70f3-47eb-9a46-0b5cc30c46d8",
   "metadata": {},
   "outputs": [],
   "source": []
  },
  {
   "cell_type": "markdown",
   "id": "cda0ee77-d968-477b-8f8a-627d00a27036",
   "metadata": {},
   "source": [
    "# Multi"
   ]
  },
  {
   "cell_type": "markdown",
   "id": "9d49348e-aeae-4aca-af90-c23804452cec",
   "metadata": {},
   "source": [
    "## Accuracy"
   ]
  },
  {
   "cell_type": "code",
   "execution_count": 75,
   "id": "4cd223e3-1cde-4301-9afb-2ba4d0242dc5",
   "metadata": {},
   "outputs": [],
   "source": [
    "BatchBALD =[435., 475., 575.]\n",
    "Random =[475., 535., 655.]\n",
    "Var_Ratios=[415., 455., 715.]\n",
    "Mean_STD =[315, 315, 475]\n",
    "Entropy_Sampling=[275, 295, 435]\n",
    "Least_Confidence=[455, 595, 615]\n",
    "Margin_Sampling=[275., 315., 435.]"
   ]
  },
  {
   "cell_type": "code",
   "execution_count": 76,
   "id": "09cdea64-cdf3-4a68-bb3d-4f363285201a",
   "metadata": {},
   "outputs": [],
   "source": [
    "a = [BatchBALD, Random, Var_Ratios, Mean_STD, Entropy_Sampling, Least_Confidence, Margin_Sampling]\n",
    "b = ['BatchBALD', 'Random', 'Var_Ratios', 'Mean_STD', 'Entropy_Sampling', 'Least_Confidence', 'Margin_Sampling']"
   ]
  },
  {
   "cell_type": "code",
   "execution_count": 77,
   "id": "b51ecf05-acf1-4623-ae74-82a377517973",
   "metadata": {},
   "outputs": [],
   "source": [
    "n = 1623"
   ]
  },
  {
   "cell_type": "code",
   "execution_count": 78,
   "id": "9436b32e-e3eb-40e5-808e-500b0c3fcd13",
   "metadata": {},
   "outputs": [
    {
     "name": "stdout",
     "output_type": "stream",
     "text": [
      "BatchBALD\n",
      "29.27 & [26.8, 35.43]\n",
      "\n",
      "Random\n",
      "32.96 & [29.27, 40.36]\n",
      "\n",
      "Var_Ratios\n",
      "28.03 & [25.57, 44.05]\n",
      "\n",
      "Mean_STD\n",
      "19.41 & [19.41, 29.27]\n",
      "\n",
      "Entropy_Sampling\n",
      "18.18 & [16.94, 26.8]\n",
      "\n",
      "Least_Confidence\n",
      "36.66 & [28.03, 37.89]\n",
      "\n",
      "Margin_Sampling\n",
      "19.41 & [16.94, 26.8]\n",
      "\n"
     ]
    }
   ],
   "source": [
    "for i,j in zip(a, b):\n",
    "    print(j)\n",
    "    tmp = np.divide(i, n) * 100\n",
    "    tmp = np.round(tmp, 2)\n",
    "    print(tmp[1], '&', [tmp[0], tmp[2]])\n",
    "    print()"
   ]
  },
  {
   "cell_type": "markdown",
   "id": "959a0963-9e1c-4d2c-b3b7-1ebf8c8d3ef8",
   "metadata": {},
   "source": [
    "## F1"
   ]
  },
  {
   "cell_type": "code",
   "execution_count": 79,
   "id": "eb5aaafa-4ffc-418f-9fbf-ae0b828fc867",
   "metadata": {},
   "outputs": [],
   "source": [
    "BatchBALD =[435, 475, 495]\n",
    "Random =[515., 655.,  inf]\n",
    "Var_Ratios =[275, 415, 475]\n",
    "Mean_STD= [315, 315, 475]\n",
    "Entropy_Sampling= [275., 295., 555.]\n",
    "Least_Confidence = [435, 515, 615]\n",
    "Margin_Sampling = [315., 375., 695.]"
   ]
  },
  {
   "cell_type": "code",
   "execution_count": 80,
   "id": "58771ac9-1c62-4ff3-b13d-4cbd268ee335",
   "metadata": {},
   "outputs": [],
   "source": [
    "a = [BatchBALD, Random, Var_Ratios, Mean_STD, Entropy_Sampling, Least_Confidence, Margin_Sampling]\n",
    "b = ['BatchBALD', 'Random', 'Var_Ratios', 'Mean_STD', 'Entropy_Sampling', 'Least_Confidence', 'Margin_Sampling']"
   ]
  },
  {
   "cell_type": "code",
   "execution_count": 81,
   "id": "a4290c10-1d23-4e56-908f-aa42e789d89f",
   "metadata": {},
   "outputs": [],
   "source": [
    "n = 1623"
   ]
  },
  {
   "cell_type": "code",
   "execution_count": 82,
   "id": "654f8b3c-946c-487f-a5be-a13058a47e12",
   "metadata": {},
   "outputs": [
    {
     "name": "stdout",
     "output_type": "stream",
     "text": [
      "BatchBALD\n",
      "29.27 & [26.8, 30.5]\n",
      "\n",
      "Random\n",
      "40.36 & [31.73, inf]\n",
      "\n",
      "Var_Ratios\n",
      "25.57 & [16.94, 29.27]\n",
      "\n",
      "Mean_STD\n",
      "19.41 & [19.41, 29.27]\n",
      "\n",
      "Entropy_Sampling\n",
      "18.18 & [16.94, 34.2]\n",
      "\n",
      "Least_Confidence\n",
      "31.73 & [26.8, 37.89]\n",
      "\n",
      "Margin_Sampling\n",
      "23.11 & [19.41, 42.82]\n",
      "\n"
     ]
    }
   ],
   "source": [
    "for i,j in zip(a, b):\n",
    "    print(j)\n",
    "    tmp = np.divide(i, n) * 100\n",
    "    tmp = np.round(tmp, 2)\n",
    "    print(tmp[1], '&', [tmp[0], tmp[2]])\n",
    "    print()"
   ]
  },
  {
   "cell_type": "markdown",
   "id": "aa7b6149-2fc8-41c4-aebb-1d33f42978c9",
   "metadata": {},
   "source": [
    "## AU PRC"
   ]
  },
  {
   "cell_type": "code",
   "execution_count": 83,
   "id": "234cc8c9-11ec-4c58-b0fc-3ca53cb31a75",
   "metadata": {},
   "outputs": [],
   "source": [
    "BatchBALD =[335, 375, 435]\n",
    "Random =[255., 355.,  inf]\n",
    "Var_Ratios=[415., 455.,  inf]\n",
    "Mean_STD =[275., 315., 395.]\n",
    "Entropy_Sampling=[275., 295., 435.]\n",
    "Least_Confidence=[275, 315, 455]\n",
    "Margin_Sampling =[275., 315., 395.]\n"
   ]
  },
  {
   "cell_type": "code",
   "execution_count": 84,
   "id": "6b8195f3-b6df-46af-81e3-fb5b4fa58d65",
   "metadata": {},
   "outputs": [],
   "source": [
    "a = [BatchBALD, Random, Var_Ratios, Mean_STD, Entropy_Sampling, Least_Confidence, Margin_Sampling]\n",
    "b = ['BatchBALD', 'Random', 'Var_Ratios', 'Mean_STD', 'Entropy_Sampling', 'Least_Confidence', 'Margin_Sampling']"
   ]
  },
  {
   "cell_type": "code",
   "execution_count": 85,
   "id": "7990835d-5e59-4df0-a1bf-282240d07e51",
   "metadata": {},
   "outputs": [],
   "source": [
    "n = 1623"
   ]
  },
  {
   "cell_type": "code",
   "execution_count": 86,
   "id": "d2c818bd-1ce1-4dcd-a88d-6b2c175739bd",
   "metadata": {},
   "outputs": [
    {
     "name": "stdout",
     "output_type": "stream",
     "text": [
      "BatchBALD\n",
      "23.11 & [20.64, 26.8]\n",
      "\n",
      "Random\n",
      "21.87 & [15.71, inf]\n",
      "\n",
      "Var_Ratios\n",
      "28.03 & [25.57, inf]\n",
      "\n",
      "Mean_STD\n",
      "19.41 & [16.94, 24.34]\n",
      "\n",
      "Entropy_Sampling\n",
      "18.18 & [16.94, 26.8]\n",
      "\n",
      "Least_Confidence\n",
      "19.41 & [16.94, 28.03]\n",
      "\n",
      "Margin_Sampling\n",
      "19.41 & [16.94, 24.34]\n",
      "\n"
     ]
    }
   ],
   "source": [
    "for i,j in zip(a, b):\n",
    "    print(j)\n",
    "    tmp = np.divide(i, n) * 100\n",
    "    tmp = np.round(tmp, 2)\n",
    "    print(tmp[1], '&', [tmp[0], tmp[2]])\n",
    "    print()"
   ]
  },
  {
   "cell_type": "markdown",
   "id": "98d7fded-3e37-4cc9-aa67-7abe0e513471",
   "metadata": {},
   "source": [
    "## AU ROC"
   ]
  },
  {
   "cell_type": "code",
   "execution_count": 87,
   "id": "c7d2995d-2ec3-4d59-a15b-67fea3219bd2",
   "metadata": {},
   "outputs": [],
   "source": [
    "BatchBALD =[415., 435., 475.]\n",
    "Random =[495., 515.,  inf]\n",
    "Var_Ratios=[415.,  inf,  inf]\n",
    "Mean_STD =[275., 315., 395.]\n",
    "Entropy_Sampling =[275., 295., 555.]\n",
    "Least_Confidence=[355, 435, 535]\n",
    "Margin_Sampling =[275., 315.,  inf]"
   ]
  },
  {
   "cell_type": "code",
   "execution_count": 88,
   "id": "c7b49483-9f48-40ea-80f0-be958045bf98",
   "metadata": {},
   "outputs": [],
   "source": [
    "a = [BatchBALD, Random, Var_Ratios, Mean_STD, Entropy_Sampling, Least_Confidence, Margin_Sampling]\n",
    "b = ['BatchBALD', 'Random', 'Var_Ratios', 'Mean_STD', 'Entropy_Sampling', 'Least_Confidence', 'Margin_Sampling']"
   ]
  },
  {
   "cell_type": "code",
   "execution_count": 89,
   "id": "6d95d8e2-1b67-43b1-909b-69474fb6e21b",
   "metadata": {},
   "outputs": [],
   "source": [
    "n = 1623"
   ]
  },
  {
   "cell_type": "code",
   "execution_count": 90,
   "id": "c121ef43-d47f-4649-aa80-79c1d4aa8a33",
   "metadata": {},
   "outputs": [
    {
     "name": "stdout",
     "output_type": "stream",
     "text": [
      "BatchBALD\n",
      "26.8 & [25.57, 29.27]\n",
      "\n",
      "Random\n",
      "31.73 & [30.5, inf]\n",
      "\n",
      "Var_Ratios\n",
      "inf & [25.57, inf]\n",
      "\n",
      "Mean_STD\n",
      "19.41 & [16.94, 24.34]\n",
      "\n",
      "Entropy_Sampling\n",
      "18.18 & [16.94, 34.2]\n",
      "\n",
      "Least_Confidence\n",
      "26.8 & [21.87, 32.96]\n",
      "\n",
      "Margin_Sampling\n",
      "19.41 & [16.94, inf]\n",
      "\n"
     ]
    }
   ],
   "source": [
    "for i,j in zip(a, b):\n",
    "    print(j)\n",
    "    tmp = np.divide(i, n) * 100\n",
    "    tmp = np.round(tmp, 2)\n",
    "    print(tmp[1], '&', [tmp[0], tmp[2]])\n",
    "    print()"
   ]
  },
  {
   "cell_type": "markdown",
   "id": "ae1a9de2-15a7-4cef-be0e-bcf196d9004d",
   "metadata": {},
   "source": [
    "## Precision"
   ]
  },
  {
   "cell_type": "code",
   "execution_count": 91,
   "id": "6e540e07-83d8-4f2e-91b9-87b6bd157376",
   "metadata": {},
   "outputs": [],
   "source": [
    "BatchBALD =[475., 575.,  inf]\n",
    "Random =[475.,  inf,  inf]\n",
    "Var_Ratios =[275.,  inf,  inf]\n",
    "Mean_STD =[315., 315.,  inf]\n",
    "Entropy_Sampling = [255., 655.,  inf]\n",
    "Least_Confidence =[295., 655.,  inf]\n",
    "Margin_Sampling=[375., 435.,  inf]\n"
   ]
  },
  {
   "cell_type": "code",
   "execution_count": 92,
   "id": "db18dd8e-6d01-4940-aa1b-e46b33a060d6",
   "metadata": {},
   "outputs": [],
   "source": [
    "a = [BatchBALD, Random, Var_Ratios, Mean_STD, Entropy_Sampling, Least_Confidence, Margin_Sampling]\n",
    "b = ['BatchBALD', 'Random', 'Var_Ratios', 'Mean_STD', 'Entropy_Sampling', 'Least_Confidence', 'Margin_Sampling']"
   ]
  },
  {
   "cell_type": "code",
   "execution_count": 93,
   "id": "f2f35632-560c-4791-b22c-8f1ca8fbbdf6",
   "metadata": {},
   "outputs": [],
   "source": [
    "n = 1623"
   ]
  },
  {
   "cell_type": "code",
   "execution_count": 94,
   "id": "e01aec18-15ba-4499-a7ee-0f78ffe57a41",
   "metadata": {},
   "outputs": [
    {
     "name": "stdout",
     "output_type": "stream",
     "text": [
      "BatchBALD\n",
      "35.43 & [29.27, inf]\n",
      "\n",
      "Random\n",
      "inf & [29.27, inf]\n",
      "\n",
      "Var_Ratios\n",
      "inf & [16.94, inf]\n",
      "\n",
      "Mean_STD\n",
      "19.41 & [19.41, inf]\n",
      "\n",
      "Entropy_Sampling\n",
      "40.36 & [15.71, inf]\n",
      "\n",
      "Least_Confidence\n",
      "40.36 & [18.18, inf]\n",
      "\n",
      "Margin_Sampling\n",
      "26.8 & [23.11, inf]\n",
      "\n"
     ]
    }
   ],
   "source": [
    "for i,j in zip(a, b):\n",
    "    print(j)\n",
    "    tmp = np.divide(i, n) * 100\n",
    "    tmp = np.round(tmp, 2)\n",
    "    print(tmp[1], '&', [tmp[0], tmp[2]])\n",
    "    print()"
   ]
  },
  {
   "cell_type": "markdown",
   "id": "1afac6ea-827f-46cc-bb6b-76cf1cb9a64c",
   "metadata": {},
   "source": [
    "## Recall"
   ]
  },
  {
   "cell_type": "code",
   "execution_count": 95,
   "id": "64e9c1e3-4b4d-4446-ad31-065808616c53",
   "metadata": {},
   "outputs": [],
   "source": [
    "BatchBALD =[415, 415, 435]\n",
    "Random =[235., 255., 435.]\n",
    "Var_Ratios=[275, 295, 375]\n",
    "Mean_STD =[175, 255, 315]\n",
    "Entropy_Sampling=[235, 275, 295]\n",
    "Least_Confidence=[275, 275, 355]\n",
    "Margin_Sampling=[235., 275.,  inf]"
   ]
  },
  {
   "cell_type": "code",
   "execution_count": 96,
   "id": "51833db9-cf79-40a7-964e-97c448a5748a",
   "metadata": {},
   "outputs": [],
   "source": [
    "a = [BatchBALD, Random, Var_Ratios, Mean_STD, Entropy_Sampling, Least_Confidence, Margin_Sampling]\n",
    "b = ['BatchBALD', 'Random', 'Var_Ratios', 'Mean_STD', 'Entropy_Sampling', 'Least_Confidence', 'Margin_Sampling']"
   ]
  },
  {
   "cell_type": "code",
   "execution_count": 97,
   "id": "fc3480a0-3cf8-48bf-9795-0307b9e7563b",
   "metadata": {},
   "outputs": [],
   "source": [
    "n = 1623"
   ]
  },
  {
   "cell_type": "code",
   "execution_count": 98,
   "id": "db675031-9659-4c7b-aa5a-40629e800ac8",
   "metadata": {},
   "outputs": [
    {
     "name": "stdout",
     "output_type": "stream",
     "text": [
      "BatchBALD\n",
      "25.57 & [25.57, 26.8]\n",
      "\n",
      "Random\n",
      "15.71 & [14.48, 26.8]\n",
      "\n",
      "Var_Ratios\n",
      "18.18 & [16.94, 23.11]\n",
      "\n",
      "Mean_STD\n",
      "15.71 & [10.78, 19.41]\n",
      "\n",
      "Entropy_Sampling\n",
      "16.94 & [14.48, 18.18]\n",
      "\n",
      "Least_Confidence\n",
      "16.94 & [16.94, 21.87]\n",
      "\n",
      "Margin_Sampling\n",
      "16.94 & [14.48, inf]\n",
      "\n"
     ]
    }
   ],
   "source": [
    "for i,j in zip(a, b):\n",
    "    print(j)\n",
    "    tmp = np.divide(i, n) * 100\n",
    "    tmp = np.round(tmp, 2)\n",
    "    print(tmp[1], '&', [tmp[0], tmp[2]])\n",
    "    print()"
   ]
  },
  {
   "cell_type": "markdown",
   "id": "bbdc3c08-b0dd-4367-9282-aa4d96947ab5",
   "metadata": {},
   "source": [
    "## Specificity"
   ]
  },
  {
   "cell_type": "code",
   "execution_count": 99,
   "id": "5bfd55ed-f87a-4de0-a773-3953a544f0b0",
   "metadata": {},
   "outputs": [],
   "source": [
    "BatchBALD =[375, 415, 435]\n",
    "Random =[295, 355, 475]\n",
    "Var_Ratios=[275, 415, 575]\n",
    "Mean_STD =[195, 255, 395]\n",
    "Entropy_Sampling=[275, 295, 435]\n",
    "Least_Confidence=[375, 435, 515]\n",
    "Margin_Sampling =[235, 275, 375]\n"
   ]
  },
  {
   "cell_type": "code",
   "execution_count": 100,
   "id": "1a8abba6-42b0-404b-8c30-55adeb19e749",
   "metadata": {},
   "outputs": [],
   "source": [
    "a = [BatchBALD, Random, Var_Ratios, Mean_STD, Entropy_Sampling, Least_Confidence, Margin_Sampling]\n",
    "b = ['BatchBALD', 'Random', 'Var_Ratios', 'Mean_STD', 'Entropy_Sampling', 'Least_Confidence', 'Margin_Sampling']"
   ]
  },
  {
   "cell_type": "code",
   "execution_count": 101,
   "id": "190f5aec-1bda-4f1b-9051-c5dd790cd870",
   "metadata": {},
   "outputs": [],
   "source": [
    "n = 1623"
   ]
  },
  {
   "cell_type": "code",
   "execution_count": 102,
   "id": "73a8b0e0-6e39-4300-91b8-54b54d995dd4",
   "metadata": {},
   "outputs": [
    {
     "name": "stdout",
     "output_type": "stream",
     "text": [
      "BatchBALD\n",
      "25.57 & [23.11, 26.8]\n",
      "\n",
      "Random\n",
      "21.87 & [18.18, 29.27]\n",
      "\n",
      "Var_Ratios\n",
      "25.57 & [16.94, 35.43]\n",
      "\n",
      "Mean_STD\n",
      "15.71 & [12.01, 24.34]\n",
      "\n",
      "Entropy_Sampling\n",
      "18.18 & [16.94, 26.8]\n",
      "\n",
      "Least_Confidence\n",
      "26.8 & [23.11, 31.73]\n",
      "\n",
      "Margin_Sampling\n",
      "16.94 & [14.48, 23.11]\n",
      "\n"
     ]
    }
   ],
   "source": [
    "for i,j in zip(a, b):\n",
    "    print(j)\n",
    "    tmp = np.divide(i, n) * 100\n",
    "    tmp = np.round(tmp, 2)\n",
    "    print(tmp[1], '&', [tmp[0], tmp[2]])\n",
    "    print()"
   ]
  },
  {
   "cell_type": "code",
   "execution_count": null,
   "id": "0b34b62e-4272-4217-bd89-e98c177d38a2",
   "metadata": {},
   "outputs": [],
   "source": []
  }
 ],
 "metadata": {
  "kernelspec": {
   "display_name": "Python 3 (ipykernel)",
   "language": "python",
   "name": "python3"
  },
  "language_info": {
   "codemirror_mode": {
    "name": "ipython",
    "version": 3
   },
   "file_extension": ".py",
   "mimetype": "text/x-python",
   "name": "python",
   "nbconvert_exporter": "python",
   "pygments_lexer": "ipython3",
   "version": "3.11.7"
  }
 },
 "nbformat": 4,
 "nbformat_minor": 5
}
