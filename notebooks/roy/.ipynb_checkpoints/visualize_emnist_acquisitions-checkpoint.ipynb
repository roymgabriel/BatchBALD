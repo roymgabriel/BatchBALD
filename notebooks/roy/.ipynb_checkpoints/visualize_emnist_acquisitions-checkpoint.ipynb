{
 "cells": [
  {
   "cell_type": "code",
   "execution_count": 57,
   "metadata": {
    "ExecuteTime": {
     "end_time": "2019-06-18T17:07:17.353401Z",
     "start_time": "2019-06-18T17:07:17.331654Z"
    }
   },
   "outputs": [],
   "source": [
    "import blackhc.notebook"
   ]
  },
  {
   "cell_type": "code",
   "execution_count": 58,
   "metadata": {
    "ExecuteTime": {
     "end_time": "2019-06-18T17:07:17.626743Z",
     "start_time": "2019-06-18T17:07:17.617988Z"
    }
   },
   "outputs": [],
   "source": [
    "import recover_model\n",
    "import al_notebook.results_loader as rl\n",
    "import al_notebook.show_batch as sb\n",
    "import prettyprinter as pp\n",
    "import al_notebook.plots as alp"
   ]
  },
  {
   "cell_type": "code",
   "execution_count": 59,
   "metadata": {
    "ExecuteTime": {
     "end_time": "2019-06-18T17:07:17.646540Z",
     "start_time": "2019-06-18T17:07:17.638086Z"
    }
   },
   "outputs": [],
   "source": [
    "import glob\n",
    "import os"
   ]
  },
  {
   "cell_type": "code",
   "execution_count": 60,
   "metadata": {
    "ExecuteTime": {
     "end_time": "2019-06-18T17:07:17.736908Z",
     "start_time": "2019-06-18T17:07:17.723077Z"
    }
   },
   "outputs": [],
   "source": [
    "import matplotlib.pyplot as plt\n",
    "import numpy as np"
   ]
  },
  {
   "cell_type": "code",
   "execution_count": 61,
   "metadata": {
    "ExecuteTime": {
     "end_time": "2019-06-18T17:07:17.916658Z",
     "start_time": "2019-06-18T17:07:17.899096Z"
    }
   },
   "outputs": [],
   "source": [
    "def get_labels(dataset, indices):\n",
    "    return [dataset[index][1] for index in indices]\n"
   ]
  },
  {
   "cell_type": "code",
   "execution_count": 62,
   "metadata": {
    "ExecuteTime": {
     "end_time": "2019-06-18T17:07:18.023318Z",
     "start_time": "2019-06-18T17:07:18.011864Z"
    }
   },
   "outputs": [],
   "source": [
    "from dataclasses import dataclass\n",
    "\n",
    "@dataclass\n",
    "class Entropies:\n",
    "    entropies: list\n",
    "    step_entropies: list"
   ]
  },
  {
   "cell_type": "code",
   "execution_count": 63,
   "metadata": {
    "ExecuteTime": {
     "end_time": "2019-06-18T17:07:18.188466Z",
     "start_time": "2019-06-18T17:07:18.164082Z"
    }
   },
   "outputs": [],
   "source": [
    "def get_bins(labels, num_classes=10):\n",
    "    buckets, count = np.unique(labels, return_counts=True)\n",
    "    density = count\n",
    "    \n",
    "    #print('\\n'.join(f'{l}: {c} ({d})' for l, c, d in zip(buckets, count, density)))\n",
    "    \n",
    "    bars = [0]*num_classes\n",
    "    for index, d in zip(buckets, density):\n",
    "       bars[index] = d\n",
    "    \n",
    "    return bars\n",
    "\n",
    "def plot_categories_counts(labels, num_classes=10, axes=None):\n",
    "    buckets, count = np.unique(labels, return_counts=True)\n",
    "    density = count \n",
    "    \n",
    "    #print('\\n'.join(f'{l}: {c} ({d})' for l, c, d in zip(buckets, count, density)))\n",
    "    \n",
    "    bars = [0]*num_classes\n",
    "    for index, d in zip(buckets, density):\n",
    "       bars[index] = d\n",
    "    \n",
    "    axes.set_ylabel('Acquisition count')\n",
    "    axes.set_xlabel('Label')\n",
    "    axes.bar(list(range(num_classes)), bars, tick_label=list(range(num_classes)))\n",
    "\n",
    "\n",
    "def get_label_entropy(labels):\n",
    "    buckets, count = np.unique(labels, return_counts=True)\n",
    "    density = count / len(labels)\n",
    "    entropy = -np.sum(density * np.log(density), axis=0)\n",
    "    return entropy"
   ]
  },
  {
   "cell_type": "code",
   "execution_count": 64,
   "metadata": {
    "ExecuteTime": {
     "end_time": "2019-06-18T17:07:18.321604Z",
     "start_time": "2019-06-18T17:07:18.300277Z"
    }
   },
   "outputs": [],
   "source": [
    "def compute_acquisition_entropies(dataset, samples):\n",
    "    labels = []\n",
    "    entropies = []\n",
    "    step_entropies = []\n",
    "    for i, samples_i in enumerate(samples):\n",
    "        if len(samples_i) > 0:\n",
    "            labels.extend(get_labels(dataset, samples_i))\n",
    "            step_entropies.append(get_label_entropy(samples_i))\n",
    "        else:\n",
    "            step_entropies.append(0)\n",
    "            \n",
    "        entropies.append(get_label_entropy(labels))        \n",
    "        \n",
    "    #return Entropies(entropies, step_entropies)\n",
    "    return entropies"
   ]
  },
  {
   "cell_type": "code",
   "execution_count": 65,
   "metadata": {
    "ExecuteTime": {
     "end_time": "2019-06-18T17:07:18.466342Z",
     "start_time": "2019-06-18T17:07:18.446068Z"
    }
   },
   "outputs": [
    {
     "name": "stderr",
     "output_type": "stream",
     "text": [
      "/home/blackhc/anaconda3/envs/active_learning/lib/python3.7/site-packages/ipykernel_launcher.py:1: RuntimeWarning: divide by zero encountered in log\n",
      "  \"\"\"Entry point for launching an IPython kernel.\n",
      "/home/blackhc/anaconda3/envs/active_learning/lib/python3.7/site-packages/ipykernel_launcher.py:1: RuntimeWarning: invalid value encountered in multiply\n",
      "  \"\"\"Entry point for launching an IPython kernel.\n"
     ]
    },
    {
     "data": {
      "text/plain": [
       "nan"
      ]
     },
     "execution_count": 65,
     "metadata": {},
     "output_type": "execute_result"
    }
   ],
   "source": [
    "np.sum(np.asarray(0)*np.log(np.asarray(0)))"
   ]
  },
  {
   "cell_type": "code",
   "execution_count": 66,
   "metadata": {
    "ExecuteTime": {
     "end_time": "2019-06-18T17:07:18.585465Z",
     "start_time": "2019-06-18T17:07:18.572741Z"
    }
   },
   "outputs": [],
   "source": [
    "plt.close('all')"
   ]
  },
  {
   "cell_type": "code",
   "execution_count": 67,
   "metadata": {
    "ExecuteTime": {
     "end_time": "2019-06-18T17:07:19.194245Z",
     "start_time": "2019-06-18T17:07:18.743748Z"
    }
   },
   "outputs": [
    {
     "name": "stdout",
     "output_type": "stream",
     "text": [
      "emnist_independent_bald_k10_218487.py  emnist_multibald_bald_k100_706460.py\r\n",
      "emnist_independent_bald_k10_335690.py  emnist_multibald_bald_k100_728719.py\r\n",
      "emnist_independent_bald_k10_629535.py  emnist_multibald_bald_k100_779382.py\r\n",
      "emnist_independent_bald_k10_706460.py  emnist_multibald_bald_k10_218487.py\r\n",
      "emnist_independent_bald_k10_728719.py  emnist_multibald_bald_k10_335690.py\r\n",
      "emnist_independent_bald_k10_779382.py  emnist_multibald_bald_k10_629535.py\r\n",
      "emnist_multibald_bald_k100_218487.py   emnist_multibald_bald_k10_706460.py\r\n",
      "emnist_multibald_bald_k100_335690.py   emnist_multibald_bald_k10_728719.py\r\n",
      "emnist_multibald_bald_k100_629535.py   emnist_multibald_bald_k10_779382.py\r\n"
     ]
    }
   ],
   "source": [
    "%ls ./laaos_results/emnist_bbb/"
   ]
  },
  {
   "cell_type": "code",
   "execution_count": 68,
   "metadata": {
    "ExecuteTime": {
     "end_time": "2019-06-18T17:07:19.628762Z",
     "start_time": "2019-06-18T17:07:19.195650Z"
    }
   },
   "outputs": [
    {
     "name": "stdout",
     "output_type": "stream",
     "text": [
      "emnist_balanced_independent_random_k10_b5_107646.py\r\n",
      "emnist_balanced_independent_random_k10_b5_129113.py\r\n",
      "emnist_balanced_independent_random_k10_b5_267494.py\r\n",
      "emnist_balanced_independent_random_k10_b5_482739.py\r\n",
      "emnist_balanced_independent_random_k10_b5_507556.py\r\n",
      "emnist_balanced_independent_random_k10_b5_67927.py\r\n"
     ]
    }
   ],
   "source": [
    "%ls ./laaos_results/emnist_balanaced_random/"
   ]
  },
  {
   "cell_type": "code",
   "execution_count": 69,
   "metadata": {
    "ExecuteTime": {
     "end_time": "2019-06-18T17:07:19.639526Z",
     "start_time": "2019-06-18T17:07:19.630078Z"
    }
   },
   "outputs": [],
   "source": [
    "import os"
   ]
  },
  {
   "cell_type": "code",
   "execution_count": 70,
   "metadata": {
    "ExecuteTime": {
     "end_time": "2019-06-18T17:07:19.652837Z",
     "start_time": "2019-06-18T17:07:19.640830Z"
    }
   },
   "outputs": [],
   "source": [
    "batchbalds = list(map(lambda p: \"emnist_bbb/\" + os.path.basename(p), glob.glob('./laaos_results/emnist_bbb/*multibald*.py')))\n",
    "balds = list(map(lambda p: \"emnist_bbb/\" + os.path.basename(p), glob.glob('./laaos_results/emnist_bbb/*_independent_bald_*.py')))\n",
    "randoms = list(map(lambda p: \"emnist_balanaced_random/\" + os.path.basename(p), glob.glob('./laaos_results/emnist_balanaced_random/*.py')))"
   ]
  },
  {
   "cell_type": "code",
   "execution_count": 71,
   "metadata": {
    "ExecuteTime": {
     "end_time": "2019-06-18T17:07:19.663638Z",
     "start_time": "2019-06-18T17:07:19.653981Z"
    }
   },
   "outputs": [
    {
     "data": {
      "text/plain": [
       "['emnist_bbb/emnist_independent_bald_k10_629535.py',\n",
       " 'emnist_bbb/emnist_independent_bald_k10_218487.py',\n",
       " 'emnist_bbb/emnist_independent_bald_k10_779382.py',\n",
       " 'emnist_bbb/emnist_independent_bald_k10_728719.py',\n",
       " 'emnist_bbb/emnist_independent_bald_k10_335690.py',\n",
       " 'emnist_bbb/emnist_independent_bald_k10_706460.py']"
      ]
     },
     "execution_count": 71,
     "metadata": {},
     "output_type": "execute_result"
    }
   ],
   "source": [
    "balds"
   ]
  },
  {
   "cell_type": "code",
   "execution_count": 72,
   "metadata": {
    "ExecuteTime": {
     "end_time": "2019-06-18T17:07:19.776355Z",
     "start_time": "2019-06-18T17:07:19.664945Z"
    }
   },
   "outputs": [],
   "source": [
    "stores = rl.load_experiment_results('emnist_bbb', 'emnist_balanaced_random')"
   ]
  },
  {
   "cell_type": "code",
   "execution_count": 73,
   "metadata": {
    "ExecuteTime": {
     "end_time": "2019-06-18T17:07:19.786817Z",
     "start_time": "2019-06-18T17:07:19.777316Z"
    }
   },
   "outputs": [
    {
     "data": {
      "text/plain": [
       "['emnist_bbb/emnist_multibald_bald_k10_706460.py',\n",
       " 'emnist_bbb/emnist_multibald_bald_k10_335690.py',\n",
       " 'emnist_bbb/emnist_multibald_bald_k100_629535.py',\n",
       " 'emnist_bbb/emnist_independent_bald_k10_629535.py',\n",
       " 'emnist_bbb/emnist_multibald_bald_k100_335690.py',\n",
       " 'emnist_bbb/emnist_independent_bald_k10_218487.py',\n",
       " 'emnist_bbb/emnist_multibald_bald_k10_779382.py',\n",
       " 'emnist_bbb/emnist_multibald_bald_k10_629535.py',\n",
       " 'emnist_bbb/emnist_independent_bald_k10_779382.py',\n",
       " 'emnist_bbb/emnist_independent_bald_k10_728719.py',\n",
       " 'emnist_bbb/emnist_multibald_bald_k100_706460.py',\n",
       " 'emnist_bbb/emnist_multibald_bald_k100_779382.py',\n",
       " 'emnist_bbb/emnist_independent_bald_k10_335690.py',\n",
       " 'emnist_bbb/emnist_multibald_bald_k10_218487.py',\n",
       " 'emnist_bbb/emnist_multibald_bald_k100_728719.py',\n",
       " 'emnist_bbb/emnist_multibald_bald_k100_218487.py',\n",
       " 'emnist_bbb/emnist_independent_bald_k10_706460.py',\n",
       " 'emnist_bbb/emnist_multibald_bald_k10_728719.py',\n",
       " 'emnist_balanaced_random/emnist_balanced_independent_random_k10_b5_107646.py',\n",
       " 'emnist_balanaced_random/emnist_balanced_independent_random_k10_b5_129113.py',\n",
       " 'emnist_balanaced_random/emnist_balanced_independent_random_k10_b5_267494.py',\n",
       " 'emnist_balanaced_random/emnist_balanced_independent_random_k10_b5_67927.py',\n",
       " 'emnist_balanaced_random/emnist_balanced_independent_random_k10_b5_507556.py',\n",
       " 'emnist_balanaced_random/emnist_balanced_independent_random_k10_b5_482739.py']"
      ]
     },
     "execution_count": 73,
     "metadata": {},
     "output_type": "execute_result"
    }
   ],
   "source": [
    "list(stores.keys())"
   ]
  },
  {
   "cell_type": "code",
   "execution_count": 74,
   "metadata": {
    "ExecuteTime": {
     "end_time": "2019-06-18T17:07:19.999379Z",
     "start_time": "2019-06-18T17:07:19.788292Z"
    }
   },
   "outputs": [
    {
     "name": "stdout",
     "output_type": "stream",
     "text": [
      "al_notebook.results_loader._Result(\n",
      "    args=al_notebook.results_loader._args(\n",
      "        name='emnist_multibald_bald_k10_706460',\n",
      "        available_sample_k=5,\n",
      "        num_inference_samples=10,\n",
      "        seed=706460,\n",
      "        acquisition_method=acquisition_method.AcquisitionMethod.multibald,\n",
      "        experiment_description='EMNIST with b5 and k10, k100 with both BALD and BatchBALD',\n",
      "        type=acquisition_functions.AcquisitionFunction.bald,\n",
      "        batch_size=64,\n",
      "        scoring_batch_size=512,\n",
      "        test_batch_size=512,\n",
      "        validation_set_size=16384,\n",
      "        early_stopping_patience=3,\n",
      "        epochs=40,\n",
      "        epoch_samples=20224,\n",
      "        target_accuracy=0.85,\n",
      "        target_num_acquired_samples=300,\n",
      "        log_interval=20,\n",
      "        dataset=dataset_enum.DatasetEnum.emnist,\n",
      "        initial_samples=[],\n",
      "        experiment_task_id=5,\n",
      "        experiments_laaos='./experiment_configs/emnist_bbb/configs.py',\n",
      "        no_cuda=False,\n",
      "        quickquick=False,\n",
      "        initial_samples_per_class=2\n",
      "    ),\n",
      "    cmdline=[\n",
      "        './src/ignite_mnist.py',\n",
      "        '--experiment_task_id=5',\n",
      "        '--experiments_laaos=./experiment_configs/emnist_bbb/configs.py'\n",
      "    ],\n",
      "    iterations=[\n",
      "        al_notebook.results_loader._IterationsItem(\n",
      "            num_epochs=0,\n",
      "            test_metrics=al_notebook.results_loader._testMetrics(\n",
      "                accuracy=0.023351063829787234,\n",
      "                nll=3.8639504609209427\n",
      "            ),\n",
      "            chosen_samples=[84786, 14413, 82022, 52923, 108364],\n",
      "            chosen_samples_score=[\n",
      "                0.02544231883480741,\n",
      "                0.049977948545158135,\n",
      "                0.07424278885734203,\n",
      "                0.10074216725503149,\n",
      "                0.1180729082450025\n",
      "            ],\n",
      "            chosen_samples_orignal_score=None\n",
      "        ),\n",
      "        al_notebook.results_loader._IterationsItem(\n",
      "            num_epochs=4,\n",
      "            test_metrics=al_notebook.results_loader._testMetrics(\n",
      "                accuracy=0.045159574468085106,\n",
      "                nll=42.67544086212808\n",
      "            ),\n",
      "            chosen_samples=[69842, 52392, 29931, 81355, 40170],\n",
      "            chosen_samples_score=[\n",
      "                1.1491635470365529,\n",
      "                1.7990818576595424,\n",
      "                2.117836270725051,\n",
      "                2.2175167348130187,\n",
      "                2.2638735494017324\n",
      "            ],\n",
      "            chosen_samples_orignal_score=None\n",
      "        ),\n",
      "        al_notebook.results_loader._IterationsItem(\n",
      "            num_epochs=4,\n",
      "            test_metrics=al_notebook.results_loader._testMetrics(\n",
      "                accuracy=0.07425531914893617,\n",
      "                nll=34.29351184926134\n",
      "            ),\n",
      "            chosen_samples=[75049, 21609, 49225, 1433, 103229],\n",
      "            chosen_samples_score=[\n",
      "                1.1072306815471566,\n",
      "                1.7014196599471092,\n",
      "                2.0056112803161597,\n",
      "                2.1422381162810367,\n",
      "                2.2037023840210157\n",
      "            ],\n",
      "            chosen_samples_orignal_score=None\n",
      "        ),\n",
      "        al_notebook.results_loader._IterationsItem(\n",
      "            num_epochs=4,\n",
      "            test_metrics=al_notebook.results_loader._testMetrics(\n",
      "                accuracy=0.11377659574468085,\n",
      "                nll=32.63286807121114\n",
      "            ),\n",
      "            chosen_samples=[34823, 77680, 42951, 108628, 66217],\n",
      "            chosen_samples_score=[\n",
      "                1.3365664964181634,\n",
      "                2.0805147065789074,\n",
      "                2.2506732789429895,\n",
      "                2.2762567359156987,\n",
      "                2.29639899191453\n",
      "            ],\n",
      "            chosen_samples_orignal_score=None\n",
      "        ),\n",
      "        al_notebook.results_loader._IterationsItem(\n",
      "            num_epochs=4,\n",
      "            test_metrics=al_notebook.results_loader._testMetrics(\n",
      "                accuracy=0.14760638297872342,\n",
      "                nll=33.1999511913543\n",
      "            ),\n",
      "            chosen_samples=[56465, 112385, 34554, 11252, 69048],\n",
      "            chosen_samples_score=[\n",
      "                1.4520687677440836,\n",
      "                2.093118690331536,\n",
      "                2.2514860440922613,\n",
      "                2.2936808453527298,\n",
      "                2.2996223894054677\n",
      "            ],\n",
      "            chosen_samples_orignal_score=None\n",
      "        ),\n",
      "        al_notebook.results_loader._IterationsItem(\n",
      "            num_epochs=5,\n",
      "            test_metrics=al_notebook.results_loader._testMetrics(\n",
      "                accuracy=0.15122340425531916,\n",
      "                nll=27.7207611506036\n",
      "            ),\n",
      "            chosen_samples=[91159, 20237, 72761, 35747, 66260],\n",
      "            chosen_samples_score=[\n",
      "                1.626958972735559,\n",
      "                2.168007123474445,\n",
      "                2.283160814075615,\n",
      "                2.309872148264854,\n",
      "                2.31550421958425\n",
      "            ],\n",
      "            chosen_samples_orignal_score=None\n",
      "        ),\n",
      "        al_notebook.results_loader._IterationsItem(\n",
      "            num_epochs=4,\n",
      "            test_metrics=al_notebook.results_loader._testMetrics(\n",
      "                accuracy=0.17335106382978724,\n",
      "                nll=28.137968266263922\n",
      "            ),\n",
      "            chosen_samples=[18764, 17154, 88854, 7400, 57852],\n",
      "            chosen_samples_score=[\n",
      "                1.5114808132798034,\n",
      "                2.1930029124125974,\n",
      "                2.2877220096238107,\n",
      "                2.3140234106877666,\n",
      "                2.312459652934325\n",
      "            ],\n",
      "            chosen_samples_orignal_score=None\n",
      "        ),\n",
      "        al_notebook.results_loader._IterationsItem(\n",
      "            num_epochs=5,\n",
      "            test_metrics=al_notebook.results_loader._testMetrics(\n",
      "                accuracy=0.17882978723404255,\n",
      "                nll=25.2840336657585\n",
      "            ),\n",
      "            chosen_samples=[53365, 49128, 57589, 21215, 37340],\n",
      "            chosen_samples_score=[\n",
      "                1.6440248447717978,\n",
      "                2.1821350155018306,\n",
      "                2.283383373270878,\n",
      "                2.3115246118090433,\n",
      "                2.311298330669408\n",
      "            ],\n",
      "            chosen_samples_orignal_score=None\n",
      "        ),\n",
      "        al_notebook.results_loader._IterationsItem(\n",
      "            num_epochs=7,\n",
      "            test_metrics=al_notebook.results_loader._testMetrics(\n",
      "                accuracy=0.1826063829787234,\n",
      "                nll=23.29394275746447\n",
      "            ),\n",
      "            chosen_samples=[39082, 23704, 105302, 66711, 21769],\n",
      "            chosen_samples_score=[\n",
      "                1.6965207269829665,\n",
      "                2.236951647182927,\n",
      "                2.2963157823688265,\n",
      "                2.3124470419405236,\n",
      "                2.307532066324599\n",
      "            ],\n",
      "            chosen_samples_orignal_score=None\n",
      "        ),\n",
      "        al_notebook.results_loader._IterationsItem(\n",
      "            num_epochs=7,\n",
      "            test_metrics=al_notebook.results_loader._testMetrics(\n",
      "                accuracy=0.19579787234042553,\n",
      "                nll=20.629137332997423\n",
      "            ),\n",
      "            chosen_samples=[36426, 49884, 93936, 13186, 63423],\n",
      "            chosen_samples_score=[\n",
      "                1.82444814096146,\n",
      "                2.24050185805162,\n",
      "                2.293735367958195,\n",
      "                2.299679594850041,\n",
      "                2.319313944066943\n",
      "            ],\n",
      "            chosen_samples_orignal_score=None\n",
      "        ),\n",
      "        al_notebook.results_loader._IterationsItem(\n",
      "            num_epochs=5,\n",
      "            test_metrics=al_notebook.results_loader._testMetrics(\n",
      "                accuracy=0.22159574468085105,\n",
      "                nll=21.492099864229242\n",
      "            ),\n",
      "            chosen_samples=[75195, 23224, 99357, 94075, 66594],\n",
      "            chosen_samples_score=[\n",
      "                1.7651389636174435,\n",
      "                2.2612237338922614,\n",
      "                2.2984638398089166,\n",
      "                2.28690646774895,\n",
      "                2.3187140395566814\n",
      "            ],\n",
      "            chosen_samples_orignal_score=None\n",
      "        ),\n",
      "        al_notebook.results_loader._IterationsItem(\n",
      "            num_epochs=5,\n",
      "            test_metrics=al_notebook.results_loader._testMetrics(\n",
      "                accuracy=0.2255851063829787,\n",
      "                nll=17.584936947924025\n",
      "            ),\n",
      "            chosen_samples=[42212, 59588, 106224, 97730, 15084],\n",
      "            chosen_samples_score=[\n",
      "                1.585213665225682,\n",
      "                2.203769109371151,\n",
      "                2.2820854343436103,\n",
      "                2.3060113091233982,\n",
      "                2.2955900824159223\n",
      "            ],\n",
      "            chosen_samples_orignal_score=None\n",
      "        ),\n",
      "        al_notebook.results_loader._IterationsItem(\n",
      "            num_epochs=5,\n",
      "            test_metrics=al_notebook.results_loader._testMetrics(\n",
      "                accuracy=0.23180851063829788,\n",
      "                nll=17.43231944632023\n",
      "            ),\n",
      "            chosen_samples=[14178, 4969, 62104, 111762, 89482],\n",
      "            chosen_samples_score=[\n",
      "                1.548965085159867,\n",
      "                2.1672157179420375,\n",
      "                2.281579433583301,\n",
      "                2.3011862208878653,\n",
      "                2.261099626468675\n",
      "            ],\n",
      "            chosen_samples_orignal_score=None\n",
      "        ),\n",
      "        al_notebook.results_loader._IterationsItem(\n",
      "            num_epochs=4,\n",
      "            test_metrics=al_notebook.results_loader._testMetrics(\n",
      "                accuracy=0.2378191489361702,\n",
      "                nll=16.789899942925636\n",
      "            ),\n",
      "            chosen_samples=[107378, 112249, 107410, 81504, 83297],\n",
      "            chosen_samples_score=[\n",
      "                1.6329583698433345,\n",
      "                2.200449091336181,\n",
      "                2.2794939369988,\n",
      "                2.27285744993621,\n",
      "                2.2939129360362904\n",
      "            ],\n",
      "            chosen_samples_orignal_score=None\n",
      "        ),\n",
      "        al_notebook.results_loader._IterationsItem(\n",
      "            num_epochs=4,\n",
      "            test_metrics=al_notebook.results_loader._testMetrics(\n",
      "                accuracy=0.2347872340425532,\n",
      "                nll=16.737637519024787\n",
      "            ),\n",
      "            chosen_samples=[98018, 43420, 9751, 88983, 8990],\n",
      "            chosen_samples_score=[\n",
      "                1.7714805364074868,\n",
      "                2.262118548447976,\n",
      "                2.296464898998316,\n",
      "                2.3029749039969962,\n",
      "                2.3000336791797062\n",
      "            ],\n",
      "            chosen_samples_orignal_score=None\n",
      "        ),\n",
      "        al_notebook.results_loader._IterationsItem(\n",
      "            num_epochs=4,\n",
      "            test_metrics=al_notebook.results_loader._testMetrics(\n",
      "                accuracy=0.2578191489361702,\n",
      "                nll=15.435384990610975\n",
      "            ),\n",
      "            chosen_samples=[104792, 57532, 28794, 60557, 30504],\n",
      "            chosen_samples_score=[\n",
      "                1.5809398567767505,\n",
      "                2.1782034667046837,\n",
      "                2.2816157602680516,\n",
      "                2.3020953759825153,\n",
      "                2.28241546084724\n",
      "            ],\n",
      "            chosen_samples_orignal_score=None\n",
      "        ),\n",
      "        al_notebook.results_loader._IterationsItem(\n",
      "            num_epochs=4,\n",
      "            test_metrics=al_notebook.results_loader._testMetrics(\n",
      "                accuracy=0.26824468085106384,\n",
      "                nll=13.225204889013412\n",
      "            ),\n",
      "            chosen_samples=[64325, 49265, 27814, 105809, 82932],\n",
      "            chosen_samples_score=[\n",
      "                1.6999586294699787,\n",
      "                2.2234926889586566,\n",
      "                2.2950902070564765,\n",
      "                2.3093091438846187,\n",
      "                2.3192444503443603\n",
      "            ],\n",
      "            chosen_samples_orignal_score=None\n",
      "        ),\n",
      "        al_notebook.results_loader._IterationsItem(\n",
      "            num_epochs=7,\n",
      "            test_metrics=al_notebook.results_loader._testMetrics(\n",
      "                accuracy=0.2810106382978723,\n",
      "                nll=14.824600047659366\n",
      "            ),\n",
      "            chosen_samples=[87650, 83160, 29132, 12763, 73343],\n",
      "            chosen_samples_score=[\n",
      "                1.7087984066745467,\n",
      "                2.2389605404394306,\n",
      "                2.2979648322124495,\n",
      "                2.2797238571465863,\n",
      "                2.324886260701658\n",
      "            ],\n",
      "            chosen_samples_orignal_score=None\n",
      "        ),\n",
      "        al_notebook.results_loader._IterationsItem(\n",
      "            num_epochs=5,\n",
      "            test_metrics=al_notebook.results_loader._testMetrics(\n",
      "                accuracy=0.27930851063829787,\n",
      "                nll=12.688466594777209\n",
      "            ),\n",
      "            chosen_samples=[63155, 35451, 41028, 13256, 12093],\n",
      "            chosen_samples_score=[\n",
      "                1.8066553854175988,\n",
      "                2.2860731743498035,\n",
      "                2.301413605494632,\n",
      "                2.321963851237652,\n",
      "                2.304111986179344\n",
      "            ],\n",
      "            chosen_samples_orignal_score=None\n",
      "        ),\n",
      "        al_notebook.results_loader._IterationsItem(\n",
      "            num_epochs=4,\n",
      "            test_metrics=al_notebook.results_loader._testMetrics(\n",
      "                accuracy=0.2997872340425532,\n",
      "                nll=12.361699318581438\n",
      "            ),\n",
      "            chosen_samples=[10559, 34669, 6320, 101738, 110683],\n",
      "            chosen_samples_score=[\n",
      "                1.733954012397148,\n",
      "                2.2318958314874764,\n",
      "                2.2911560811566005,\n",
      "                2.325167633143203,\n",
      "                2.295904359132443\n",
      "            ],\n",
      "            chosen_samples_orignal_score=None\n",
      "        ),\n",
      "        al_notebook.results_loader._IterationsItem(\n",
      "            num_epochs=4,\n",
      "            test_metrics=al_notebook.results_loader._testMetrics(\n",
      "                accuracy=0.3046276595744681,\n",
      "                nll=11.513779094777208\n",
      "            ),\n",
      "            chosen_samples=[83448, 42344, 1364, 33657, 94544],\n",
      "            chosen_samples_score=[\n",
      "                1.8547707200098857,\n",
      "                2.287559418348668,\n",
      "                2.300604741577399,\n",
      "                2.2788663460593113,\n",
      "                2.3004990874729785\n",
      "            ],\n",
      "            chosen_samples_orignal_score=None\n",
      "        ),\n",
      "        al_notebook.results_loader._IterationsItem(\n",
      "            num_epochs=4,\n",
      "            test_metrics=al_notebook.results_loader._testMetrics(\n",
      "                accuracy=0.3077659574468085,\n",
      "                nll=11.317619038845631\n",
      "            ),\n",
      "            chosen_samples=[10814, 111228, 109606, 46387, 33887],\n",
      "            chosen_samples_score=[\n",
      "                1.8523394430873203,\n",
      "                2.2602771910262267,\n",
      "                2.297825239404908,\n",
      "                2.3079219624476193,\n",
      "                2.298688264438607\n",
      "            ],\n",
      "            chosen_samples_orignal_score=None\n",
      "        ),\n",
      "        al_notebook.results_loader._IterationsItem(\n",
      "            num_epochs=4,\n",
      "            test_metrics=al_notebook.results_loader._testMetrics(\n",
      "                accuracy=0.3153191489361702,\n",
      "                nll=11.576263999127328\n",
      "            ),\n",
      "            chosen_samples=[83905, 105623, 73333, 13566, 59665],\n",
      "            chosen_samples_score=[\n",
      "                1.6775326576107614,\n",
      "                2.250815537247145,\n",
      "                2.2950198236498416,\n",
      "                2.292544956529896,\n",
      "                2.3173489535120058\n",
      "            ],\n",
      "            chosen_samples_orignal_score=None\n",
      "        ),\n",
      "        al_notebook.results_loader._IterationsItem(\n",
      "            num_epochs=4,\n",
      "            test_metrics=al_notebook.results_loader._testMetrics(\n",
      "                accuracy=0.33111702127659576,\n",
      "                nll=10.773492876418093\n",
      "            ),\n",
      "            chosen_samples=[110318, 15896, 103941, 23743, 74711],\n",
      "            chosen_samples_score=[\n",
      "                1.7325395573656874,\n",
      "                2.222389767246294,\n",
      "                2.2962887273403334,\n",
      "                2.30754567914207,\n",
      "                2.292355676204103\n",
      "            ],\n",
      "            chosen_samples_orignal_score=None\n",
      "        ),\n",
      "        al_notebook.results_loader._IterationsItem(\n",
      "            num_epochs=4,\n",
      "            test_metrics=al_notebook.results_loader._testMetrics(\n",
      "                accuracy=0.32180851063829785,\n",
      "                nll=10.507247997852081\n",
      "            ),\n",
      "            chosen_samples=[88380, 75341, 56627, 13838, 21526],\n",
      "            chosen_samples_score=[\n",
      "                1.833797677381734,\n",
      "                2.247979755491865,\n",
      "                2.293963858350718,\n",
      "                2.321062067361839,\n",
      "                2.3117139749342765\n",
      "            ],\n",
      "            chosen_samples_orignal_score=None\n",
      "        ),\n",
      "        al_notebook.results_loader._IterationsItem(\n",
      "            num_epochs=4,\n",
      "            test_metrics=al_notebook.results_loader._testMetrics(\n",
      "                accuracy=0.3451595744680851,\n",
      "                nll=10.12113175655933\n",
      "            ),\n",
      "            chosen_samples=[23293, 27500, 101870, 82926, 17653],\n",
      "            chosen_samples_score=[\n",
      "                1.773963869020369,\n",
      "                2.272650625070464,\n",
      "                2.300130007880944,\n",
      "                2.301761121843873,\n",
      "                2.310144877247816\n",
      "            ],\n",
      "            chosen_samples_orignal_score=None\n",
      "        ),\n",
      "        al_notebook.results_loader._IterationsItem(\n",
      "            num_epochs=4,\n",
      "            test_metrics=al_notebook.results_loader._testMetrics(\n",
      "                accuracy=0.3525,\n",
      "                nll=9.260567327458809\n",
      "            ),\n",
      "            chosen_samples=[101801, 73603, 57991, 28512, 65672],\n",
      "            chosen_samples_score=[\n",
      "                1.8874093491142525,\n",
      "                2.28156585716121,\n",
      "                2.299310086029629,\n",
      "                2.3064904085132802,\n",
      "                2.298314056248512\n",
      "            ],\n",
      "            chosen_samples_orignal_score=None\n",
      "        ),\n",
      "        al_notebook.results_loader._IterationsItem(\n",
      "            num_epochs=4,\n",
      "            test_metrics=al_notebook.results_loader._testMetrics(\n",
      "                accuracy=0.3398936170212766,\n",
      "                nll=9.044524179823854\n",
      "            ),\n",
      "            chosen_samples=[80228, 26362, 54771, 10070, 13411],\n",
      "            chosen_samples_score=[\n",
      "                1.684374972923231,\n",
      "                2.2237454688216323,\n",
      "                2.293035334801923,\n",
      "                2.3201363161141964,\n",
      "                2.307446046220772\n",
      "            ],\n",
      "            chosen_samples_orignal_score=None\n",
      "        ),\n",
      "        al_notebook.results_loader._IterationsItem(\n",
      "            num_epochs=4,\n",
      "            test_metrics=al_notebook.results_loader._testMetrics(\n",
      "                accuracy=0.36569148936170215,\n",
      "                nll=8.759038111098269\n",
      "            ),\n",
      "            chosen_samples=[98482, 110381, 97112, 103768, 23970],\n",
      "            chosen_samples_score=[\n",
      "                1.612167411099978,\n",
      "                2.151172128540785,\n",
      "                2.274708502800725,\n",
      "                2.3083796343743055,\n",
      "                2.333843350064792\n",
      "            ],\n",
      "            chosen_samples_orignal_score=None\n",
      "        ),\n",
      "        al_notebook.results_loader._IterationsItem(\n",
      "            num_epochs=4,\n",
      "            test_metrics=al_notebook.results_loader._testMetrics(\n",
      "                accuracy=0.3467021276595745,\n",
      "                nll=8.73126986564474\n",
      "            ),\n",
      "            chosen_samples=[74707, 66618, 62256, 100821, 30032],\n",
      "            chosen_samples_score=[\n",
      "                1.428384897622282,\n",
      "                2.093646796198361,\n",
      "                2.257123790282253,\n",
      "                2.288283194988159,\n",
      "                2.332604934203891\n",
      "            ],\n",
      "            chosen_samples_orignal_score=None\n",
      "        ),\n",
      "        al_notebook.results_loader._IterationsItem(\n",
      "            num_epochs=4,\n",
      "            test_metrics=al_notebook.results_loader._testMetrics(\n",
      "                accuracy=0.37574468085106383,\n",
      "                nll=8.477162411466558\n",
      "            ),\n",
      "            chosen_samples=[98910, 25916, 54556, 50235, 79360],\n",
      "            chosen_samples_score=[\n",
      "                1.7198813561547448,\n",
      "                2.2298994895851134,\n",
      "                2.2949543325669444,\n",
      "                2.3049252855396816,\n",
      "                2.290143913313507\n",
      "            ],\n",
      "            chosen_samples_orignal_score=None\n",
      "        ),\n",
      "        al_notebook.results_loader._IterationsItem(\n",
      "            num_epochs=4,\n",
      "            test_metrics=al_notebook.results_loader._testMetrics(\n",
      "                accuracy=0.37909574468085105,\n",
      "                nll=9.173283477133893\n",
      "            ),\n",
      "            chosen_samples=[24040, 53399, 84544, 29120, 21554],\n",
      "            chosen_samples_score=[\n",
      "                1.8256509688816198,\n",
      "                2.2695478966523455,\n",
      "                2.2994956126424473,\n",
      "                2.315222742419613,\n",
      "                2.3149543764864546\n",
      "            ],\n",
      "            chosen_samples_orignal_score=None\n",
      "        ),\n",
      "        al_notebook.results_loader._IterationsItem(\n",
      "            num_epochs=4,\n",
      "            test_metrics=al_notebook.results_loader._testMetrics(\n",
      "                accuracy=0.3845212765957447,\n",
      "                nll=8.527283977752036\n",
      "            ),\n",
      "            chosen_samples=[59182, 70883, 79681, 87357, 46184],\n",
      "            chosen_samples_score=[\n",
      "                1.8246746250041102,\n",
      "                2.2547952754914764,\n",
      "                2.298213810369415,\n",
      "                2.280515337039535,\n",
      "                2.317096966717507\n",
      "            ],\n",
      "            chosen_samples_orignal_score=None\n",
      "        ),\n",
      "        al_notebook.results_loader._IterationsItem(\n",
      "            num_epochs=4,\n",
      "            test_metrics=al_notebook.results_loader._testMetrics(\n",
      "                accuracy=0.3871276595744681,\n",
      "                nll=8.04019619069201\n",
      "            ),\n",
      "            chosen_samples=[59099, 10461, 76791, 102975, 69796],\n",
      "            chosen_samples_score=[\n",
      "                1.6656657886608723,\n",
      "                2.237000804754689,\n",
      "                2.295764433510682,\n",
      "                2.2922710471040486,\n",
      "                2.323943818308997\n",
      "            ],\n",
      "            chosen_samples_orignal_score=None\n",
      "        ),\n",
      "        al_notebook.results_loader._IterationsItem(\n",
      "            num_epochs=4,\n",
      "            test_metrics=al_notebook.results_loader._testMetrics(\n",
      "                accuracy=0.3836702127659574,\n",
      "                nll=7.7053330141432745\n",
      "            ),\n",
      "            chosen_samples=[53454, 27440, 40789, 44011, 109276],\n",
      "            chosen_samples_score=[\n",
      "                1.6683172622366864,\n",
      "                2.21182605855302,\n",
      "                2.2861775904997135,\n",
      "                2.287243915137687,\n",
      "                2.3218148712427893\n",
      "            ],\n",
      "            chosen_samples_orignal_score=None\n",
      "        ),\n",
      "        al_notebook.results_loader._IterationsItem(\n",
      "            num_epochs=4,\n",
      "            test_metrics=al_notebook.results_loader._testMetrics(\n",
      "                accuracy=0.3989893617021277,\n",
      "                nll=8.073184778335246\n",
      "            ),\n",
      "            chosen_samples=[69913, 40111, 88172, 89034, 66693],\n",
      "            chosen_samples_score=[\n",
      "                1.7038931745981603,\n",
      "                2.237487382110146,\n",
      "                2.297325826616004,\n",
      "                2.297265885210222,\n",
      "                2.3214396651287075\n",
      "            ],\n",
      "            chosen_samples_orignal_score=None\n",
      "        ),\n",
      "        al_notebook.results_loader._IterationsItem(\n",
      "            num_epochs=4,\n",
      "            test_metrics=al_notebook.results_loader._testMetrics(\n",
      "                accuracy=0.4042021276595745,\n",
      "                nll=7.424776103648734\n",
      "            ),\n",
      "            chosen_samples=[7547, 43487, 48222, 111466, 2600],\n",
      "            chosen_samples_score=[\n",
      "                1.5169551504010872,\n",
      "                2.150962024133875,\n",
      "                2.2748901565906943,\n",
      "                2.3006311104203183,\n",
      "                2.324223615504267\n",
      "            ],\n",
      "            chosen_samples_orignal_score=None\n",
      "        ),\n",
      "        al_notebook.results_loader._IterationsItem(\n",
      "            num_epochs=4,\n",
      "            test_metrics=al_notebook.results_loader._testMetrics(\n",
      "                accuracy=0.4152127659574468,\n",
      "                nll=7.612011125037011\n",
      "            ),\n",
      "            chosen_samples=[98840, 23841, 34258, 70173, 3648],\n",
      "            chosen_samples_score=[\n",
      "                1.6201108902063963,\n",
      "                2.1995310825381464,\n",
      "                2.2831030290900634,\n",
      "                2.2882139288306673,\n",
      "                2.294060842617113\n",
      "            ],\n",
      "            chosen_samples_orignal_score=None\n",
      "        ),\n",
      "        al_notebook.results_loader._IterationsItem(\n",
      "            num_epochs=4,\n",
      "            test_metrics=al_notebook.results_loader._testMetrics(\n",
      "                accuracy=0.41308510638297874,\n",
      "                nll=6.599519564851802\n",
      "            ),\n",
      "            chosen_samples=[16335, 2272, 76380, 57100, 9029],\n",
      "            chosen_samples_score=[\n",
      "                1.558089033385008,\n",
      "                2.191919014115912,\n",
      "                2.2821950307584515,\n",
      "                2.2901019194778423,\n",
      "                2.300666165217807\n",
      "            ],\n",
      "            chosen_samples_orignal_score=None\n",
      "        ),\n",
      "        al_notebook.results_loader._IterationsItem(\n",
      "            num_epochs=4,\n",
      "            test_metrics=al_notebook.results_loader._testMetrics(\n",
      "                accuracy=0.41138297872340424,\n",
      "                nll=7.401637190960823\n",
      "            ),\n",
      "            chosen_samples=[97740, 40494, 58357, 4597, 10997],\n",
      "            chosen_samples_score=[\n",
      "                1.6983563393067629,\n",
      "                2.2346726848622294,\n",
      "                2.294253447116829,\n",
      "                2.314680557015706,\n",
      "                2.319367722663254\n",
      "            ],\n",
      "            chosen_samples_orignal_score=None\n",
      "        ),\n",
      "        al_notebook.results_loader._IterationsItem(\n",
      "            num_epochs=4,\n",
      "            test_metrics=al_notebook.results_loader._testMetrics(\n",
      "                accuracy=0.4161170212765957,\n",
      "                nll=6.370075475408676\n",
      "            ),\n",
      "            chosen_samples=[16753, 20419, 18815, 38484, 9545],\n",
      "            chosen_samples_score=[\n",
      "                1.6953469602176858,\n",
      "                2.220090580721582,\n",
      "                2.2900794076842663,\n",
      "                2.2848312581543873,\n",
      "                2.2964669806293294\n",
      "            ],\n",
      "            chosen_samples_orignal_score=None\n",
      "        ),\n",
      "        al_notebook.results_loader._IterationsItem(\n",
      "            num_epochs=4,\n",
      "            test_metrics=al_notebook.results_loader._testMetrics(\n",
      "                accuracy=0.413031914893617,\n",
      "                nll=6.691843804704382\n",
      "            ),\n",
      "            chosen_samples=[100286, 39416, 86935, 89562, 87670],\n",
      "            chosen_samples_score=[\n",
      "                1.363112745020104,\n",
      "                2.03445190273616,\n",
      "                2.224027025171568,\n",
      "                2.2792405739629498,\n",
      "                2.316264836049905\n",
      "            ],\n",
      "            chosen_samples_orignal_score=None\n",
      "        ),\n",
      "        al_notebook.results_loader._IterationsItem(\n",
      "            num_epochs=4,\n",
      "            test_metrics=al_notebook.results_loader._testMetrics(\n",
      "                accuracy=0.4123404255319149,\n",
      "                nll=6.909083368828956\n",
      "            ),\n",
      "            chosen_samples=[61524, 24921, 81065, 81658, 24331],\n",
      "            chosen_samples_score=[\n",
      "                1.6061415818951281,\n",
      "                2.218544889189125,\n",
      "                2.289060854792014,\n",
      "                2.314950110088253,\n",
      "                2.300036738508518\n",
      "            ],\n",
      "            chosen_samples_orignal_score=None\n",
      "        ),\n",
      "        al_notebook.results_loader._IterationsItem(\n",
      "            num_epochs=4,\n",
      "            test_metrics=al_notebook.results_loader._testMetrics(\n",
      "                accuracy=0.4403723404255319,\n",
      "                nll=5.980298523598529\n",
      "            ),\n",
      "            chosen_samples=[87998, 12308, 100843, 8463, 104561],\n",
      "            chosen_samples_score=[\n",
      "                1.7040633778215781,\n",
      "                2.204568536942017,\n",
      "                2.2821391838717306,\n",
      "                2.3007649723354118,\n",
      "                2.2896423992277715\n",
      "            ],\n",
      "            chosen_samples_orignal_score=None\n",
      "        ),\n",
      "        al_notebook.results_loader._IterationsItem(\n",
      "            num_epochs=4,\n",
      "            test_metrics=al_notebook.results_loader._testMetrics(\n",
      "                accuracy=0.4397872340425532,\n",
      "                nll=6.1041904429171945\n",
      "            ),\n",
      "            chosen_samples=[54269, 27254, 16752, 66300, 94972],\n",
      "            chosen_samples_score=[\n",
      "                1.5463879619105096,\n",
      "                2.163326969271932,\n",
      "                2.275684497602603,\n",
      "                2.252874531299411,\n",
      "                2.293987589186094\n",
      "            ],\n",
      "            chosen_samples_orignal_score=None\n",
      "        ),\n",
      "        al_notebook.results_loader._IterationsItem(\n",
      "            num_epochs=4,\n",
      "            test_metrics=al_notebook.results_loader._testMetrics(\n",
      "                accuracy=0.42404255319148937,\n",
      "                nll=6.270636170164067\n",
      "            ),\n",
      "            chosen_samples=[50115, 105031, 69735, 13989, 80983],\n",
      "            chosen_samples_score=[\n",
      "                1.6571437850259458,\n",
      "                2.223591885415053,\n",
      "                2.291170278173394,\n",
      "                2.305904649384955,\n",
      "                2.291853910074978\n",
      "            ],\n",
      "            chosen_samples_orignal_score=None\n",
      "        ),\n",
      "        al_notebook.results_loader._IterationsItem(\n",
      "            num_epochs=4,\n",
      "            test_metrics=al_notebook.results_loader._testMetrics(\n",
      "                accuracy=0.45526595744680853,\n",
      "                nll=5.601974355819378\n",
      "            ),\n",
      "            chosen_samples=[105242, 112472, 72301, 44637, 62736],\n",
      "            chosen_samples_score=[\n",
      "                1.595752389139838,\n",
      "                2.1688350315239315,\n",
      "                2.2744707993521436,\n",
      "                2.294646936662483,\n",
      "                2.306833529405296\n",
      "            ],\n",
      "            chosen_samples_orignal_score=None\n",
      "        ),\n",
      "        al_notebook.results_loader._IterationsItem(\n",
      "            num_epochs=4,\n",
      "            test_metrics=al_notebook.results_loader._testMetrics(\n",
      "                accuracy=0.4568617021276596,\n",
      "                nll=5.426159730464854\n",
      "            ),\n",
      "            chosen_samples=[38636, 38896, 93165, 94129, 82328],\n",
      "            chosen_samples_score=[\n",
      "                1.6566087400887284,\n",
      "                2.2051126231478873,\n",
      "                2.2880494842035812,\n",
      "                2.310888448477398,\n",
      "                2.3237646481561343\n",
      "            ],\n",
      "            chosen_samples_orignal_score=None\n",
      "        ),\n",
      "        al_notebook.results_loader._IterationsItem(\n",
      "            num_epochs=4,\n",
      "            test_metrics=al_notebook.results_loader._testMetrics(\n",
      "                accuracy=0.4837234042553191,\n",
      "                nll=5.273241322700014\n",
      "            ),\n",
      "            chosen_samples=[16333, 86997, 97985, 6066, 73105],\n",
      "            chosen_samples_score=[\n",
      "                1.5680281971168335,\n",
      "                2.214245795140254,\n",
      "                2.291098075409641,\n",
      "                2.318523440682249,\n",
      "                2.293141160261144\n",
      "            ],\n",
      "            chosen_samples_orignal_score=None\n",
      "        ),\n",
      "        al_notebook.results_loader._IterationsItem(\n",
      "            num_epochs=4,\n",
      "            test_metrics=al_notebook.results_loader._testMetrics(\n",
      "                accuracy=0.4693617021276596,\n",
      "                nll=5.188050423074276\n",
      "            ),\n",
      "            chosen_samples=[47967, 48687, 76024, 76357, 70296],\n",
      "            chosen_samples_score=[\n",
      "                1.5474857719823123,\n",
      "                2.1305448100484883,\n",
      "                2.2602869628650186,\n",
      "                2.3003705423785825,\n",
      "                2.294517491022648\n",
      "            ],\n",
      "            chosen_samples_orignal_score=None\n",
      "        ),\n",
      "        al_notebook.results_loader._IterationsItem(\n",
      "            num_epochs=4,\n",
      "            test_metrics=al_notebook.results_loader._testMetrics(\n",
      "                accuracy=0.47712765957446807,\n",
      "                nll=5.010907484825621\n",
      "            ),\n",
      "            chosen_samples=[42430, 1484, 79024, 109345, 109396],\n",
      "            chosen_samples_score=[\n",
      "                1.4856322535807105,\n",
      "                2.1219790904865206,\n",
      "                2.2709788060306306,\n",
      "                2.2958741835556666,\n",
      "                2.3033578739313034\n",
      "            ],\n",
      "            chosen_samples_orignal_score=None\n",
      "        ),\n",
      "        al_notebook.results_loader._IterationsItem(\n",
      "            num_epochs=4,\n",
      "            test_metrics=al_notebook.results_loader._testMetrics(\n",
      "                accuracy=0.4848936170212766,\n",
      "                nll=4.791061867247237\n",
      "            ),\n",
      "            chosen_samples=[104763, 93032, 51878, 54429, 62923],\n",
      "            chosen_samples_score=[\n",
      "                1.6043836726576535,\n",
      "                2.1420353375515626,\n",
      "                2.2787022554394256,\n",
      "                2.3042164299228323,\n",
      "                2.3035994183331776\n",
      "            ],\n",
      "            chosen_samples_orignal_score=None\n",
      "        ),\n",
      "        al_notebook.results_loader._IterationsItem(\n",
      "            num_epochs=4,\n",
      "            test_metrics=al_notebook.results_loader._testMetrics(\n",
      "                accuracy=0.4838297872340426,\n",
      "                nll=4.936153255219155\n",
      "            ),\n",
      "            chosen_samples=[100460, 101086, 7034, 33084, 19993],\n",
      "            chosen_samples_score=[\n",
      "                1.5252555690907068,\n",
      "                2.1474071907125802,\n",
      "                2.2726061780728566,\n",
      "                2.271482525468431,\n",
      "                2.2900278412832913\n",
      "            ],\n",
      "            chosen_samples_orignal_score=None\n",
      "        ),\n",
      "        al_notebook.results_loader._IterationsItem(\n",
      "            num_epochs=4,\n",
      "            test_metrics=al_notebook.results_loader._testMetrics(\n",
      "                accuracy=0.5063829787234042,\n",
      "                nll=4.769558783186243\n",
      "            ),\n",
      "            chosen_samples=[31531, 78441, 68037, 85943, 64819],\n",
      "            chosen_samples_score=[\n",
      "                1.4921981961273756,\n",
      "                2.166831822235198,\n",
      "                2.272771965932317,\n",
      "                2.3045607845052736,\n",
      "                2.317571802958446\n",
      "            ],\n",
      "            chosen_samples_orignal_score=None\n",
      "        ),\n",
      "        al_notebook.results_loader._IterationsItem(\n",
      "            num_epochs=4,\n",
      "            test_metrics=al_notebook.results_loader._testMetrics(\n",
      "                accuracy=0.5038297872340426,\n",
      "                nll=4.620763326198497\n",
      "            ),\n",
      "            chosen_samples=[57059, 13994, 61909, 87131, 55543],\n",
      "            chosen_samples_score=[\n",
      "                1.5695552833370927,\n",
      "                2.1788149117825415,\n",
      "                2.285317030959296,\n",
      "                2.298480722912175,\n",
      "                2.3016191536061594\n",
      "            ],\n",
      "            chosen_samples_orignal_score=None\n",
      "        ),\n",
      "        al_notebook.results_loader._IterationsItem(\n",
      "            num_epochs=4,\n",
      "            test_metrics=al_notebook.results_loader._testMetrics(\n",
      "                accuracy=0.4951595744680851,\n",
      "                nll=4.817043928186944\n",
      "            ),\n",
      "            chosen_samples=[86803, 52241, 3290, 33184, 30452],\n",
      "            chosen_samples_score=[\n",
      "                1.5471954494052889,\n",
      "                2.1298501302774953,\n",
      "                2.2743448063359675,\n",
      "                2.2848445330118383,\n",
      "                2.318182796690593\n",
      "            ],\n",
      "            chosen_samples_orignal_score=None\n",
      "        ),\n",
      "        al_notebook.results_loader._IterationsItem(\n",
      "            num_epochs=4,\n",
      "            test_metrics=al_notebook.results_loader._testMetrics(\n",
      "                accuracy=0.5015425531914893,\n",
      "                nll=4.49741664034255\n",
      "            ),\n",
      "            chosen_samples=[12757, 43372, 68654, 103526, 28488],\n",
      "            chosen_samples_score=[\n",
      "                1.507172562394547,\n",
      "                2.1402403910805323,\n",
      "                2.2671242663718285,\n",
      "                2.293198740348773,\n",
      "                2.30418906762132\n",
      "            ],\n",
      "            chosen_samples_orignal_score=None\n",
      "        ),\n",
      "        al_notebook.results_loader._IterationsItem(\n",
      "            num_epochs=4,\n",
      "            test_metrics=al_notebook.results_loader._testMetrics(\n",
      "                accuracy=0.5156914893617022,\n",
      "                nll=4.465317120653518\n",
      "            ),\n",
      "            chosen_samples=[64640, 28344, 29922, 5147, 90897],\n",
      "            chosen_samples_score=[\n",
      "                1.5279578895910768,\n",
      "                2.14877050201623,\n",
      "                2.2782996541004588,\n",
      "                2.2960066969143895,\n",
      "                2.308125729453499\n",
      "            ],\n",
      "            chosen_samples_orignal_score=None\n",
      "        ),\n",
      "        al_notebook.results_loader._IterationsItem(\n",
      "            num_epochs=4,\n",
      "            test_metrics=al_notebook.results_loader._testMetrics(\n",
      "                accuracy=0.4926063829787234,\n",
      "                nll=4.665714473724365\n",
      "            ),\n",
      "            chosen_samples=[60490, 60718, 73503, 60273, 19362],\n",
      "            chosen_samples_score=[\n",
      "                1.6975613746732692,\n",
      "                2.218694569183691,\n",
      "                2.2910795364124823,\n",
      "                2.3050264844667545,\n",
      "                2.30223107478366\n",
      "            ],\n",
      "            chosen_samples_orignal_score=None\n",
      "        ),\n",
      "        al_notebook.results_loader._IterationsItem(\n",
      "            num_epochs=4,\n",
      "            test_metrics=al_notebook.results_loader._testMetrics(\n",
      "                accuracy=0.5224468085106383,\n",
      "                nll=4.091801652705416\n",
      "            ),\n",
      "            chosen_samples=[70038, 112050, 61900, 12206, 41592],\n",
      "            chosen_samples_score=[\n",
      "                1.491532664290108,\n",
      "                2.111832010950578,\n",
      "                2.2522206929076907,\n",
      "                2.2974922042847927,\n",
      "                2.2770235342465917\n",
      "            ],\n",
      "            chosen_samples_orignal_score=None\n",
      "        )\n",
      "    ],\n",
      "    initial_samples=[],\n",
      "    actual_name='emnist_multibald_bald_k10_706460.py',\n",
      "    actual_path='/home/blackhc/PycharmProjects/active_learning2/laaos_results/'\n",
      "        'emnist_bbb/emnist_multibald_bald_k10_706460.py',\n",
      "    tag='emnist_bbb'\n",
      ")\n"
     ]
    }
   ],
   "source": [
    "pp.pprint(rl.get_any(stores))"
   ]
  },
  {
   "cell_type": "code",
   "execution_count": 75,
   "metadata": {
    "ExecuteTime": {
     "end_time": "2019-06-18T17:07:20.246314Z",
     "start_time": "2019-06-18T17:07:20.001965Z"
    }
   },
   "outputs": [],
   "source": [
    "emnist_datasource = rl.dataset_enum.DatasetEnum.emnist.get_data_source()"
   ]
  },
  {
   "cell_type": "code",
   "execution_count": 76,
   "metadata": {
    "ExecuteTime": {
     "end_time": "2019-06-18T17:07:20.260319Z",
     "start_time": "2019-06-18T17:07:20.248097Z"
    }
   },
   "outputs": [],
   "source": [
    "emnist_train = rl.dataset_enum.data.ConcatDataset([emnist_datasource.train_dataset, emnist_datasource.validation_dataset])"
   ]
  },
  {
   "cell_type": "code",
   "execution_count": 77,
   "metadata": {
    "ExecuteTime": {
     "end_time": "2019-06-18T17:07:20.486721Z",
     "start_time": "2019-06-18T17:07:20.261832Z"
    }
   },
   "outputs": [],
   "source": [
    "def get_entropies(stores, keys):\n",
    "    entropies = []\n",
    "    for key in keys:\n",
    "        store = stores[key]\n",
    "        samples_i = rl.gather_samples_I(store)\n",
    "        acq_entropies = compute_acquisition_entropies(emnist_train, samples_i)\n",
    "        entropies.append(acq_entropies)\n",
    "    return entropies\n",
    "\n",
    "np_entropies = np.asarray(get_entropies(stores, balds))"
   ]
  },
  {
   "cell_type": "code",
   "execution_count": 78,
   "metadata": {
    "ExecuteTime": {
     "end_time": "2019-06-18T17:07:20.496186Z",
     "start_time": "2019-06-18T17:07:20.487884Z"
    }
   },
   "outputs": [],
   "source": [
    "def gather_samples_entropies(dataset, store):\n",
    "    samples_I = rl.gather_samples_I(store)\n",
    "    entropies_I = compute_acquisition_entropies(dataset, samples_I)\n",
    "    return list(zip(samples_I, entropies_I))"
   ]
  },
  {
   "cell_type": "code",
   "execution_count": 79,
   "metadata": {
    "ExecuteTime": {
     "end_time": "2019-06-18T17:07:20.507586Z",
     "start_time": "2019-06-18T17:07:20.497216Z"
    }
   },
   "outputs": [],
   "source": [
    "def aggregate_entropies(stores, keys, percentiles=None, thresholds=None):\n",
    "    accuracies_sample_points_T = [\n",
    "        rl.expand_samples_I_values_I(\n",
    "            gather_samples_entropies(emnist_train, stores[key]))\n",
    "        for key in keys\n",
    "    ]\n",
    "    return rl.aggregate_values_sample_points_T(accuracies_sample_points_T,\n",
    "                                                   percentiles=percentiles,\n",
    "                                                   thresholds=thresholds)"
   ]
  },
  {
   "cell_type": "code",
   "execution_count": 84,
   "metadata": {
    "ExecuteTime": {
     "end_time": "2019-06-18T17:07:28.388604Z",
     "start_time": "2019-06-18T17:07:27.445266Z"
    }
   },
   "outputs": [
    {
     "name": "stdout",
     "output_type": "stream",
     "text": [
      "BatchBALD:\n",
      "90% at [0 0 0]\n",
      "95% at [0 0 0]\n",
      "BALD:\n",
      "90% at [0 0 0]\n",
      "95% at [0 0 0]\n"
     ]
    },
    {
     "data": {
      "image/png": "[encoded data removed]",
      "text/plain": [
       "<Figure size 504x360 with 1 Axes>"
      ]
     },
     "metadata": {
      "needs_background": "light"
     },
     "output_type": "display_data"
    }
   ],
   "source": [
    "plt.figure(figsize=(7,5))\n",
    "plt.xlabel('Acquisition iteration')\n",
    "plt.ylabel('Entropy')\n",
    "alp.COLOR_ORDER[1], alp.COLOR_ORDER[2] = alp.COLOR_ORDER[2], alp.COLOR_ORDER[1]\n",
    "alp.plot_aggregated_groups({'BatchBALD': aggregate_entropies(stores, batchbalds), \n",
    "                            #'Random': aggregate_entropies(stores, randoms),\n",
    "                            'BALD': aggregate_entropies(stores, balds)}, show_thresholds=False, show_quantiles=False, show_num_trials=False)\n",
    "plt.xticks(ticks=list(range(0, 301, 50)), labels=[str(i) for i in range(0, 300//5+1, 10)])\n",
    "plt.axis([1, 300, 2, 3.85])\n",
    "plt.grid(True)\n",
    "plt.legend(loc='lower right')\n",
    "alp.COLOR_ORDER[1], alp.COLOR_ORDER[2] = alp.COLOR_ORDER[2], alp.COLOR_ORDER[1]\n",
    "\n",
    "output_path = blackhc.notebook.original_dir + '/entropy_labels_EMNIST.png'\n",
    "alp.plot_save(output_path, dpi=300)\n",
    "plt.show()"
   ]
  },
  {
   "cell_type": "code",
   "execution_count": 81,
   "metadata": {
    "ExecuteTime": {
     "end_time": "2019-06-18T17:07:22.742196Z",
     "start_time": "2019-06-18T17:07:21.553864Z"
    }
   },
   "outputs": [
    {
     "name": "stdout",
     "output_type": "stream",
     "text": [
      "BatchBALD:\n",
      "90% at [0 0 0]\n",
      "95% at [0 0 0]\n",
      "Random:\n",
      "90% at [0 0 0]\n",
      "95% at [0 0 0]\n",
      "BALD:\n",
      "90% at [0 0 0]\n",
      "95% at [0 0 0]\n"
     ]
    },
    {
     "data": {
      "image/png": "[encoded data removed]",
      "text/plain": [
       "<Figure size 504x360 with 1 Axes>"
      ]
     },
     "metadata": {
      "needs_background": "light"
     },
     "output_type": "display_data"
    }
   ],
   "source": [
    "plt.figure(figsize=(7,5))\n",
    "plt.xlabel('Acquisition iteration')\n",
    "plt.ylabel('Entropy')\n",
    "#alp.COLOR_ORDER[1], alp.COLOR_ORDER[2] = alp.COLOR_ORDER[2], alp.COLOR_ORDER[1]\n",
    "alp.plot_aggregated_groups({'BatchBALD': aggregate_entropies(stores, batchbalds), 'Random': aggregate_entropies(stores, randoms), 'BALD': aggregate_entropies(stores, balds)}, show_thresholds=False, show_quantiles=False, show_num_trials=False)\n",
    "plt.xticks(ticks=list(range(0, 301, 50)), labels=[str(i) for i in range(0, 300//5+1, 10)])\n",
    "plt.axis([1, 300, 2, 3.85])\n",
    "plt.grid(True)\n",
    "plt.legend(loc='lower right')\n",
    "#alp.COLOR_ORDER[1], alp.COLOR_ORDER[2] = alp.COLOR_ORDER[2], alp.COLOR_ORDER[1]\n",
    "\n",
    "output_path = blackhc.notebook.original_dir + '/entropy_labels_EMNIST_w_random.png'\n",
    "alp.plot_save(output_path, dpi=300)\n",
    "plt.show()"
   ]
  },
  {
   "cell_type": "code",
   "execution_count": 82,
   "metadata": {
    "ExecuteTime": {
     "end_time": "2019-06-18T17:07:22.833816Z",
     "start_time": "2019-06-18T17:07:22.743630Z"
    }
   },
   "outputs": [
    {
     "data": {
      "image/png": "[encoded data removed]",
      "text/plain": [
       "<Figure size 432x288 with 1 Axes>"
      ]
     },
     "metadata": {
      "needs_background": "light"
     },
     "output_type": "display_data"
    }
   ],
   "source": [
    "plt.plot(np.percentile(np_entropies, axis=0, q=[25, 50, 75]).T)\n",
    "plt.show()"
   ]
  },
  {
   "cell_type": "code",
   "execution_count": 83,
   "metadata": {
    "ExecuteTime": {
     "end_time": "2019-06-18T17:07:22.849892Z",
     "start_time": "2019-06-18T17:07:22.835293Z"
    }
   },
   "outputs": [
    {
     "ename": "AttributeError",
     "evalue": "module 'al_notebook.results_loader' has no attribute 'aggregate_accuracies_sample_points_T'",
     "output_type": "error",
     "traceback": [
      "\u001b[0;31m---------------------------------------------------------------------------\u001b[0m",
      "\u001b[0;31mAttributeError\u001b[0m                            Traceback (most recent call last)",
      "\u001b[0;32m<ipython-input-83-99e30cb3b9a9>\u001b[0m in \u001b[0;36m<module>\u001b[0;34m\u001b[0m\n\u001b[0;32m----> 1\u001b[0;31m \u001b[0mrl\u001b[0m\u001b[0;34m.\u001b[0m\u001b[0maggregate_accuracies_sample_points_T\u001b[0m\u001b[0;34m(\u001b[0m\u001b[0mnp_entropies\u001b[0m\u001b[0;34m)\u001b[0m\u001b[0;34m\u001b[0m\u001b[0;34m\u001b[0m\u001b[0m\n\u001b[0m",
      "\u001b[0;31mAttributeError\u001b[0m: module 'al_notebook.results_loader' has no attribute 'aggregate_accuracies_sample_points_T'"
     ]
    }
   ],
   "source": [
    "rl.aggregate_accuracies_sample_points_T(np_entropies)"
   ]
  },
  {
   "cell_type": "code",
   "execution_count": null,
   "metadata": {
    "ExecuteTime": {
     "end_time": "2019-06-18T17:07:22.851184Z",
     "start_time": "2019-06-18T17:07:21.497Z"
    }
   },
   "outputs": [],
   "source": [
    "np_entropies.shape"
   ]
  },
  {
   "cell_type": "code",
   "execution_count": null,
   "metadata": {
    "ExecuteTime": {
     "end_time": "2019-06-18T17:07:22.852234Z",
     "start_time": "2019-06-18T17:07:21.625Z"
    }
   },
   "outputs": [],
   "source": [
    "pp.pprint(rl.gather_samples_I(stores['emnist_bbb/emnist_independent_bald_k10_218487.py']))"
   ]
  },
  {
   "cell_type": "code",
   "execution_count": null,
   "metadata": {
    "ExecuteTime": {
     "end_time": "2019-06-18T17:07:22.853212Z",
     "start_time": "2019-06-18T17:07:21.760Z"
    }
   },
   "outputs": [],
   "source": [
    "samples_bald = rl.gather_samples_I(stores['emnist_bbb/emnist_independent_bald_k10_706460.py'])"
   ]
  },
  {
   "cell_type": "code",
   "execution_count": null,
   "metadata": {
    "ExecuteTime": {
     "end_time": "2019-06-18T17:07:22.854340Z",
     "start_time": "2019-06-18T17:07:21.912Z"
    }
   },
   "outputs": [],
   "source": [
    "samples_batchbald = rl.gather_samples_I(stores['emnist_bbb/emnist_multibald_bald_k10_706460.py'])"
   ]
  },
  {
   "cell_type": "code",
   "execution_count": null,
   "metadata": {
    "ExecuteTime": {
     "end_time": "2019-06-18T17:07:22.855320Z",
     "start_time": "2019-06-18T17:07:22.049Z"
    }
   },
   "outputs": [],
   "source": [
    "samples_random = rl.gather_samples_I(stores['emnist_balanaced_random/emnist_balanced_independent_random_k10_b5_107646.py'])"
   ]
  },
  {
   "cell_type": "code",
   "execution_count": null,
   "metadata": {
    "ExecuteTime": {
     "end_time": "2019-06-18T17:07:22.856376Z",
     "start_time": "2019-06-18T17:07:22.193Z"
    },
    "scrolled": false
   },
   "outputs": [],
   "source": [
    "\n",
    "bald_labels_I = [[]]\n",
    "batchbald_labels_I = [[]]\n",
    "\n",
    "for i, (samples_bald_i, samples_batchbald_i) in enumerate(zip(samples_bald, samples_batchbald)):\n",
    "    if len(samples_bald_i) == 0:\n",
    "        continue\n",
    "    bald_labels_I.append(get_labels(emnist_train, samples_bald_i) + bald_labels_I[-1])\n",
    "    batchbald_labels_I.append(get_labels(emnist_train, samples_batchbald_i) + batchbald_labels_I[-1])\n",
    "\n",
    "bald_labels_I.pop(0)\n",
    "batchbald_labels_I.pop(0)\n"
   ]
  },
  {
   "cell_type": "code",
   "execution_count": null,
   "metadata": {
    "ExecuteTime": {
     "end_time": "2019-06-18T17:07:22.857382Z",
     "start_time": "2019-06-18T17:07:22.336Z"
    }
   },
   "outputs": [],
   "source": [
    "random_labels_I = [[]]\n",
    "\n",
    "for i in range(1, len(samples_random)):\n",
    "    random_labels_I.append(get_labels(emnist_train, samples_random[i]) + random_labels_I[-1])\n",
    "\n",
    "\n",
    "random_labels_I.pop(0)\n"
   ]
  },
  {
   "cell_type": "code",
   "execution_count": null,
   "metadata": {
    "ExecuteTime": {
     "end_time": "2019-06-18T17:07:22.858296Z",
     "start_time": "2019-06-18T17:07:22.473Z"
    }
   },
   "outputs": [],
   "source": [
    "len(random_labels_I)"
   ]
  },
  {
   "cell_type": "code",
   "execution_count": null,
   "metadata": {
    "ExecuteTime": {
     "end_time": "2019-06-18T17:07:22.859275Z",
     "start_time": "2019-06-18T17:07:22.601Z"
    }
   },
   "outputs": [],
   "source": [
    "import torch\n",
    "num_classes=47"
   ]
  },
  {
   "cell_type": "code",
   "execution_count": null,
   "metadata": {
    "ExecuteTime": {
     "end_time": "2019-06-18T17:07:22.860203Z",
     "start_time": "2019-06-18T17:07:22.721Z"
    }
   },
   "outputs": [],
   "source": [
    "bald_bins = torch.as_tensor(get_bins(bald_labels_I[-2], 47))\n",
    "random_bins = torch.as_tensor(get_bins(random_labels_I[-2], 47))\n",
    "batchbald_bins = torch.as_tensor(get_bins(batchbald_labels_I[-2], 47))"
   ]
  },
  {
   "cell_type": "code",
   "execution_count": 42,
   "metadata": {
    "ExecuteTime": {
     "end_time": "2019-06-17T18:52:06.645525Z",
     "start_time": "2019-06-17T18:52:06.613540Z"
    }
   },
   "outputs": [],
   "source": [
    "sorted_bald_indices = torch.argsort(bald_bins, descending=False)\n",
    "sorted_batchbald_indices = torch.argsort(batchbald_bins, descending=False)\n",
    "sorted_random_indices = torch.argsort(random_bins, descending=False)\n",
    "sorted_indices = torch.argsort(bald_bins + batchbald_bins, descending=True)\n",
    "\n",
    "permuted_batchbald = batchbald_bins[sorted_batchbald_indices]\n",
    "permuted_random = random_bins[sorted_random_indices]\n",
    "permuted_bald = bald_bins[sorted_bald_indices]"
   ]
  },
  {
   "cell_type": "code",
   "execution_count": 47,
   "metadata": {
    "ExecuteTime": {
     "end_time": "2019-06-17T18:53:25.003523Z",
     "start_time": "2019-06-17T18:53:24.992137Z"
    }
   },
   "outputs": [
    {
     "data": {
      "text/plain": [
       "(47,)"
      ]
     },
     "execution_count": 47,
     "metadata": {},
     "output_type": "execute_result"
    }
   ],
   "source": [
    "permuted_batchbald.numpy().shape"
   ]
  },
  {
   "cell_type": "code",
   "execution_count": 56,
   "metadata": {
    "ExecuteTime": {
     "end_time": "2019-06-17T19:09:33.856407Z",
     "start_time": "2019-06-17T19:09:32.736411Z"
    }
   },
   "outputs": [
    {
     "data": {
      "image/png": "[encoded data removed]",
      "text/plain": [
       "<Figure size 1440x360 with 2 Axes>"
      ]
     },
     "metadata": {
      "needs_background": "light"
     },
     "output_type": "display_data"
    }
   ],
   "source": [
    "fig, axes = plt.subplots(nrows=1,\n",
    "                         ncols=2,\n",
    "                         squeeze=True,\n",
    "                         figsize=(20, 5),\n",
    "                         sharey=True)\n",
    "plt.tight_layout()\n",
    "axis = axes[0]\n",
    "axis.set_title('BatchBALD')\n",
    "axis.set_ylabel('Acquisition count')\n",
    "axis.set_xlabel('Label')\n",
    "\n",
    "\n",
    "def highlight_lower_half(axis,\n",
    "                         data,\n",
    "                         indices,\n",
    "                         alpha,\n",
    "                         color,\n",
    "                         show_only_half=False):\n",
    "    if show_only_half:\n",
    "        axis.bar(list(range(num_classes // 2)),\n",
    "                 data[:num_classes // 2],\n",
    "                 tick_label=list(indices)[:num_classes // 2],\n",
    "                 color=color,\n",
    "                 alpha=1)\n",
    "        return\n",
    "    axis.bar(list(range(num_classes)),\n",
    "             data,\n",
    "             tick_label=list(indices),\n",
    "             color=color,\n",
    "             alpha=alpha)\n",
    "    axis.bar(list(range(num_classes // 2)),\n",
    "             data[:num_classes // 2],\n",
    "             color=color,\n",
    "             alpha=1 - alpha)\n",
    "\n",
    "\n",
    "highlight_lower_half(axis, permuted_batchbald.numpy(),\n",
    "                     sorted_batchbald_indices, 0.3, 'C2', show_only_half=True)\n",
    "\n",
    "# axis = axes[1]\n",
    "# axis.set_title('Random')\n",
    "# axis.set_ylabel('Acquisition count')\n",
    "# axis.set_xlabel('Label')\n",
    "# axis.bar(list(range(num_classes)), permuted_random.numpy(), tick_label=list(sorted_random_indices), color='C1')\n",
    "\n",
    "axis = axes[1]\n",
    "axis.set_title('BALD')\n",
    "axis.set_ylabel('Acquisition count')\n",
    "axis.set_xlabel('Label')\n",
    "highlight_lower_half(axis, permuted_bald.numpy(), sorted_bald_indices, 0.3,\n",
    "                     'C3', show_only_half=True)\n",
    "\n",
    "output_path = blackhc.notebook.original_dir + '/histogram_labels_EMNIST.png'\n",
    "alp.plot_save(output_path, dpi=300)"
   ]
  },
  {
   "cell_type": "code",
   "execution_count": 55,
   "metadata": {
    "ExecuteTime": {
     "end_time": "2019-06-17T18:57:04.335144Z",
     "start_time": "2019-06-17T18:57:02.194104Z"
    }
   },
   "outputs": [
    {
     "data": {
      "image/png": "[encoded data removed]",
      "text/plain": [
       "<Figure size 1440x360 with 3 Axes>"
      ]
     },
     "metadata": {
      "needs_background": "light"
     },
     "output_type": "display_data"
    }
   ],
   "source": [
    "fig, axes= plt.subplots(nrows=1, ncols=3, squeeze=True, figsize=(20,5), sharey=True)\n",
    "plt.tight_layout()\n",
    "axis = axes[0]\n",
    "axis.set_title('BatchBALD')\n",
    "axis.set_ylabel('Acquisition count')\n",
    "axis.set_xlabel('Label')\n",
    "highlight_lower_half(axis, permuted_batchbald.numpy(), sorted_batchbald_indices, 0.3, 'C2')\n",
    "\n",
    "axis = axes[1]\n",
    "axis.set_title('Random')\n",
    "axis.set_ylabel('Acquisition count')\n",
    "axis.set_xlabel('Label')\n",
    "highlight_lower_half(axis, permuted_random.numpy(), sorted_random_indices, 0.3, 'C1')\n",
    "\n",
    "axis = axes[2]\n",
    "axis.set_title('BALD')\n",
    "axis.set_ylabel('Acquisition count')\n",
    "axis.set_xlabel('Label')\n",
    "highlight_lower_half(axis, permuted_bald.numpy(), sorted_bald_indices, 0.3, 'C3')\n",
    "    \n",
    "output_path = blackhc.notebook.original_dir + '/histogram_labels_EMNIST_w_random.png'\n",
    "alp.plot_save(output_path, dpi=300)"
   ]
  },
  {
   "cell_type": "code",
   "execution_count": 34,
   "metadata": {
    "ExecuteTime": {
     "end_time": "2019-05-22T18:20:11.186495Z",
     "start_time": "2019-05-22T18:20:11.110744Z"
    }
   },
   "outputs": [],
   "source": [
    "bald_labels = []\n",
    "batchbald_labels = []\n",
    "\n",
    "bald_entropies = []\n",
    "batchbald_entropies = []\n",
    "\n",
    "bald_step_entropies = []\n",
    "batchbald_step_entropies = []\n",
    "for i, (samples_bald_i, samples_batchbald_i) in enumerate(zip(samples_bald, samples_batchbald)):\n",
    "    if len(samples_bald_i) == 0:\n",
    "        continue\n",
    "    bald_labels.extend(get_labels(emnist_train, samples_bald_i))\n",
    "    batchbald_labels.extend(get_labels(emnist_train, samples_batchbald_i))\n",
    "    \n",
    "    bald_step_entropies.append(get_label_entropy(samples_bald_i))\n",
    "    batchbald_step_entropies.append(get_label_entropy(samples_batchbald_i))\n",
    "    \n",
    "    bald_entropies.append(get_label_entropy(bald_labels))\n",
    "    batchbald_entropies.append(get_label_entropy(batchbald_labels))"
   ]
  },
  {
   "cell_type": "code",
   "execution_count": null,
   "metadata": {
    "ExecuteTime": {
     "end_time": "2019-05-22T18:20:11.569892Z",
     "start_time": "2019-05-22T18:20:11.499729Z"
    },
    "deletable": false,
    "editable": false,
    "run_control": {
     "frozen": true
    },
    "scrolled": false
   },
   "outputs": [],
   "source": [
    "pp.pprint(list(zip(bald_entropies, batchbald_entropies, bald_step_entropies, batchbald_step_entropies)))"
   ]
  },
  {
   "cell_type": "code",
   "execution_count": 36,
   "metadata": {
    "ExecuteTime": {
     "end_time": "2019-05-22T18:20:12.013183Z",
     "start_time": "2019-05-22T18:20:11.988087Z"
    }
   },
   "outputs": [
    {
     "name": "stdout",
     "output_type": "stream",
     "text": [
      "['grayscale', 'seaborn-white', 'classic', 'seaborn', 'seaborn-ticks', 'seaborn-bright', 'seaborn-dark', 'seaborn-whitegrid', 'seaborn-poster', 'dark_background', 'seaborn-paper', 'seaborn-colorblind', 'fast', 'seaborn-pastel', 'Solarize_Light2', 'bmh', 'seaborn-deep', 'seaborn-dark-palette', 'seaborn-muted', 'ggplot', 'fivethirtyeight', 'seaborn-talk', 'seaborn-darkgrid', 'tableau-colorblind10', 'seaborn-notebook', '_classic_test']\n"
     ]
    }
   ],
   "source": [
    "print(plt.style.available)"
   ]
  },
  {
   "cell_type": "code",
   "execution_count": 37,
   "metadata": {
    "ExecuteTime": {
     "end_time": "2019-05-22T18:20:19.501984Z",
     "start_time": "2019-05-22T18:20:19.204121Z"
    }
   },
   "outputs": [
    {
     "data": {
      "image/png": "[encoded data removed]",
      "text/plain": [
       "<Figure size 360x360 with 1 Axes>"
      ]
     },
     "metadata": {
      "needs_background": "light"
     },
     "output_type": "display_data"
    }
   ],
   "source": [
    "# #plt.title('Entropy of the frequency distribution of the acquired sample labels')\n",
    "# plt.figure(figsize=(5,5))\n",
    "# plt.xlabel('Acquisition iteration')\n",
    "# plt.ylabel('Entropy')\n",
    "# plt.plot(batchbald_entropies, label='BatchBALD', color='C2')\n",
    "# plt.plot(bald_entropies, label='BALD', color='C3')\n",
    "# plt.axis([1, 59, 2, 3.85])\n",
    "# plt.grid(True)\n",
    "# plt.legend(loc='lower right')\n",
    "\n",
    "# output_path = blackhc.notebook.original_dir + '/entropy_labels_EMNIST.png'\n",
    "# alp.plot_save(output_path, dpi=300)\n",
    "# plt.show()"
   ]
  },
  {
   "cell_type": "code",
   "execution_count": null,
   "metadata": {},
   "outputs": [],
   "source": []
  }
 ],
 "metadata": {
  "kernelspec": {
   "display_name": "Python 3",
   "language": "python",
   "name": "python3"
  },
  "language_info": {
   "codemirror_mode": {
    "name": "ipython",
    "version": 3
   },
   "file_extension": ".py",
   "mimetype": "text/x-python",
   "name": "python",
   "nbconvert_exporter": "python",
   "pygments_lexer": "ipython3",
   "version": "3.7.2"
  },
  "latex_envs": {
   "LaTeX_envs_menu_present": true,
   "autoclose": true,
   "autocomplete": true,
   "bibliofile": "biblio.bib",
   "cite_by": "apalike",
   "current_citInitial": 1,
   "eqLabelWithNumbers": true,
   "eqNumInitial": 1,
   "hotkeys": {
    "equation": "Ctrl-E",
    "itemize": "Ctrl-I"
   },
   "labels_anchors": false,
   "latex_user_defs": false,
   "report_style_numbering": false,
   "user_envs_cfg": false
  },
  "toc": {
   "base_numbering": 1,
   "nav_menu": {},
   "number_sections": true,
   "sideBar": false,
   "skip_h1_title": true,
   "title_cell": "Table of Contents",
   "title_sidebar": "Contents",
   "toc_cell": false,
   "toc_position": {},
   "toc_section_display": true,
   "toc_window_display": false
  }
 },
 "nbformat": 4,
 "nbformat_minor": 2
}
