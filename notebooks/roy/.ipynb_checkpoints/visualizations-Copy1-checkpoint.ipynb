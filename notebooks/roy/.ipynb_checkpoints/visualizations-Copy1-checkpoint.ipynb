{
 "cells": [
  {
   "cell_type": "markdown",
   "metadata": {
    "ExecuteTime": {
     "end_time": "2019-05-13T18:04:26.406407Z",
     "start_time": "2019-05-13T18:04:26.395100Z"
    }
   },
   "source": [
    "## Initialization"
   ]
  },
  {
   "cell_type": "code",
   "execution_count": 1,
   "metadata": {
    "ExecuteTime": {
     "end_time": "2019-06-18T15:17:47.484046Z",
     "start_time": "2019-06-18T15:17:47.441124Z"
    }
   },
   "outputs": [
    {
     "name": "stdout",
     "output_type": "stream",
     "text": [
      "Appended /home/adibi/rmg7/MIP/BatchBALD/src to paths\n",
      "Switched to directory /home/adibi/rmg7/MIP/BatchBALD\n",
      "%load_ext autoreload\n",
      "%autoreload 2\n"
     ]
    }
   ],
   "source": [
    "import blackhc.notebook"
   ]
  },
  {
   "cell_type": "code",
   "execution_count": 2,
   "metadata": {},
   "outputs": [],
   "source": [
    "import torch"
   ]
  },
  {
   "cell_type": "code",
   "execution_count": 3,
   "metadata": {
    "ExecuteTime": {
     "end_time": "2019-06-18T15:17:48.180801Z",
     "start_time": "2019-06-18T15:17:47.679194Z"
    }
   },
   "outputs": [],
   "source": [
    "import al_notebook.results_loader as rl\n",
    "import al_notebook.plots as alp\n",
    "from acquisition_functions import AcquisitionFunction\n",
    "from acquisition_method import AcquisitionMethod\n",
    "from dataset_enum import DatasetEnum"
   ]
  },
  {
   "cell_type": "code",
   "execution_count": 4,
   "metadata": {
    "ExecuteTime": {
     "end_time": "2019-06-18T15:17:48.190720Z",
     "start_time": "2019-06-18T15:17:48.182113Z"
    }
   },
   "outputs": [],
   "source": [
    "import numpy as np"
   ]
  },
  {
   "cell_type": "code",
   "execution_count": 5,
   "metadata": {
    "ExecuteTime": {
     "end_time": "2019-06-18T15:17:48.324276Z",
     "start_time": "2019-06-18T15:17:48.304186Z"
    }
   },
   "outputs": [],
   "source": [
    "import prettyprinter as pp"
   ]
  },
  {
   "cell_type": "code",
   "execution_count": 6,
   "metadata": {
    "ExecuteTime": {
     "end_time": "2019-06-18T15:17:48.565435Z",
     "start_time": "2019-06-18T15:17:48.553972Z"
    }
   },
   "outputs": [],
   "source": [
    "import matplotlib.pyplot as plt"
   ]
  },
  {
   "cell_type": "code",
   "execution_count": 7,
   "metadata": {
    "ExecuteTime": {
     "end_time": "2019-06-18T15:17:48.837258Z",
     "start_time": "2019-06-18T15:17:48.822600Z"
    }
   },
   "outputs": [],
   "source": [
    "%matplotlib inline"
   ]
  },
  {
   "cell_type": "code",
   "execution_count": 8,
   "metadata": {
    "ExecuteTime": {
     "end_time": "2019-06-18T15:17:50.727107Z",
     "start_time": "2019-06-18T15:17:50.703207Z"
    }
   },
   "outputs": [],
   "source": [
    "#MARKERS = (\"X\", \"s\", \"o\")\n",
    "MARKERS = None"
   ]
  },
  {
   "cell_type": "markdown",
   "metadata": {},
   "source": [
    "## Common functions\n"
   ]
  },
  {
   "cell_type": "code",
   "execution_count": 9,
   "metadata": {
    "ExecuteTime": {
     "end_time": "2019-06-18T15:17:52.654492Z",
     "start_time": "2019-06-18T15:17:52.619795Z"
    }
   },
   "outputs": [],
   "source": [
    "def acc_label_axes(metric):\n",
    "    plt.xlabel('Acquired dataset size')\n",
    "    plt.ylabel(metric)"
   ]
  },
  {
   "cell_type": "code",
   "execution_count": 17,
   "metadata": {
    "ExecuteTime": {
     "end_time": "2019-06-18T15:17:59.148517Z",
     "start_time": "2019-06-18T15:17:53.657034Z"
    }
   },
   "outputs": [],
   "source": [
    "stores = rl.load_experiment_results('EMORY_COVID')"
   ]
  },
  {
   "cell_type": "code",
   "execution_count": 18,
   "metadata": {},
   "outputs": [
    {
     "data": {
      "text/plain": [
       "dict_keys(['EMORY_COVID/covid_full_resnet_binary_scratch_meanstd_9031.py', 'EMORY_COVID/covid_full_resnet_binary_scratch_multibald_254.py', 'EMORY_COVID/covid_full_resnet_binary_scratch_multibald_9031.py', 'EMORY_COVID/covid_full_resnet_binary_scratch_random_58.py', 'EMORY_COVID/covid_full_resnet_binary_scratch_random_254.py', 'EMORY_COVID/covid_full_resnet_binary_scratch_random_9031.py', 'EMORY_COVID/covid_full_resnet_binary_scratch_meanstd_58.py', 'EMORY_COVID/covid_full_resnet_binary_scratch_meanstd_254.py', 'EMORY_COVID/covid_full_resnet_binary_scratch_vr_254.py', 'EMORY_COVID/covid_full_resnet_binary_scratch_multibald_1234.py', 'EMORY_COVID/covid_full_resnet_binary_scratch_multibald_4321.py', 'EMORY_COVID/covid_full_resnet_binary_scratch_multibald_8888.py', 'EMORY_COVID/covid_full_resnet_binary_scratch_multibald_58.py'])"
      ]
     },
     "execution_count": 18,
     "metadata": {},
     "output_type": "execute_result"
    }
   ],
   "source": [
    "stores.keys()"
   ]
  },
  {
   "cell_type": "code",
   "execution_count": 19,
   "metadata": {
    "ExecuteTime": {
     "end_time": "2019-06-18T15:17:59.160586Z",
     "start_time": "2019-06-18T15:17:59.149636Z"
    },
    "scrolled": true
   },
   "outputs": [
    {
     "name": "stdout",
     "output_type": "stream",
     "text": [
      "al_notebook.results_loader._args(\n",
      "    experiment_description='COVID BINARY:RESNET BN DROPOUT MEAN STD (SCRATCH)',\n",
      "    batch_size=16,\n",
      "    scoring_batch_size=32,\n",
      "    test_batch_size=64,\n",
      "    validation_set_size=500,\n",
      "    early_stopping_patience=3,\n",
      "    epochs=30,\n",
      "    epoch_samples=5056,\n",
      "    num_inference_samples=100,\n",
      "    available_sample_k=20,\n",
      "    target_num_acquired_samples=1000,\n",
      "    target_accuracy=0.9375,\n",
      "    quickquick=False,\n",
      "    seed=9031,\n",
      "    log_interval=20,\n",
      "    initial_samples_per_class=25,\n",
      "    initial_samples=None,\n",
      "    balanced_validation_set=False,\n",
      "    balanced_test_set=False,\n",
      "    no_cuda=False,\n",
      "    experiment_task_id='covid_full_resnet_binary_scratch_meanstd_9031',\n",
      "    experiments_laaos='./experiment_configs/EMORY_COVID/scratch_binary_config.py',\n",
      "    type=acquisition_functions.AcquisitionFunction.mean_stddev,\n",
      "    acquisition_method=acquisition_method.AcquisitionMethod.independent,\n",
      "    dataset=dataset_enum.DatasetEnum.covid_binary\n",
      ")\n"
     ]
    }
   ],
   "source": [
    "pp.pprint(rl.get_any(stores).args)"
   ]
  },
  {
   "cell_type": "code",
   "execution_count": 20,
   "metadata": {
    "ExecuteTime": {
     "end_time": "2019-06-18T15:17:59.190393Z",
     "start_time": "2019-06-18T15:17:59.161671Z"
    }
   },
   "outputs": [
    {
     "name": "stdout",
     "output_type": "stream",
     "text": [
      "{\n",
      "    'experiment_description': {\n",
      "        'COVID BINARY:RESNET BN DROPOUT VARIATIONAL RATIOS (SCRATCH)',\n",
      "        'COVID BINARY:RESNET BN DROPOUT MEAN STD (SCRATCH)',\n",
      "        'COVID BINARY:RESNET BN DROPOUT RANDOM (SCRATCH)',\n",
      "        'COVID BINARY:RESNET BN DROPOUT MULTI BALD (SCRATCH)'\n",
      "    },\n",
      "    'type': {\n",
      "        acquisition_functions.AcquisitionFunction.bald,\n",
      "        acquisition_functions.AcquisitionFunction.variation_ratios,\n",
      "        acquisition_functions.AcquisitionFunction.random,\n",
      "        acquisition_functions.AcquisitionFunction.mean_stddev\n",
      "    },\n",
      "    'acquisition_method': {\n",
      "        acquisition_method.AcquisitionMethod.multibald,\n",
      "        acquisition_method.AcquisitionMethod.independent\n",
      "    },\n",
      "    'num_acquired_points': {\n",
      "        1050,\n",
      "        390,\n",
      "        330,\n",
      "        250,\n",
      "        430,\n",
      "        210,\n",
      "        690,\n",
      "        570,\n",
      "        310,\n",
      "        410,\n",
      "        350\n",
      "    }\n",
      "}\n"
     ]
    }
   ],
   "source": [
    "pp.pprint(rl.diff_args(stores))"
   ]
  },
  {
   "cell_type": "code",
   "execution_count": 21,
   "metadata": {},
   "outputs": [
    {
     "data": {
      "text/plain": [
       "dict_keys(['EMORY_COVID/covid_full_resnet_binary_scratch_meanstd_9031.py', 'EMORY_COVID/covid_full_resnet_binary_scratch_multibald_254.py', 'EMORY_COVID/covid_full_resnet_binary_scratch_multibald_9031.py', 'EMORY_COVID/covid_full_resnet_binary_scratch_random_58.py', 'EMORY_COVID/covid_full_resnet_binary_scratch_random_254.py', 'EMORY_COVID/covid_full_resnet_binary_scratch_random_9031.py', 'EMORY_COVID/covid_full_resnet_binary_scratch_meanstd_58.py', 'EMORY_COVID/covid_full_resnet_binary_scratch_meanstd_254.py', 'EMORY_COVID/covid_full_resnet_binary_scratch_vr_254.py', 'EMORY_COVID/covid_full_resnet_binary_scratch_multibald_1234.py', 'EMORY_COVID/covid_full_resnet_binary_scratch_multibald_4321.py', 'EMORY_COVID/covid_full_resnet_binary_scratch_multibald_8888.py', 'EMORY_COVID/covid_full_resnet_binary_scratch_multibald_58.py'])"
      ]
     },
     "execution_count": 21,
     "metadata": {},
     "output_type": "execute_result"
    }
   ],
   "source": [
    "# vgg_multi_pretrained_9031.py\n",
    "stores.keys()"
   ]
  },
  {
   "cell_type": "markdown",
   "metadata": {},
   "source": [
    "# VISUALIZATIONS"
   ]
  },
  {
   "cell_type": "code",
   "execution_count": 22,
   "metadata": {
    "ExecuteTime": {
     "end_time": "2019-06-13T11:45:11.385014Z",
     "start_time": "2019-06-13T11:45:10.815340Z"
    }
   },
   "outputs": [
    {
     "name": "stdout",
     "output_type": "stream",
     "text": [
      "{\n",
      "    'experiment_description': {\n",
      "        'COVID BINARY:RESNET BN DROPOUT VARIATIONAL RATIOS (SCRATCH)',\n",
      "        'COVID BINARY:RESNET BN DROPOUT MEAN STD (SCRATCH)',\n",
      "        'COVID BINARY:RESNET BN DROPOUT RANDOM (SCRATCH)',\n",
      "        'COVID BINARY:RESNET BN DROPOUT MULTI BALD (SCRATCH)'\n",
      "    },\n",
      "    'type': {\n",
      "        acquisition_functions.AcquisitionFunction.bald,\n",
      "        acquisition_functions.AcquisitionFunction.variation_ratios,\n",
      "        acquisition_functions.AcquisitionFunction.random,\n",
      "        acquisition_functions.AcquisitionFunction.mean_stddev\n",
      "    },\n",
      "    'acquisition_method': {\n",
      "        acquisition_method.AcquisitionMethod.multibald,\n",
      "        acquisition_method.AcquisitionMethod.independent\n",
      "    },\n",
      "    'num_acquired_points': {\n",
      "        1050,\n",
      "        390,\n",
      "        330,\n",
      "        250,\n",
      "        430,\n",
      "        210,\n",
      "        690,\n",
      "        570,\n",
      "        310,\n",
      "        410,\n",
      "        350\n",
      "    }\n",
      "}\n",
      "{\n",
      "    'Mean STD': {\n",
      "        'num_trials': 3,\n",
      "        'experiment_description': {\n",
      "            'COVID BINARY:RESNET BN DROPOUT MEAN STD (SCRATCH)'\n",
      "        },\n",
      "        'num_inference_samples': {100},\n",
      "        'available_sample_k': {20},\n",
      "        'quickquick': {False},\n",
      "        'initial_samples_per_class': {25},\n",
      "        'initial_samples': {None},\n",
      "        'balanced_validation_set': {False},\n",
      "        'balanced_test_set': {False},\n",
      "        'experiments_laaos': {\n",
      "            './experiment_configs/EMORY_COVID/scratch_binary_config.py'\n",
      "        },\n",
      "        'type': {acquisition_functions.AcquisitionFunction.mean_stddev},\n",
      "        'acquisition_method': {\n",
      "            acquisition_method.AcquisitionMethod.independent\n",
      "        },\n",
      "        'dataset': {dataset_enum.DatasetEnum.covid_binary},\n",
      "        'num_acquired_points': {210, 410, 390},\n",
      "        'num_initial_samples': {50},\n",
      "        'tag': {'EMORY_COVID'}\n",
      "    },\n",
      "    'BatchBALD': {\n",
      "        'num_trials': 6,\n",
      "        'experiment_description': {\n",
      "            'COVID BINARY:RESNET BN DROPOUT MULTI BALD (SCRATCH)'\n",
      "        },\n",
      "        'num_inference_samples': {100},\n",
      "        'available_sample_k': {20},\n",
      "        'quickquick': {False},\n",
      "        'initial_samples_per_class': {25},\n",
      "        'initial_samples': {None},\n",
      "        'balanced_validation_set': {False},\n",
      "        'balanced_test_set': {False},\n",
      "        'experiments_laaos': {\n",
      "            './experiment_configs/EMORY_COVID/scratch_binary_config.py'\n",
      "        },\n",
      "        'type': {acquisition_functions.AcquisitionFunction.bald},\n",
      "        'acquisition_method': {acquisition_method.AcquisitionMethod.multibald},\n",
      "        'dataset': {dataset_enum.DatasetEnum.covid_binary},\n",
      "        'num_acquired_points': {430, 690, 570, 310, 250, 350},\n",
      "        'num_initial_samples': {50},\n",
      "        'tag': {'EMORY_COVID'}\n",
      "    },\n",
      "    'Random': {\n",
      "        'num_trials': 3,\n",
      "        'experiment_description': {\n",
      "            'COVID BINARY:RESNET BN DROPOUT RANDOM (SCRATCH)'\n",
      "        },\n",
      "        'num_inference_samples': {100},\n",
      "        'available_sample_k': {20},\n",
      "        'quickquick': {False},\n",
      "        'initial_samples_per_class': {25},\n",
      "        'initial_samples': {None},\n",
      "        'balanced_validation_set': {False},\n",
      "        'balanced_test_set': {False},\n",
      "        'experiments_laaos': {\n",
      "            './experiment_configs/EMORY_COVID/scratch_binary_config.py'\n",
      "        },\n",
      "        'type': {acquisition_functions.AcquisitionFunction.random},\n",
      "        'acquisition_method': {\n",
      "            acquisition_method.AcquisitionMethod.independent\n",
      "        },\n",
      "        'dataset': {dataset_enum.DatasetEnum.covid_binary},\n",
      "        'num_acquired_points': {1050, 330},\n",
      "        'num_initial_samples': {50},\n",
      "        'tag': {'EMORY_COVID'}\n",
      "    },\n",
      "    'Var ratios': {\n",
      "        'num_trials': 1,\n",
      "        'experiment_description': {\n",
      "            'COVID BINARY:RESNET BN DROPOUT VARIATIONAL RATIOS (SCRATCH)'\n",
      "        },\n",
      "        'num_inference_samples': {100},\n",
      "        'available_sample_k': {20},\n",
      "        'quickquick': {False},\n",
      "        'initial_samples_per_class': {25},\n",
      "        'initial_samples': {None},\n",
      "        'balanced_validation_set': {False},\n",
      "        'balanced_test_set': {False},\n",
      "        'experiments_laaos': {\n",
      "            './experiment_configs/EMORY_COVID/scratch_binary_config.py'\n",
      "        },\n",
      "        'type': {acquisition_functions.AcquisitionFunction.variation_ratios},\n",
      "        'acquisition_method': {\n",
      "            acquisition_method.AcquisitionMethod.independent\n",
      "        },\n",
      "        'dataset': {dataset_enum.DatasetEnum.covid_binary},\n",
      "        'num_acquired_points': {250},\n",
      "        'num_initial_samples': {50},\n",
      "        'tag': {'EMORY_COVID'}\n",
      "    }\n",
      "}\n"
     ]
    },
    {
     "ename": "AttributeError",
     "evalue": "'_testMetrics' object has no attribute 'specificity'",
     "output_type": "error",
     "traceback": [
      "\u001b[0;31m---------------------------------------------------------------------------\u001b[0m",
      "\u001b[0;31mAttributeError\u001b[0m                            Traceback (most recent call last)",
      "Cell \u001b[0;32mIn[22], line 95\u001b[0m\n\u001b[1;32m     88\u001b[0m grouped_by_loss \u001b[38;5;241m=\u001b[39m rl\u001b[38;5;241m.\u001b[39mmap_dict(\n\u001b[1;32m     89\u001b[0m     grouped_by,\n\u001b[1;32m     90\u001b[0m     v\u001b[38;5;241m=\u001b[39m\u001b[38;5;28;01mlambda\u001b[39;00m stores: rl\u001b[38;5;241m.\u001b[39maggregate_loss(stores, thresholds\u001b[38;5;241m=\u001b[39m(\u001b[38;5;241m0.45\u001b[39m, \u001b[38;5;241m0.3\u001b[39m)))\n\u001b[1;32m     91\u001b[0m grouped_by_sensitivity \u001b[38;5;241m=\u001b[39m rl\u001b[38;5;241m.\u001b[39mmap_dict(\n\u001b[1;32m     92\u001b[0m     grouped_by,\n\u001b[1;32m     93\u001b[0m     v\u001b[38;5;241m=\u001b[39m\u001b[38;5;28;01mlambda\u001b[39;00m stores: rl\u001b[38;5;241m.\u001b[39maggregate_sensitivity(stores, thresholds\u001b[38;5;241m=\u001b[39m(\u001b[38;5;241m90\u001b[39m, \u001b[38;5;241m93.75\u001b[39m)))\n\u001b[0;32m---> 95\u001b[0m grouped_by_specificity \u001b[38;5;241m=\u001b[39m \u001b[43mrl\u001b[49m\u001b[38;5;241;43m.\u001b[39;49m\u001b[43mmap_dict\u001b[49m\u001b[43m(\u001b[49m\n\u001b[1;32m     96\u001b[0m \u001b[43m    \u001b[49m\u001b[43mgrouped_by\u001b[49m\u001b[43m,\u001b[49m\n\u001b[1;32m     97\u001b[0m \u001b[43m    \u001b[49m\u001b[43mv\u001b[49m\u001b[38;5;241;43m=\u001b[39;49m\u001b[38;5;28;43;01mlambda\u001b[39;49;00m\u001b[43m \u001b[49m\u001b[43mstores\u001b[49m\u001b[43m:\u001b[49m\u001b[43m \u001b[49m\u001b[43mrl\u001b[49m\u001b[38;5;241;43m.\u001b[39;49m\u001b[43maggregate_specificity\u001b[49m\u001b[43m(\u001b[49m\u001b[43mstores\u001b[49m\u001b[43m,\u001b[49m\u001b[43m \u001b[49m\u001b[43mthresholds\u001b[49m\u001b[38;5;241;43m=\u001b[39;49m\u001b[43m(\u001b[49m\u001b[38;5;241;43m90\u001b[39;49m\u001b[43m,\u001b[49m\u001b[43m \u001b[49m\u001b[38;5;241;43m93.75\u001b[39;49m\u001b[43m)\u001b[49m\u001b[43m)\u001b[49m\u001b[43m)\u001b[49m\n\u001b[1;32m     99\u001b[0m \u001b[38;5;66;03m#sorted_dict = rl.sort_dict(grouped_by, v=rl.get_threshold_quantiles_key)\u001b[39;00m\n\u001b[1;32m    101\u001b[0m acquisition_functions_list \u001b[38;5;241m=\u001b[39m [\u001b[38;5;124m'\u001b[39m\u001b[38;5;124mBatchBALD\u001b[39m\u001b[38;5;124m'\u001b[39m, \u001b[38;5;124m'\u001b[39m\u001b[38;5;124mRandom\u001b[39m\u001b[38;5;124m'\u001b[39m, \u001b[38;5;124m'\u001b[39m\u001b[38;5;124mBALD\u001b[39m\u001b[38;5;124m'\u001b[39m, \u001b[38;5;124m'\u001b[39m\u001b[38;5;124mVar ratios\u001b[39m\u001b[38;5;124m'\u001b[39m, \u001b[38;5;124m'\u001b[39m\u001b[38;5;124mMean STD\u001b[39m\u001b[38;5;124m'\u001b[39m]\n",
      "File \u001b[0;32m/home/adibi/rmg7/MIP/BatchBALD/src/al_notebook/results_loader.py:148\u001b[0m, in \u001b[0;36mmap_dict\u001b[0;34m(d, kv, k, v)\u001b[0m\n\u001b[1;32m    146\u001b[0m \u001b[38;5;28;01mdef\u001b[39;00m \u001b[38;5;21mmap_dict\u001b[39m(d: \u001b[38;5;28mdict\u001b[39m, \u001b[38;5;241m*\u001b[39m, kv\u001b[38;5;241m=\u001b[39m\u001b[38;5;28;01mNone\u001b[39;00m, k\u001b[38;5;241m=\u001b[39m\u001b[38;5;28;01mNone\u001b[39;00m, v\u001b[38;5;241m=\u001b[39m\u001b[38;5;28;01mNone\u001b[39;00m):\n\u001b[1;32m    147\u001b[0m     inner \u001b[38;5;241m=\u001b[39m handle_map_funcs(kv, k, v)\n\u001b[0;32m--> 148\u001b[0m     \u001b[38;5;28;01mreturn\u001b[39;00m \u001b[38;5;28mdict\u001b[39m(\u001b[38;5;28mmap\u001b[39m(inner, d\u001b[38;5;241m.\u001b[39mitems()))\n",
      "File \u001b[0;32m/home/adibi/rmg7/MIP/BatchBALD/src/al_notebook/results_loader.py:116\u001b[0m, in \u001b[0;36mhandle_map_funcs.<locals>.inner\u001b[0;34m(kv)\u001b[0m\n\u001b[1;32m    115\u001b[0m \u001b[38;5;28;01mdef\u001b[39;00m \u001b[38;5;21minner\u001b[39m(kv):\n\u001b[0;32m--> 116\u001b[0m     \u001b[38;5;28;01mreturn\u001b[39;00m kv[\u001b[38;5;241m0\u001b[39m], \u001b[43mfunc_v\u001b[49m\u001b[43m(\u001b[49m\u001b[43mkv\u001b[49m\u001b[43m[\u001b[49m\u001b[38;5;241;43m1\u001b[39;49m\u001b[43m]\u001b[49m\u001b[43m)\u001b[49m\n",
      "Cell \u001b[0;32mIn[22], line 97\u001b[0m, in \u001b[0;36m<lambda>\u001b[0;34m(stores)\u001b[0m\n\u001b[1;32m     88\u001b[0m grouped_by_loss \u001b[38;5;241m=\u001b[39m rl\u001b[38;5;241m.\u001b[39mmap_dict(\n\u001b[1;32m     89\u001b[0m     grouped_by,\n\u001b[1;32m     90\u001b[0m     v\u001b[38;5;241m=\u001b[39m\u001b[38;5;28;01mlambda\u001b[39;00m stores: rl\u001b[38;5;241m.\u001b[39maggregate_loss(stores, thresholds\u001b[38;5;241m=\u001b[39m(\u001b[38;5;241m0.45\u001b[39m, \u001b[38;5;241m0.3\u001b[39m)))\n\u001b[1;32m     91\u001b[0m grouped_by_sensitivity \u001b[38;5;241m=\u001b[39m rl\u001b[38;5;241m.\u001b[39mmap_dict(\n\u001b[1;32m     92\u001b[0m     grouped_by,\n\u001b[1;32m     93\u001b[0m     v\u001b[38;5;241m=\u001b[39m\u001b[38;5;28;01mlambda\u001b[39;00m stores: rl\u001b[38;5;241m.\u001b[39maggregate_sensitivity(stores, thresholds\u001b[38;5;241m=\u001b[39m(\u001b[38;5;241m90\u001b[39m, \u001b[38;5;241m93.75\u001b[39m)))\n\u001b[1;32m     95\u001b[0m grouped_by_specificity \u001b[38;5;241m=\u001b[39m rl\u001b[38;5;241m.\u001b[39mmap_dict(\n\u001b[1;32m     96\u001b[0m     grouped_by,\n\u001b[0;32m---> 97\u001b[0m     v\u001b[38;5;241m=\u001b[39m\u001b[38;5;28;01mlambda\u001b[39;00m stores: \u001b[43mrl\u001b[49m\u001b[38;5;241;43m.\u001b[39;49m\u001b[43maggregate_specificity\u001b[49m\u001b[43m(\u001b[49m\u001b[43mstores\u001b[49m\u001b[43m,\u001b[49m\u001b[43m \u001b[49m\u001b[43mthresholds\u001b[49m\u001b[38;5;241;43m=\u001b[39;49m\u001b[43m(\u001b[49m\u001b[38;5;241;43m90\u001b[39;49m\u001b[43m,\u001b[49m\u001b[43m \u001b[49m\u001b[38;5;241;43m93.75\u001b[39;49m\u001b[43m)\u001b[49m\u001b[43m)\u001b[49m)\n\u001b[1;32m     99\u001b[0m \u001b[38;5;66;03m#sorted_dict = rl.sort_dict(grouped_by, v=rl.get_threshold_quantiles_key)\u001b[39;00m\n\u001b[1;32m    101\u001b[0m acquisition_functions_list \u001b[38;5;241m=\u001b[39m [\u001b[38;5;124m'\u001b[39m\u001b[38;5;124mBatchBALD\u001b[39m\u001b[38;5;124m'\u001b[39m, \u001b[38;5;124m'\u001b[39m\u001b[38;5;124mRandom\u001b[39m\u001b[38;5;124m'\u001b[39m, \u001b[38;5;124m'\u001b[39m\u001b[38;5;124mBALD\u001b[39m\u001b[38;5;124m'\u001b[39m, \u001b[38;5;124m'\u001b[39m\u001b[38;5;124mVar ratios\u001b[39m\u001b[38;5;124m'\u001b[39m, \u001b[38;5;124m'\u001b[39m\u001b[38;5;124mMean STD\u001b[39m\u001b[38;5;124m'\u001b[39m]\n",
      "File \u001b[0;32m/home/adibi/rmg7/MIP/BatchBALD/src/al_notebook/results_loader.py:635\u001b[0m, in \u001b[0;36maggregate_specificity\u001b[0;34m(stores, percentiles, thresholds)\u001b[0m\n\u001b[1;32m    634\u001b[0m \u001b[38;5;28;01mdef\u001b[39;00m \u001b[38;5;21maggregate_specificity\u001b[39m(stores, percentiles\u001b[38;5;241m=\u001b[39m\u001b[38;5;28;01mNone\u001b[39;00m, thresholds\u001b[38;5;241m=\u001b[39m\u001b[38;5;28;01mNone\u001b[39;00m):\n\u001b[0;32m--> 635\u001b[0m     \u001b[38;5;28;01mreturn\u001b[39;00m \u001b[43maggregate_values\u001b[49m\u001b[43m(\u001b[49m\u001b[43mstores\u001b[49m\u001b[43m,\u001b[49m\u001b[43m \u001b[49m\u001b[43mgather_specificity\u001b[49m\u001b[43m,\u001b[49m\u001b[43m \u001b[49m\u001b[43mpercentiles\u001b[49m\u001b[43m,\u001b[49m\u001b[43m \u001b[49m\u001b[43mthresholds\u001b[49m\u001b[43m)\u001b[49m\n",
      "File \u001b[0;32m/home/adibi/rmg7/MIP/BatchBALD/src/al_notebook/results_loader.py:640\u001b[0m, in \u001b[0;36maggregate_values\u001b[0;34m(stores, values_getter, percentiles, thresholds)\u001b[0m\n\u001b[1;32m    639\u001b[0m \u001b[38;5;28;01mdef\u001b[39;00m \u001b[38;5;21maggregate_values\u001b[39m(stores, values_getter, percentiles\u001b[38;5;241m=\u001b[39m\u001b[38;5;28;01mNone\u001b[39;00m, thresholds\u001b[38;5;241m=\u001b[39m\u001b[38;5;28;01mNone\u001b[39;00m):\n\u001b[0;32m--> 640\u001b[0m     values_sample_points_T \u001b[38;5;241m=\u001b[39m \u001b[43m[\u001b[49m\n\u001b[1;32m    641\u001b[0m \u001b[43m        \u001b[49m\u001b[43mexpand_samples_I_values_I\u001b[49m\u001b[43m(\u001b[49m\u001b[43mget_samples_values_I\u001b[49m\u001b[43m(\u001b[49m\u001b[43mstore\u001b[49m\u001b[43m,\u001b[49m\u001b[43m \u001b[49m\u001b[43mvalues_getter\u001b[49m\u001b[43m)\u001b[49m\u001b[43m)\u001b[49m\u001b[43m \u001b[49m\u001b[38;5;28;43;01mfor\u001b[39;49;00m\u001b[43m \u001b[49m\u001b[43mstore\u001b[49m\u001b[43m \u001b[49m\u001b[38;5;129;43;01min\u001b[39;49;00m\u001b[43m \u001b[49m\u001b[43mstores\u001b[49m\u001b[38;5;241;43m.\u001b[39;49m\u001b[43mvalues\u001b[49m\u001b[43m(\u001b[49m\u001b[43m)\u001b[49m\n\u001b[1;32m    642\u001b[0m \u001b[43m    \u001b[49m\u001b[43m]\u001b[49m\n\u001b[1;32m    643\u001b[0m     \u001b[38;5;28;01mreturn\u001b[39;00m aggregate_values_sample_points_T(values_sample_points_T, percentiles\u001b[38;5;241m=\u001b[39mpercentiles, thresholds\u001b[38;5;241m=\u001b[39mthresholds)\n",
      "File \u001b[0;32m/home/adibi/rmg7/MIP/BatchBALD/src/al_notebook/results_loader.py:641\u001b[0m, in \u001b[0;36m<listcomp>\u001b[0;34m(.0)\u001b[0m\n\u001b[1;32m    639\u001b[0m \u001b[38;5;28;01mdef\u001b[39;00m \u001b[38;5;21maggregate_values\u001b[39m(stores, values_getter, percentiles\u001b[38;5;241m=\u001b[39m\u001b[38;5;28;01mNone\u001b[39;00m, thresholds\u001b[38;5;241m=\u001b[39m\u001b[38;5;28;01mNone\u001b[39;00m):\n\u001b[1;32m    640\u001b[0m     values_sample_points_T \u001b[38;5;241m=\u001b[39m [\n\u001b[0;32m--> 641\u001b[0m         expand_samples_I_values_I(\u001b[43mget_samples_values_I\u001b[49m\u001b[43m(\u001b[49m\u001b[43mstore\u001b[49m\u001b[43m,\u001b[49m\u001b[43m \u001b[49m\u001b[43mvalues_getter\u001b[49m\u001b[43m)\u001b[49m) \u001b[38;5;28;01mfor\u001b[39;00m store \u001b[38;5;129;01min\u001b[39;00m stores\u001b[38;5;241m.\u001b[39mvalues()\n\u001b[1;32m    642\u001b[0m     ]\n\u001b[1;32m    643\u001b[0m     \u001b[38;5;28;01mreturn\u001b[39;00m aggregate_values_sample_points_T(values_sample_points_T, percentiles\u001b[38;5;241m=\u001b[39mpercentiles, thresholds\u001b[38;5;241m=\u001b[39mthresholds)\n",
      "File \u001b[0;32m/home/adibi/rmg7/MIP/BatchBALD/src/al_notebook/results_loader.py:517\u001b[0m, in \u001b[0;36mget_samples_values_I\u001b[0;34m(store, values_getter)\u001b[0m\n\u001b[1;32m    511\u001b[0m \u001b[38;5;28;01mdef\u001b[39;00m \u001b[38;5;21mget_samples_values_I\u001b[39m(store, values_getter):\n\u001b[1;32m    512\u001b[0m \u001b[38;5;250m    \u001b[39m\u001b[38;5;124;03m\"\"\"\u001b[39;00m\n\u001b[1;32m    513\u001b[0m \u001b[38;5;124;03m    :returns a list of (samples, values) tuples. accuracy refers to the accuracy after having added samples to the\u001b[39;00m\n\u001b[1;32m    514\u001b[0m \u001b[38;5;124;03m    training set.\u001b[39;00m\n\u001b[1;32m    515\u001b[0m \u001b[38;5;124;03m    \"\"\"\u001b[39;00m\n\u001b[0;32m--> 517\u001b[0m     values_I \u001b[38;5;241m=\u001b[39m \u001b[38;5;28mlist\u001b[39m(\u001b[43mvalues_getter\u001b[49m\u001b[43m(\u001b[49m\u001b[43mstore\u001b[49m\u001b[43m)\u001b[49m)\n\u001b[1;32m    518\u001b[0m     samples_I \u001b[38;5;241m=\u001b[39m gather_samples_I(store)\n\u001b[1;32m    520\u001b[0m     samples_values_I \u001b[38;5;241m=\u001b[39m \u001b[38;5;28mlist\u001b[39m(\u001b[38;5;28mzip\u001b[39m(samples_I, values_I))\n",
      "File \u001b[0;32m/home/adibi/rmg7/MIP/BatchBALD/src/al_notebook/results_loader.py:336\u001b[0m, in \u001b[0;36mgather_specificity\u001b[0;34m(store)\u001b[0m\n\u001b[1;32m    334\u001b[0m specificity \u001b[38;5;241m=\u001b[39m []\n\u001b[1;32m    335\u001b[0m \u001b[38;5;28;01mfor\u001b[39;00m iteration \u001b[38;5;129;01min\u001b[39;00m store\u001b[38;5;241m.\u001b[39miterations:\n\u001b[0;32m--> 336\u001b[0m     specificity\u001b[38;5;241m.\u001b[39mappend(\u001b[43miteration\u001b[49m\u001b[38;5;241;43m.\u001b[39;49m\u001b[43mtest_metrics\u001b[49m\u001b[38;5;241;43m.\u001b[39;49m\u001b[43mspecificity\u001b[49m)\n\u001b[1;32m    338\u001b[0m \u001b[38;5;28;01mreturn\u001b[39;00m specificity\n",
      "\u001b[0;31mAttributeError\u001b[0m: '_testMetrics' object has no attribute 'specificity'"
     ]
    }
   ],
   "source": [
    "for show_b in (10, ):\n",
    "    filtered = {}\n",
    "\n",
    "    def filter_exps(name, store):\n",
    "\n",
    "        vip_args = rl.get_vip_args(store)\n",
    "\n",
    "        # if vip_args.ds not in (DatasetEnum.rsna_multi,\n",
    "        #                        ):  #, DatasetEnum.mnist_w_noise):\n",
    "        #     return False\n",
    "\n",
    "        if vip_args.nis == 0:\n",
    "            return False\n",
    "\n",
    "    #     if vip_args.nap < 300:\n",
    "    #         return False\n",
    "\n",
    "        if (vip_args.am, vip_args.af) in ((AcquisitionMethod.multibald,\n",
    "                                               AcquisitionFunction.bald),\n",
    "                                              (AcquisitionMethod.independent,\n",
    "                                               AcquisitionFunction.bald),\n",
    "                                              (AcquisitionMethod.independent, \n",
    "                                               AcquisitionFunction.random),\n",
    "                                              (AcquisitionMethod.independent, \n",
    "                                               AcquisitionFunction.mean_stddev),\n",
    "                                              (AcquisitionMethod.independent, \n",
    "                                               AcquisitionFunction.variation_ratios)):\n",
    "            return True\n",
    "\n",
    "        if vip_args.af != AcquisitionFunction.random:\n",
    "            if vip_args.k not in (10, ):\n",
    "                return False\n",
    "\n",
    "            if vip_args.b not in (show_b, ):\n",
    "                return False\n",
    "        return True\n",
    "\n",
    "    filtered.update(rl.filter_dict(stores, kv=filter_exps))\n",
    "\n",
    "    pp.pprint(rl.diff_args(filtered))\n",
    "\n",
    "    def key2text(name, store):\n",
    "\n",
    "        vip_args = rl.get_vip_args(store)\n",
    "        am, af = vip_args.am, vip_args.af\n",
    "        if (am, af) == (AcquisitionMethod.independent,\n",
    "                        AcquisitionFunction.random):\n",
    "            return 'Random'\n",
    "        elif (am, af) == (AcquisitionMethod.independent,\n",
    "                          AcquisitionFunction.bald):\n",
    "            return f'BALD'\n",
    "        elif (am, af) == (AcquisitionMethod.independent,\n",
    "                          AcquisitionFunction.variation_ratios):\n",
    "            return f'Var ratios'\n",
    "        elif (am, af) == (AcquisitionMethod.independent,\n",
    "                          AcquisitionFunction.mean_stddev):\n",
    "            return f'Mean STD'\n",
    "        elif (am, af) == (AcquisitionMethod.multibald,\n",
    "                          AcquisitionFunction.bald):\n",
    "            return f'BatchBALD'\n",
    "        raise ValueError(vip_args)\n",
    "\n",
    "    #grouped_by = rl.groupby_dict(filtered, key_kv=rl.get_diff_args_key2text(filtered, ('tag',)))\n",
    "    grouped_by = rl.groupby_dict(filtered, key_kv=key2text)\n",
    "\n",
    "    pp.pprint(\n",
    "        rl.map_dict(grouped_by, v=lambda stores: rl.get_stores_info(stores)))\n",
    "\n",
    "    # TODO: add rl.aggregate_f1 and other methods\n",
    "    grouped_by_accuracy = rl.map_dict(\n",
    "        grouped_by,\n",
    "        v=lambda stores: rl.aggregate_accuracies(stores, thresholds=(90, 93.75)))\n",
    "    grouped_by_f1 = rl.map_dict(\n",
    "        grouped_by,\n",
    "        v=lambda stores: rl.aggregate_f1(stores, thresholds=(80, 85.3)))\n",
    "    grouped_by_precision = rl.map_dict(\n",
    "        grouped_by,\n",
    "        v=lambda stores: rl.aggregate_precision(stores, thresholds=(85, 90.99)))\n",
    "    grouped_by_recall = rl.map_dict(\n",
    "        grouped_by,\n",
    "        v=lambda stores: rl.aggregate_recall(stores, thresholds=(75, 81.55)))\n",
    "    grouped_by_auroc = rl.map_dict(\n",
    "        grouped_by,\n",
    "        v=lambda stores: rl.aggregate_auroc(stores, thresholds=(85, 91.08)))\n",
    "    grouped_by_auprc = rl.map_dict(\n",
    "        grouped_by,\n",
    "        v=lambda stores: rl.aggregate_auprc(stores, thresholds=(95, 98.96)))\n",
    "    grouped_by_loss = rl.map_dict(\n",
    "        grouped_by,\n",
    "        v=lambda stores: rl.aggregate_loss(stores, thresholds=(0.45, 0.3)))\n",
    "    # grouped_by_sensitivity = rl.map_dict(\n",
    "    #     grouped_by,\n",
    "    #     v=lambda stores: rl.aggregate_sensitivity(stores, thresholds=(90, 93.75)))\n",
    "    # grouped_by_specificity = rl.map_dict(\n",
    "    #     grouped_by,\n",
    "    #     v=lambda stores: rl.aggregate_specificity(stores, thresholds=(90, 93.75)))\n",
    "\n",
    "    #sorted_dict = rl.sort_dict(grouped_by, v=rl.get_threshold_quantiles_key)\n",
    "\n",
    "    acquisition_functions_list = ['BatchBALD', 'Random', 'BALD', 'Var ratios', 'Mean STD']\n",
    "    acquisition_functions_list = ['BatchBALD', 'Random', 'Mean STD']\n",
    "\n",
    "    sorted_dict_accuracy = {\n",
    "        key: grouped_by_accuracy[key]\n",
    "        for key in acquisition_functions_list\n",
    "    }\n",
    "\n",
    "    sorted_dict_f1= {\n",
    "        key: grouped_by_f1[key]\n",
    "        for key in acquisition_functions_list\n",
    "    }\n",
    "\n",
    "    sorted_dict_precision= {\n",
    "        key: grouped_by_precision[key]\n",
    "        for key in acquisition_functions_list\n",
    "    }\n",
    "\n",
    "    sorted_dict_recall= {\n",
    "        key: grouped_by_recall[key]\n",
    "        for key in acquisition_functions_list\n",
    "    }\n",
    "\n",
    "    sorted_dict_auroc= {\n",
    "        key: grouped_by_auroc[key]\n",
    "        for key in acquisition_functions_list\n",
    "    }\n",
    "\n",
    "    sorted_dict_auprc = {\n",
    "        key: grouped_by_auprc[key]\n",
    "        for key in acquisition_functions_list\n",
    "    }\n",
    "\n",
    "    sorted_dict_loss = {\n",
    "        key: grouped_by_loss[key]\n",
    "        for key in acquisition_functions_list\n",
    "    }\n",
    "\n",
    "    # sorted_dict_sensitivity = {\n",
    "    # key: grouped_by_sensitivity[key]\n",
    "    # for key in acquisition_functions_list\n",
    "    # }\n",
    "    \n",
    "    # sorted_dict_specificity = {\n",
    "    #     key: grouped_by_specificity[key]\n",
    "    #     for key in acquisition_functions_list\n",
    "    # }\n",
    "\n",
    "    figsize = (16, 9)\n",
    "\n",
    "    ##### ACCURACY #####\n",
    "    metric = 'accuracy'\n",
    "    plt.figure(figsize=figsize)\n",
    "    #plt.title(\"RMNIST\")\n",
    "    alp.plot_aggregated_groups(sorted_dict_accuracy,\n",
    "                               show_num_trials=True,\n",
    "                               show_quantiles=True,\n",
    "                               show_thresholds=True)\n",
    "    plt.axis([50, 525, 0.75, 1])\n",
    "    acc_label_axes(metric=metric.capitalize())\n",
    "    plt.grid(True)\n",
    "    plt.legend(loc='lower right')\n",
    "\n",
    "    output_path = blackhc.notebook.original_dir + f'/RSNA_multi_{metric}.png'\n",
    "    alp.plot_save(output_path, dpi=300)\n",
    "    plt.show()\n",
    "\n",
    "    ##### F1 #####\n",
    "    metric = 'f1'\n",
    "    plt.figure(figsize=figsize)\n",
    "    #plt.title(\"RMNIST\")\n",
    "    alp.plot_aggregated_groups(sorted_dict_f1,\n",
    "                               show_num_trials=True,\n",
    "                               show_quantiles=True,\n",
    "                               show_thresholds=True)\n",
    "    plt.axis([50, 525, 0.60, 1])\n",
    "    acc_label_axes(metric=metric.capitalize())\n",
    "    plt.grid(True)\n",
    "    plt.legend(loc='lower right')\n",
    "\n",
    "    output_path = blackhc.notebook.original_dir + f'/RSNA_multi_{metric}.png'\n",
    "    alp.plot_save(output_path, dpi=300)\n",
    "    plt.show()\n",
    "\n",
    "    ##### AU PRC #####\n",
    "    metric = 'AU_PRC'\n",
    "    plt.figure(figsize=figsize)\n",
    "    #plt.title(\"RMNIST\")\n",
    "    alp.plot_aggregated_groups(sorted_dict_auprc,\n",
    "                               show_num_trials=True,\n",
    "                               show_quantiles=True,\n",
    "                               show_thresholds=True)\n",
    "    plt.axis([50, 525, 0.92, 1])\n",
    "    acc_label_axes(metric='AU PRC')\n",
    "    plt.grid(True)\n",
    "    plt.legend(loc='lower right')\n",
    "\n",
    "    output_path = blackhc.notebook.original_dir + f'/RSNA_multi_{metric}.png'\n",
    "    alp.plot_save(output_path, dpi=300)\n",
    "    plt.show()\n",
    "\n",
    "    ##### PRECISION #####\n",
    "    metric = 'precision'\n",
    "    plt.figure(figsize=figsize)\n",
    "    #plt.title(\"RMNIST\")\n",
    "    alp.plot_aggregated_groups(sorted_dict_precision,\n",
    "                               show_num_trials=True,\n",
    "                               show_quantiles=True,\n",
    "                               show_thresholds=True)\n",
    "    plt.axis([50, 525, 0.60, 1])\n",
    "    acc_label_axes(metric=metric.capitalize())\n",
    "    plt.grid(True)\n",
    "    plt.legend(loc='lower right')\n",
    "\n",
    "    output_path = blackhc.notebook.original_dir + f'/RSNA_multi_{metric}.png'\n",
    "    alp.plot_save(output_path, dpi=300)\n",
    "    plt.show()\n",
    "\n",
    "    ##### RECALL #####\n",
    "    metric = 'recall'\n",
    "    plt.figure(figsize=figsize)\n",
    "    #plt.title(\"RMNIST\")\n",
    "    alp.plot_aggregated_groups(sorted_dict_recall,\n",
    "                               show_num_trials=True,\n",
    "                               show_quantiles=True,\n",
    "                               show_thresholds=True)\n",
    "    plt.axis([50, 525, 0.60, 1])\n",
    "    acc_label_axes(metric=metric.capitalize())\n",
    "    plt.grid(True)\n",
    "    plt.legend(loc='lower right')\n",
    "\n",
    "    output_path = blackhc.notebook.original_dir + f'/RSNA_multi_{metric}.png'\n",
    "    alp.plot_save(output_path, dpi=300)\n",
    "    plt.show()\n",
    "\n",
    "    ##### AU ROC #####\n",
    "    metric = 'AU_ROC'\n",
    "    plt.figure(figsize=figsize)\n",
    "    #plt.title(\"RMNIST\")\n",
    "    alp.plot_aggregated_groups(sorted_dict_auroc,\n",
    "                               show_num_trials=True,\n",
    "                               show_quantiles=True,\n",
    "                               show_thresholds=True)\n",
    "    plt.axis([50, 525, 0.60, 1])\n",
    "    acc_label_axes(metric=metric.capitalize())\n",
    "    plt.grid(True)\n",
    "    plt.legend(loc='lower right')\n",
    "\n",
    "    output_path = blackhc.notebook.original_dir + f'/RSNA_multi_{metric}.png'\n",
    "    alp.plot_save(output_path, dpi=300)\n",
    "    plt.show()\n",
    "\n",
    "    ##### LOSS #####\n",
    "    metric = 'nll'\n",
    "    plt.figure(figsize=figsize)\n",
    "    #plt.title(\"RMNIST\")\n",
    "    alp.plot_aggregated_groups(sorted_dict_loss,\n",
    "                               show_num_trials=False,\n",
    "                               show_quantiles=False,\n",
    "                               show_thresholds=False)\n",
    "    plt.axis([50, 525, 0.0, 2])\n",
    "    acc_label_axes(metric=metric)\n",
    "    plt.grid(True)\n",
    "    plt.legend(loc='lower right')\n",
    "\n",
    "    output_path = blackhc.notebook.original_dir + f'/RSNA_multi_{metric}.png'\n",
    "    alp.plot_save(output_path, dpi=300)\n",
    "    plt.show()\n",
    "\n",
    "    # ##### SENSITIVITY #####\n",
    "    # metric = 'sensitivity'\n",
    "    # plt.figure(figsize=figsize)\n",
    "    # alp.plot_aggregated_groups(sorted_dict_sensitivity,\n",
    "    #                            show_num_trials=True,\n",
    "    #                            show_quantiles=True,\n",
    "    #                            show_thresholds=True)\n",
    "    # plt.axis([50, 525, 0.60, 1])\n",
    "    # acc_label_axes(metric=metric.capitalize())\n",
    "    # plt.grid(True)\n",
    "    # plt.legend(loc='lower right')\n",
    "    \n",
    "    # output_path = blackhc.notebook.original_dir + f'/RSNA_multi_{metric}.png'\n",
    "    # alp.plot_save(output_path, dpi=300)\n",
    "    # plt.show()\n",
    "    \n",
    "    # ##### SPECIFICITY #####\n",
    "    # metric = 'specificity'\n",
    "    # plt.figure(figsize=figsize)\n",
    "    # alp.plot_aggregated_groups(sorted_dict_specificity,\n",
    "    #                            show_num_trials=True,\n",
    "    #                            show_quantiles=True,\n",
    "    #                            show_thresholds=True)\n",
    "    # plt.axis([50, 525, 0.60, 1])\n",
    "    # acc_label_axes(metric=metric.capitalize())\n",
    "    # plt.grid(True)\n",
    "    # plt.legend(loc='lower right')\n",
    "    \n",
    "    # output_path = blackhc.notebook.original_dir + f'/RSNA_multi_{metric}.png'\n",
    "    # alp.plot_save(output_path, dpi=300)\n",
    "    # plt.show()"
   ]
  },
  {
   "cell_type": "code",
   "execution_count": null,
   "metadata": {},
   "outputs": [],
   "source": []
  },
  {
   "cell_type": "code",
   "execution_count": null,
   "metadata": {},
   "outputs": [],
   "source": []
  },
  {
   "cell_type": "code",
   "execution_count": null,
   "metadata": {},
   "outputs": [],
   "source": []
  }
 ],
 "metadata": {
  "kernelspec": {
   "display_name": "Python 3 (ipykernel)",
   "language": "python",
   "name": "python3"
  },
  "language_info": {
   "codemirror_mode": {
    "name": "ipython",
    "version": 3
   },
   "file_extension": ".py",
   "mimetype": "text/x-python",
   "name": "python",
   "nbconvert_exporter": "python",
   "pygments_lexer": "ipython3",
   "version": "3.11.5"
  },
  "latex_envs": {
   "LaTeX_envs_menu_present": true,
   "autoclose": true,
   "autocomplete": true,
   "bibliofile": "biblio.bib",
   "cite_by": "apalike",
   "current_citInitial": 1,
   "eqLabelWithNumbers": true,
   "eqNumInitial": 1,
   "hotkeys": {
    "equation": "Ctrl-E",
    "itemize": "Ctrl-I"
   },
   "labels_anchors": false,
   "latex_user_defs": false,
   "report_style_numbering": false,
   "user_envs_cfg": false
  },
  "toc": {
   "base_numbering": 1,
   "nav_menu": {},
   "number_sections": true,
   "sideBar": true,
   "skip_h1_title": true,
   "title_cell": "Table of Contents",
   "title_sidebar": "Contents",
   "toc_cell": false,
   "toc_position": {
    "height": "calc(100% - 180px)",
    "left": "10px",
    "top": "150px",
    "width": "277px"
   },
   "toc_section_display": true,
   "toc_window_display": true
  }
 },
 "nbformat": 4,
 "nbformat_minor": 4
}
