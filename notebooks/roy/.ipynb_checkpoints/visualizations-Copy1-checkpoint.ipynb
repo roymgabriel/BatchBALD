{
 "cells": [
  {
   "cell_type": "markdown",
   "metadata": {
    "ExecuteTime": {
     "end_time": "2019-05-13T18:04:26.406407Z",
     "start_time": "2019-05-13T18:04:26.395100Z"
    }
   },
   "source": [
    "## Initialization"
   ]
  },
  {
   "cell_type": "code",
   "execution_count": 1,
   "metadata": {
    "ExecuteTime": {
     "end_time": "2019-06-18T15:17:47.484046Z",
     "start_time": "2019-06-18T15:17:47.441124Z"
    }
   },
   "outputs": [
    {
     "name": "stdout",
     "output_type": "stream",
     "text": [
      "Appended /home/adibi/rmg7/MIP/BatchBALD/src to paths\n",
      "Switched to directory /home/adibi/rmg7/MIP/BatchBALD\n",
      "%load_ext autoreload\n",
      "%autoreload 2\n"
     ]
    }
   ],
   "source": [
    "import blackhc.notebook"
   ]
  },
  {
   "cell_type": "code",
   "execution_count": 2,
   "metadata": {},
   "outputs": [],
   "source": [
    "import torch"
   ]
  },
  {
   "cell_type": "code",
   "execution_count": 3,
   "metadata": {
    "ExecuteTime": {
     "end_time": "2019-06-18T15:17:48.180801Z",
     "start_time": "2019-06-18T15:17:47.679194Z"
    }
   },
   "outputs": [],
   "source": [
    "import al_notebook.results_loader as rl\n",
    "import al_notebook.plots as alp\n",
    "from acquisition_functions import AcquisitionFunction\n",
    "from acquisition_method import AcquisitionMethod\n",
    "from dataset_enum import DatasetEnum"
   ]
  },
  {
   "cell_type": "code",
   "execution_count": 4,
   "metadata": {
    "ExecuteTime": {
     "end_time": "2019-06-18T15:17:48.190720Z",
     "start_time": "2019-06-18T15:17:48.182113Z"
    }
   },
   "outputs": [],
   "source": [
    "import numpy as np"
   ]
  },
  {
   "cell_type": "code",
   "execution_count": 5,
   "metadata": {
    "ExecuteTime": {
     "end_time": "2019-06-18T15:17:48.324276Z",
     "start_time": "2019-06-18T15:17:48.304186Z"
    }
   },
   "outputs": [],
   "source": [
    "import prettyprinter as pp"
   ]
  },
  {
   "cell_type": "code",
   "execution_count": 6,
   "metadata": {
    "ExecuteTime": {
     "end_time": "2019-06-18T15:17:48.565435Z",
     "start_time": "2019-06-18T15:17:48.553972Z"
    }
   },
   "outputs": [],
   "source": [
    "import matplotlib.pyplot as plt"
   ]
  },
  {
   "cell_type": "code",
   "execution_count": 7,
   "metadata": {
    "ExecuteTime": {
     "end_time": "2019-06-18T15:17:48.837258Z",
     "start_time": "2019-06-18T15:17:48.822600Z"
    }
   },
   "outputs": [],
   "source": [
    "%matplotlib inline"
   ]
  },
  {
   "cell_type": "code",
   "execution_count": 8,
   "metadata": {
    "ExecuteTime": {
     "end_time": "2019-06-18T15:17:50.727107Z",
     "start_time": "2019-06-18T15:17:50.703207Z"
    }
   },
   "outputs": [],
   "source": [
    "#MARKERS = (\"X\", \"s\", \"o\")\n",
    "MARKERS = None"
   ]
  },
  {
   "cell_type": "markdown",
   "metadata": {},
   "source": [
    "## Common functions\n"
   ]
  },
  {
   "cell_type": "code",
   "execution_count": 9,
   "metadata": {
    "ExecuteTime": {
     "end_time": "2019-06-18T15:17:52.654492Z",
     "start_time": "2019-06-18T15:17:52.619795Z"
    }
   },
   "outputs": [],
   "source": [
    "def acc_label_axes():\n",
    "    plt.xlabel('Acquired dataset size')\n",
    "    plt.ylabel('Accuracy')"
   ]
  },
  {
   "cell_type": "markdown",
   "metadata": {},
   "source": [
    "## MNIST"
   ]
  },
  {
   "cell_type": "code",
   "execution_count": 13,
   "metadata": {
    "ExecuteTime": {
     "end_time": "2019-06-18T15:17:59.148517Z",
     "start_time": "2019-06-18T15:17:53.657034Z"
    }
   },
   "outputs": [],
   "source": [
    "stores = rl.load_experiment_results('roy')"
   ]
  },
  {
   "cell_type": "code",
   "execution_count": 14,
   "metadata": {},
   "outputs": [
    {
     "data": {
      "text/plain": [
       "dict_keys(['roy/vgg_multi_pretrained_9031.py', 'roy/vgg_multi_pretrained_256.py', 'roy/vgg_multi_pretrained_3898.py', 'roy/resnet_multi_pretrained_multibald_9031.py', 'roy/resnet_multi_scratch_multibald_9031.py'])"
      ]
     },
     "execution_count": 14,
     "metadata": {},
     "output_type": "execute_result"
    }
   ],
   "source": [
    "stores.keys()"
   ]
  },
  {
   "cell_type": "code",
   "execution_count": 15,
   "metadata": {
    "ExecuteTime": {
     "end_time": "2019-06-18T15:17:59.160586Z",
     "start_time": "2019-06-18T15:17:59.149636Z"
    },
    "scrolled": true
   },
   "outputs": [
    {
     "name": "stdout",
     "output_type": "stream",
     "text": [
      "al_notebook.results_loader._args(\n",
      "    experiment_task_id='vgg_multi_pretrained_9031',\n",
      "    experiments_laaos='./experiment_configs/rsna_multi_vgg/configs.py',\n",
      "    experiment_description='RSNA MULTI:VGG CINIC (PRETRAINED)',\n",
      "    batch_size=16,\n",
      "    scoring_batch_size=32,\n",
      "    test_batch_size=32,\n",
      "    validation_set_size=10000,\n",
      "    early_stopping_patience=3,\n",
      "    epochs=30,\n",
      "    epoch_samples=5056,\n",
      "    num_inference_samples=20,\n",
      "    available_sample_k=50,\n",
      "    target_num_acquired_samples=5000,\n",
      "    target_accuracy=0.85,\n",
      "    no_cuda=False,\n",
      "    quickquick=False,\n",
      "    seed=9031,\n",
      "    log_interval=20,\n",
      "    initial_samples_per_class=20,\n",
      "    initial_samples=None,\n",
      "    type=acquisition_functions.AcquisitionFunction.random,\n",
      "    acquisition_method=acquisition_method.AcquisitionMethod.independent,\n",
      "    dataset=dataset_enum.DatasetEnum.rsna_multi,\n",
      "    min_remaining_percentage=100,\n",
      "    min_candidates_per_acquired_item=20,\n",
      "    initial_percentage=100,\n",
      "    reduce_percentage=0,\n",
      "    balanced_validation_set=True,\n",
      "    balanced_test_set=False\n",
      ")\n"
     ]
    }
   ],
   "source": [
    "pp.pprint(rl.get_any(stores).args)"
   ]
  },
  {
   "cell_type": "code",
   "execution_count": 16,
   "metadata": {
    "ExecuteTime": {
     "end_time": "2019-06-18T15:17:59.190393Z",
     "start_time": "2019-06-18T15:17:59.161671Z"
    }
   },
   "outputs": [
    {
     "name": "stdout",
     "output_type": "stream",
     "text": [
      "{\n",
      "    'experiments_laaos': {\n",
      "        None,\n",
      "        './experiment_configs/rsna_multi_vgg/configs.py'\n",
      "    },\n",
      "    'experiment_description': {\n",
      "        'RSNA MULTI:RESNET BN DROPOUT (SCRATCH)',\n",
      "        'RSNA MULTI:RESNET BN DROPOUT (PRETRAINED)',\n",
      "        'RSNA MULTI:VGG CINIC (PRETRAINED)'\n",
      "    },\n",
      "    'available_sample_k': {200, 50},\n",
      "    'type': {\n",
      "        acquisition_functions.AcquisitionFunction.random,\n",
      "        acquisition_functions.AcquisitionFunction.bald\n",
      "    },\n",
      "    'acquisition_method': {\n",
      "        acquisition_method.AcquisitionMethod.multibald,\n",
      "        acquisition_method.AcquisitionMethod.independent\n",
      "    },\n",
      "    'num_acquired_points': {560, 2660, 2310}\n",
      "}\n"
     ]
    }
   ],
   "source": [
    "pp.pprint(rl.diff_args(stores))"
   ]
  },
  {
   "cell_type": "markdown",
   "metadata": {
    "ExecuteTime": {
     "end_time": "2019-05-14T14:51:44.438647Z",
     "start_time": "2019-05-14T14:51:44.400116Z"
    },
    "jp-MarkdownHeadingCollapsed": true
   },
   "source": [
    "### Increasing acquisition size"
   ]
  },
  {
   "cell_type": "code",
   "execution_count": 13,
   "metadata": {
    "ExecuteTime": {
     "end_time": "2019-06-13T11:44:15.249600Z",
     "start_time": "2019-06-13T11:44:14.736851Z"
    },
    "run_control": {
     "marked": false
    }
   },
   "outputs": [
    {
     "name": "stderr",
     "output_type": "stream",
     "text": [
      "No artists with labels found to put in legend.  Note that artists whose label start with an underscore are ignored when legend() is called with no argument.\n"
     ]
    },
    {
     "name": "stdout",
     "output_type": "stream",
     "text": [
      "{}\n",
      "{}\n"
     ]
    },
    {
     "data": {
      "image/png": "[encoded data removed]",
      "text/plain": [
       "<Figure size 700x500 with 1 Axes>"
      ]
     },
     "metadata": {},
     "output_type": "display_data"
    }
   ],
   "source": [
    "filtered = {}\n",
    "\n",
    "def filter_exps(name, store):\n",
    "    vip_args = rl.get_vip_args(store)\n",
    "\n",
    "    if vip_args.ds != DatasetEnum.mnist:\n",
    "        return False\n",
    "\n",
    "    if vip_args.nis == 0:\n",
    "        return False\n",
    "\n",
    "    if vip_args.am != AcquisitionMethod.independent:\n",
    "        return False\n",
    "\n",
    "    if vip_args.af != AcquisitionFunction.bald:\n",
    "        return False\n",
    "\n",
    "    if vip_args.k not in (20, ):\n",
    "        return False\n",
    "\n",
    "    return vip_args.b in (1, 10, 40)\n",
    "\n",
    "    return False\n",
    "\n",
    "\n",
    "filtered.update(rl.filter_dict(stores, kv=filter_exps))\n",
    "\n",
    "pp.pprint(rl.diff_args(filtered))\n",
    "\n",
    "def key2text(name, store):\n",
    "    vip_args = rl.get_vip_args(store)\n",
    "\n",
    "    return f'Batch acquisition size {vip_args.b}'\n",
    "\n",
    "\n",
    "grouped_by = rl.groupby_dict(\n",
    "    filtered,\n",
    "    key_kv=key2text)\n",
    "\n",
    "pp.pprint(rl.map_dict(grouped_by, v=lambda stores: rl.get_stores_info(stores)))\n",
    "          \n",
    "grouped_by = rl.map_dict(grouped_by, v=lambda stores: rl.aggregate_accuracies(stores, thresholds=(90, 95)))\n",
    "\n",
    "sorted_dict = rl.sort_dict(grouped_by, v=rl.get_threshold_quantiles_key)\n",
    "\n",
    "plt.figure(figsize=(7, 5))\n",
    "#plt.title(\"BALD for increasing acquisition size\")\n",
    "alp.plot_aggregated_groups(sorted_dict,\n",
    "                           show_num_trials=False,\n",
    "                           show_quantiles=False, markers=MARKERS)\n",
    "plt.axis([20, 260, 0.65, 0.98])\n",
    "acc_label_axes()\n",
    "plt.grid(True)\n",
    "plt.legend()\n",
    "\n",
    "output_path = blackhc.notebook.original_dir + '/BALD_inc_acq_size.png'\n",
    "alp.plot_save(output_path, dpi=300)\n",
    "plt.show()"
   ]
  },
  {
   "cell_type": "markdown",
   "metadata": {
    "jp-MarkdownHeadingCollapsed": true
   },
   "source": [
    "### BALD vs BatchBALD on MNIST"
   ]
  },
  {
   "cell_type": "code",
   "execution_count": 14,
   "metadata": {
    "ExecuteTime": {
     "end_time": "2019-06-13T11:44:20.790801Z",
     "start_time": "2019-06-13T11:44:20.264209Z"
    }
   },
   "outputs": [
    {
     "name": "stderr",
     "output_type": "stream",
     "text": [
      "No artists with labels found to put in legend.  Note that artists whose label start with an underscore are ignored when legend() is called with no argument.\n"
     ]
    },
    {
     "name": "stdout",
     "output_type": "stream",
     "text": [
      "{}\n",
      "dict_keys([])\n",
      "{}\n"
     ]
    },
    {
     "data": {
      "image/png": "[encoded data removed]",
      "text/plain": [
       "<Figure size 700x500 with 1 Axes>"
      ]
     },
     "metadata": {},
     "output_type": "display_data"
    }
   ],
   "source": [
    "#%%capture c\n",
    "#c=None\n",
    "\n",
    "filtered = {}\n",
    "\n",
    "def filter_exps(name, store):\n",
    "    vip_args = rl.get_vip_args(store)\n",
    "\n",
    "    if vip_args.ds != DatasetEnum.mnist:\n",
    "        return False\n",
    "\n",
    "    if vip_args.nis == 0:\n",
    "        return False\n",
    "      \n",
    "    if vip_args.nap < 100:\n",
    "        return False\n",
    "\n",
    "    if vip_args.am not in (AcquisitionMethod.multibald, AcquisitionMethod.independent):\n",
    "        return False\n",
    "    \n",
    "    if vip_args.am == AcquisitionMethod.independent and vip_args.af not in (AcquisitionFunction.bald, AcquisitionFunction.random):\n",
    "        return False\n",
    "    \n",
    "    if (vip_args.am, vip_args.af) == (AcquisitionMethod.independent, AcquisitionFunction.random):\n",
    "        return False\n",
    "\n",
    "    if (vip_args.am, vip_args.af) == (AcquisitionMethod.independent, AcquisitionFunction.bald):\n",
    "        if vip_args.b == 1:\n",
    "            if vip_args.k != 100:\n",
    "                return False\n",
    "        else:\n",
    "            if vip_args.k not in (100,):\n",
    "                return False\n",
    "       \n",
    "    if vip_args.am == AcquisitionMethod.multibald:\n",
    "        if vip_args.k != 100:\n",
    "            return False\n",
    "\n",
    "    return vip_args.b in (1, 10)\n",
    "    \n",
    "\n",
    "\n",
    "filtered.update(rl.filter_dict(stores, kv=filter_exps))\n",
    "\n",
    "pp.pprint(rl.diff_args(filtered))\n",
    "\n",
    "\n",
    "def key2text(name, store):    \n",
    "    vip_args = rl.get_vip_args(store)\n",
    "    am, af = vip_args.am, vip_args.af\n",
    "    if (am, af) == (AcquisitionMethod.independent, AcquisitionFunction.random):\n",
    "        return 'Random acquisition'\n",
    "    elif (am, af) == (AcquisitionMethod.independent, AcquisitionFunction.bald):\n",
    "        return f'BALD acquisition size {vip_args.b}'\n",
    "    elif am == AcquisitionMethod.multibald:\n",
    "        return f'BatchBALD acquisition size {vip_args.b}'\n",
    "    raise ValueError(vip_args)\n",
    "\n",
    "\n",
    "grouped_by = rl.groupby_dict(\n",
    "    filtered,\n",
    "    key_kv=key2text)\n",
    "\n",
    "pp.pprint(grouped_by.keys())\n",
    "\n",
    "pp.pprint(rl.map_dict(grouped_by, v=lambda stores: rl.get_stores_info(stores, True)))\n",
    "          \n",
    "grouped_by = rl.map_dict(grouped_by, v=lambda stores: rl.aggregate_accuracies(stores, thresholds=(90, 95)))\n",
    "\n",
    "sorted_dict = rl.sort_dict(grouped_by, v=rl.get_threshold_quantiles_key)\n",
    "\n",
    "plt.figure(figsize=(7, 5))\n",
    "#plt.title(\"MNIST BALD and BatchBALD comparison\")\n",
    "alp.plot_aggregated_groups(sorted_dict,\n",
    "                           show_num_trials=False,\n",
    "                           show_quantiles=False, markers=MARKERS)\n",
    "plt.axis([20, 260, 0.65, 0.98])\n",
    "acc_label_axes()\n",
    "plt.grid(True)\n",
    "plt.legend()\n",
    "\n",
    "output_path = blackhc.notebook.original_dir + '/MNIST_BALD_BATCHBALD.png'\n",
    "alp.plot_save(output_path, dpi=300)\n",
    "plt.show()"
   ]
  },
  {
   "cell_type": "markdown",
   "metadata": {
    "jp-MarkdownHeadingCollapsed": true
   },
   "source": [
    "### BatchBALD with increasing b"
   ]
  },
  {
   "cell_type": "code",
   "execution_count": 15,
   "metadata": {
    "ExecuteTime": {
     "end_time": "2019-06-13T11:44:30.916301Z",
     "start_time": "2019-06-13T11:44:30.421132Z"
    },
    "hide_input": false,
    "hide_output": false,
    "run_control": {
     "marked": true
    }
   },
   "outputs": [
    {
     "name": "stderr",
     "output_type": "stream",
     "text": [
      "No artists with labels found to put in legend.  Note that artists whose label start with an underscore are ignored when legend() is called with no argument.\n"
     ]
    },
    {
     "name": "stdout",
     "output_type": "stream",
     "text": [
      "{}\n",
      "{}\n"
     ]
    },
    {
     "data": {
      "image/png": "[encoded data removed]",
      "text/plain": [
       "<Figure size 700x500 with 1 Axes>"
      ]
     },
     "metadata": {},
     "output_type": "display_data"
    }
   ],
   "source": [
    "filtered = {}\n",
    "\n",
    "def filter_exps(name, store):\n",
    "    vip_args = rl.get_vip_args(store)\n",
    "\n",
    "    if vip_args.ds not in (\n",
    "            DatasetEnum.mnist, ):  #, DatasetEnum.mnist_w_noise):\n",
    "        return False\n",
    "\n",
    "    if vip_args.nis == 0:\n",
    "        return False\n",
    "    \n",
    "    if vip_args.nap < 100:\n",
    "        return False\n",
    "\n",
    "    if (vip_args.am, vip_args.af) not in ((AcquisitionMethod.multibald,\n",
    "                                           AcquisitionFunction.bald),):\n",
    "        return False\n",
    "    \n",
    "    if vip_args.k != 100:\n",
    "        return False\n",
    "    \n",
    "    return True\n",
    "\n",
    "filtered.update(rl.filter_dict(stores, kv=filter_exps))\n",
    "\n",
    "pp.pprint(rl.diff_args(filtered))\n",
    "\n",
    "\n",
    "def key2text(name, store):\n",
    "\n",
    "    vip_args = rl.get_vip_args(store)\n",
    "    am, af = vip_args.am, vip_args.af\n",
    "    if (am, af) == (AcquisitionMethod.multibald, AcquisitionFunction.bald):\n",
    "        return f'Batch acquisition size {vip_args.b}'\n",
    "    raise ValueError(vip_args)\n",
    "\n",
    "\n",
    "grouped_by = rl.groupby_dict(filtered,\n",
    "                             key_kv=rl.get_diff_args_key2text(\n",
    "                                 filtered, ['tag'] + rl.culling_fields))\n",
    "\n",
    "grouped_by = rl.groupby_dict(filtered,\n",
    "                             key_kv=key2text)\n",
    "\n",
    "\n",
    "pp.pprint(rl.map_dict(grouped_by, v=lambda stores: rl.get_stores_info(stores)))\n",
    "\n",
    "grouped_by = rl.map_dict(\n",
    "    grouped_by,\n",
    "    v=lambda stores: rl.aggregate_accuracies(stores, thresholds=(90, 95)))\n",
    "\n",
    "sorted_dict = rl.sort_dict(grouped_by, v=rl.get_threshold_quantiles_key)\n",
    "\n",
    "plt.figure(figsize=(7, 5))\n",
    "#plt.title(\"BatchBALD for increasing acquisition size\")\n",
    "alp.plot_aggregated_groups(sorted_dict,\n",
    "                           show_num_trials=False,\n",
    "                           show_quantiles=False)\n",
    "plt.axis([20, 260, 0.65, 0.98])\n",
    "acc_label_axes()\n",
    "plt.grid(True)\n",
    "plt.legend()\n",
    "\n",
    "output_path = blackhc.notebook.original_dir + '/BatchBALD_increasing_b.png'\n",
    "alp.plot_save(output_path, dpi=300)\n",
    "plt.show()"
   ]
  },
  {
   "cell_type": "markdown",
   "metadata": {
    "jp-MarkdownHeadingCollapsed": true
   },
   "source": [
    "### Time spent on MNIST BALD b1 vs BatchBALD b10"
   ]
  },
  {
   "cell_type": "code",
   "execution_count": 16,
   "metadata": {
    "ExecuteTime": {
     "end_time": "2019-05-25T00:32:00.084818Z",
     "start_time": "2019-05-25T00:32:00.073306Z"
    }
   },
   "outputs": [],
   "source": [
    "batchbalds_b10 = [\n",
    "            'paper/mnist_multibald_bald_k100_b10_661442.py',\n",
    "            'paper/mnist_multibald_bald_k100_b10_572400.py',\n",
    "            'paper/mnist_multibald_bald_k100_b10_1038804.py',\n",
    "            'paper/mnist_multibald_bald_k100_b10_926965.py',\n",
    "            'paper/mnist_multibald_bald_k100_b10_734490.py',\n",
    "            'paper/mnist_multibald_bald_k100_b10_1029338.py'\n",
    "        ]\n",
    "balds_b1 = [\n",
    "            'paper/mnist_independent_bald_k100_b1_926965.py',\n",
    "            'paper/mnist_independent_bald_k100_b1_661442.py',\n",
    "            'paper/mnist_independent_bald_k100_b1_734490.py',\n",
    "            'paper/mnist_independent_bald_k100_b1_1038804.py',\n",
    "            'paper/mnist_independent_bald_k100_b1_572400.py',\n",
    "            'paper/mnist_independent_bald_k100_b1_1029338.py'\n",
    "        ],"
   ]
  },
  {
   "cell_type": "code",
   "execution_count": 23,
   "metadata": {
    "ExecuteTime": {
     "end_time": "2019-05-25T00:46:06.224178Z",
     "start_time": "2019-05-25T00:46:05.748096Z"
    }
   },
   "outputs": [
    {
     "name": "stdout",
     "output_type": "stream",
     "text": [
      "{}\n",
      "dict_keys([])\n",
      "{}\n"
     ]
    },
    {
     "ename": "KeyError",
     "evalue": "'BatchBALD acquisition size 10'",
     "output_type": "error",
     "traceback": [
      "\u001b[0;31m---------------------------------------------------------------------------\u001b[0m",
      "\u001b[0;31mKeyError\u001b[0m                                  Traceback (most recent call last)",
      "Cell \u001b[0;32mIn[23], line 91\u001b[0m\n\u001b[1;32m     80\u001b[0m     \u001b[38;5;28;01mreturn\u001b[39;00m np\u001b[38;5;241m.\u001b[39mcumsum([\n\u001b[1;32m     81\u001b[0m         iteration\u001b[38;5;241m.\u001b[39mtrain_model_elapsed_time \u001b[38;5;241m+\u001b[39m\n\u001b[1;32m     82\u001b[0m         iteration\u001b[38;5;241m.\u001b[39mbatch_acquisition_elapsed_time\n\u001b[1;32m     83\u001b[0m         \u001b[38;5;28;01mfor\u001b[39;00m iteration \u001b[38;5;129;01min\u001b[39;00m store\u001b[38;5;241m.\u001b[39miterations\n\u001b[1;32m     84\u001b[0m     ])\n\u001b[1;32m     87\u001b[0m grouped_by_absolute \u001b[38;5;241m=\u001b[39m rl\u001b[38;5;241m.\u001b[39mmap_dict(\n\u001b[1;32m     88\u001b[0m     grouped_by,\n\u001b[1;32m     89\u001b[0m     v\u001b[38;5;241m=\u001b[39m\u001b[38;5;28;01mlambda\u001b[39;00m stores: rl\u001b[38;5;241m.\u001b[39maggregate_values(stores, values_getter, thresholds\u001b[38;5;241m=\u001b[39m()))\n\u001b[0;32m---> 91\u001b[0m rel_time_unit \u001b[38;5;241m=\u001b[39m \u001b[43mgrouped_by_absolute\u001b[49m\u001b[43m[\u001b[49m\u001b[38;5;124;43m'\u001b[39;49m\u001b[38;5;124;43mBatchBALD acquisition size 10\u001b[39;49m\u001b[38;5;124;43m'\u001b[39;49m\u001b[43m]\u001b[49m\u001b[38;5;241m.\u001b[39mquantiles[\n\u001b[1;32m     92\u001b[0m     \u001b[38;5;241m1\u001b[39m, \u001b[38;5;241m19\u001b[39m]\n\u001b[1;32m     95\u001b[0m \u001b[38;5;28;01mdef\u001b[39;00m \u001b[38;5;21mvalues_getter_rel\u001b[39m(store):\n\u001b[1;32m     96\u001b[0m     \u001b[38;5;66;03m#return np.cumsum([iteration.train_model_elapsed_time for iteration in store.iterations])\u001b[39;00m\n\u001b[1;32m     97\u001b[0m     \u001b[38;5;28;01mreturn\u001b[39;00m np\u001b[38;5;241m.\u001b[39mcumsum([\n\u001b[1;32m     98\u001b[0m         iteration\u001b[38;5;241m.\u001b[39mtrain_model_elapsed_time \u001b[38;5;241m+\u001b[39m\n\u001b[1;32m     99\u001b[0m         iteration\u001b[38;5;241m.\u001b[39mbatch_acquisition_elapsed_time\n\u001b[1;32m    100\u001b[0m         \u001b[38;5;28;01mfor\u001b[39;00m iteration \u001b[38;5;129;01min\u001b[39;00m store\u001b[38;5;241m.\u001b[39miterations\n\u001b[1;32m    101\u001b[0m     ]) \u001b[38;5;241m/\u001b[39m rel_time_unit\n",
      "\u001b[0;31mKeyError\u001b[0m: 'BatchBALD acquisition size 10'"
     ]
    }
   ],
   "source": [
    "#%%capture c\n",
    "#c=None\n",
    "\n",
    "filtered = {}\n",
    "\n",
    "\n",
    "def filter_exps(name, store):\n",
    "    vip_args = rl.get_vip_args(store)\n",
    "\n",
    "    if vip_args.ds != DatasetEnum.mnist:\n",
    "        return False\n",
    "\n",
    "    if vip_args.nis == 0:\n",
    "        return False\n",
    "\n",
    "    if vip_args.nap < 100:\n",
    "        return False\n",
    "\n",
    "    if vip_args.am not in (AcquisitionMethod.multibald,\n",
    "                           AcquisitionMethod.independent):\n",
    "        return False\n",
    "\n",
    "    if vip_args.am == AcquisitionMethod.independent and vip_args.af not in (\n",
    "            AcquisitionFunction.bald, AcquisitionFunction.random):\n",
    "        return False\n",
    "\n",
    "    if (vip_args.am, vip_args.af) == (AcquisitionMethod.independent,\n",
    "                                      AcquisitionFunction.random):\n",
    "        return False\n",
    "\n",
    "    if (vip_args.am, vip_args.af) == (AcquisitionMethod.independent,\n",
    "                                      AcquisitionFunction.bald):\n",
    "        if vip_args.tag in ('repro', 'k20', 'k40', 'k5', 'k1',\n",
    "                            'coreset_bald_vs_bald', 'bald_b5_k20'):\n",
    "            return False\n",
    "\n",
    "        if vip_args.b == 1:\n",
    "            if vip_args.k != 100:\n",
    "                return False\n",
    "        else:\n",
    "            if vip_args.k not in (100, ):\n",
    "                return False\n",
    "\n",
    "    if vip_args.am == AcquisitionMethod.multibald:\n",
    "        if store.tag == 'k5':\n",
    "            return False\n",
    "        if vip_args.k != 100:\n",
    "            return False\n",
    "\n",
    "    return vip_args.b in (1, 10)\n",
    "\n",
    "\n",
    "filtered.update(rl.filter_dict(stores, kv=filter_exps))\n",
    "\n",
    "pp.pprint(rl.diff_args(filtered))\n",
    "\n",
    "\n",
    "def key2text(name, store):\n",
    "    vip_args = rl.get_vip_args(store)\n",
    "    am, af = vip_args.am, vip_args.af\n",
    "    if (am, af) == (AcquisitionMethod.independent, AcquisitionFunction.random):\n",
    "        return 'Random acquisition'\n",
    "    elif (am, af) == (AcquisitionMethod.independent, AcquisitionFunction.bald):\n",
    "        return f'BALD acquisition size {vip_args.b}'\n",
    "    elif am == AcquisitionMethod.multibald:\n",
    "        return f'BatchBALD acquisition size {vip_args.b}'\n",
    "    raise ValueError(vip_args)\n",
    "\n",
    "\n",
    "grouped_by = rl.groupby_dict(filtered, key_kv=key2text)\n",
    "\n",
    "pp.pprint(grouped_by.keys())\n",
    "\n",
    "pp.pprint(\n",
    "    rl.map_dict(grouped_by, v=lambda stores: rl.get_stores_info(stores, True)))\n",
    "\n",
    "\n",
    "def values_getter(store):\n",
    "    #return np.cumsum([iteration.train_model_elapsed_time for iteration in store.iterations])\n",
    "    return np.cumsum([\n",
    "        iteration.train_model_elapsed_time +\n",
    "        iteration.batch_acquisition_elapsed_time\n",
    "        for iteration in store.iterations\n",
    "    ])\n",
    "\n",
    "\n",
    "grouped_by_absolute = rl.map_dict(\n",
    "    grouped_by,\n",
    "    v=lambda stores: rl.aggregate_values(stores, values_getter, thresholds=()))\n",
    "\n",
    "rel_time_unit = grouped_by_absolute['BatchBALD acquisition size 10'].quantiles[\n",
    "    1, 19]\n",
    "\n",
    "\n",
    "def values_getter_rel(store):\n",
    "    #return np.cumsum([iteration.train_model_elapsed_time for iteration in store.iterations])\n",
    "    return np.cumsum([\n",
    "        iteration.train_model_elapsed_time +\n",
    "        iteration.batch_acquisition_elapsed_time\n",
    "        for iteration in store.iterations\n",
    "    ]) / rel_time_unit\n",
    "\n",
    "\n",
    "grouped_by_relative = rl.map_dict(\n",
    "    grouped_by,\n",
    "    v=lambda stores: rl.aggregate_values(\n",
    "        stores, values_getter_rel, thresholds=()))\n",
    "\n",
    "sorted_dict = {\n",
    "    k: grouped_by_relative[k]\n",
    "    for k in [\n",
    "        'BALD acquisition size 1',\n",
    "        'BatchBALD acquisition size 10',\n",
    "        'BALD acquisition size 10',\n",
    "    ]\n",
    "}\n",
    "\n",
    "#tmp = alp.COLOR_ORDER\n",
    "#alp.COLOR_ORDER = [tmp[1], tmp[0], tmp[2]]\n",
    "\n",
    "plt.figure(figsize=(7, 5))\n",
    "#plt.title(\"MNIST BALD and BatchBALD comparison\")\n",
    "alp.plot_aggregated_groups(sorted_dict,\n",
    "                           show_num_trials=False,\n",
    "                           show_quantiles=False,\n",
    "                           markers=MARKERS)\n",
    "\n",
    "plt.scatter(206,\n",
    "            sorted_dict['BALD acquisition size 1'].quantiles[1, 187],\n",
    "            marker='x', s=100, \n",
    "            color=alp.COLOR_ORDER[0])\n",
    "plt.scatter(200,\n",
    "            sorted_dict['BatchBALD acquisition size 10'].quantiles[1, 19],\n",
    "            marker='x', s=100,\n",
    "            color=alp.COLOR_ORDER[1])\n",
    "plt.scatter(250,\n",
    "            sorted_dict['BALD acquisition size 10'].quantiles[1, 24],\n",
    "            marker='x', s=100,\n",
    "            color=alp.COLOR_ORDER[2])\n",
    "\n",
    "#alp.COLOR_ORDER = tmp\n",
    "\n",
    "plt.axis([20, 260, 0, 10])\n",
    "plt.xlabel('Acquired dataset size')\n",
    "plt.ylabel('Relative total time')\n",
    "plt.yticks(ticks=range(11))\n",
    "plt.grid(True)\n",
    "plt.legend()\n",
    "\n",
    "output_path = blackhc.notebook.original_dir + '/MNIST_BALD_BATCHBALD_time_perf.png'\n",
    "alp.plot_save(output_path, dpi=300)\n",
    "plt.show()"
   ]
  },
  {
   "cell_type": "markdown",
   "metadata": {
    "jp-MarkdownHeadingCollapsed": true
   },
   "source": [
    "## RMNIST"
   ]
  },
  {
   "cell_type": "markdown",
   "metadata": {
    "ExecuteTime": {
     "end_time": "2019-05-22T17:57:44.506738Z",
     "start_time": "2019-05-22T17:57:44.493892Z"
    }
   },
   "source": [
    "### RMNIST vs BALD"
   ]
  },
  {
   "cell_type": "code",
   "execution_count": 18,
   "metadata": {
    "ExecuteTime": {
     "end_time": "2019-06-13T11:45:03.327102Z",
     "start_time": "2019-06-13T11:45:02.835819Z"
    }
   },
   "outputs": [
    {
     "name": "stderr",
     "output_type": "stream",
     "text": [
      "No artists with labels found to put in legend.  Note that artists whose label start with an underscore are ignored when legend() is called with no argument.\n"
     ]
    },
    {
     "name": "stdout",
     "output_type": "stream",
     "text": [
      "{}\n",
      "{}\n"
     ]
    },
    {
     "data": {
      "image/png": "[encoded data removed]",
      "text/plain": [
       "<Figure size 700x500 with 1 Axes>"
      ]
     },
     "metadata": {},
     "output_type": "display_data"
    }
   ],
   "source": [
    "for show_b in (10,):\n",
    "    filtered = {}\n",
    "    \n",
    "    def filter_exps(name, store):\n",
    "        vip_args = rl.get_vip_args(store)\n",
    "\n",
    "        if vip_args.ds not in (DatasetEnum.repeated_mnist_w_noise,): #, DatasetEnum.mnist_w_noise):\n",
    "            return False\n",
    "\n",
    "        if vip_args.nis == 0:\n",
    "            return False\n",
    "\n",
    "\n",
    "    #     if vip_args.nap < 300:\n",
    "    #         return False\n",
    "\n",
    "        if (vip_args.am, vip_args.af) not in ((AcquisitionMethod.multibald,\n",
    "                                               AcquisitionFunction.bald),\n",
    "                                              (AcquisitionMethod.independent,\n",
    "                                               AcquisitionFunction.bald),\n",
    "                                              (AcquisitionMethod.independent, AcquisitionFunction.random)):\n",
    "            return False\n",
    "\n",
    "        if vip_args.af == AcquisitionFunction.bald:\n",
    "            if vip_args.k not in (10,):\n",
    "                return False\n",
    "\n",
    "            if vip_args.b not in (show_b,):\n",
    "                return False\n",
    "        return True\n",
    "\n",
    "    filtered.update(rl.filter_dict(stores, kv=filter_exps))\n",
    "\n",
    "    pp.pprint(rl.diff_args(filtered))\n",
    "\n",
    "\n",
    "    def key2text(name, store):\n",
    "\n",
    "        vip_args = rl.get_vip_args(store)\n",
    "        am, af = vip_args.am, vip_args.af\n",
    "        if (am, af) == (AcquisitionMethod.independent, AcquisitionFunction.random):\n",
    "            return 'Random'\n",
    "        elif (am, af) == (AcquisitionMethod.independent, AcquisitionFunction.bald):\n",
    "            return f'BALD'\n",
    "        elif (am, af) == (AcquisitionMethod.multibald, AcquisitionFunction.bald):\n",
    "            return f'BatchBALD'\n",
    "        raise ValueError(vip_args)\n",
    "\n",
    "\n",
    "    #grouped_by = rl.groupby_dict(filtered, key_kv=rl.get_diff_args_key2text(filtered, ('tag',)))\n",
    "    grouped_by = rl.groupby_dict(filtered, key_kv=key2text)\n",
    "\n",
    "    pp.pprint(rl.map_dict(grouped_by, v=lambda stores: rl.get_stores_info(stores)))\n",
    "\n",
    "    grouped_by = rl.map_dict(\n",
    "        grouped_by,\n",
    "        v=lambda stores: rl.aggregate_accuracies(stores, thresholds=(90, 95)))\n",
    "\n",
    "    sorted_dict = rl.sort_dict(grouped_by, v=rl.get_threshold_quantiles_key)\n",
    "\n",
    "    plt.figure(figsize=(7, 5))\n",
    "    #plt.title(\"RMNIST\")\n",
    "    alp.plot_aggregated_groups(sorted_dict,\n",
    "                               show_num_trials=False,\n",
    "                               show_quantiles=False,\n",
    "                               show_thresholds=False)\n",
    "    plt.axis([50, 280, 0.7, 0.98])\n",
    "    acc_label_axes()\n",
    "    plt.grid(True)\n",
    "    plt.legend(loc='lower right')\n",
    "\n",
    "    output_path = blackhc.notebook.original_dir + '/RMNIST.png'\n",
    "    alp.plot_save(output_path, dpi=300)\n",
    "    plt.show()"
   ]
  },
  {
   "cell_type": "markdown",
   "metadata": {},
   "source": [
    "# Roy Methods"
   ]
  },
  {
   "cell_type": "code",
   "execution_count": 17,
   "metadata": {},
   "outputs": [
    {
     "data": {
      "text/plain": [
       "dict_keys(['roy/vgg_multi_pretrained_9031.py', 'roy/vgg_multi_pretrained_256.py', 'roy/vgg_multi_pretrained_3898.py', 'roy/resnet_multi_pretrained_multibald_9031.py', 'roy/resnet_multi_scratch_multibald_9031.py'])"
      ]
     },
     "execution_count": 17,
     "metadata": {},
     "output_type": "execute_result"
    }
   ],
   "source": [
    "# vgg_multi_pretrained_9031.py\n",
    "stores.keys()"
   ]
  },
  {
   "cell_type": "code",
   "execution_count": 33,
   "metadata": {
    "ExecuteTime": {
     "end_time": "2019-06-13T11:45:11.385014Z",
     "start_time": "2019-06-13T11:45:10.815340Z"
    }
   },
   "outputs": [
    {
     "name": "stdout",
     "output_type": "stream",
     "text": [
      "(<AcquisitionMethod.independent: 'independent'>, <AcquisitionFunction.random: 'random'>)\n",
      "(<AcquisitionMethod.independent: 'independent'>, <AcquisitionFunction.random: 'random'>)\n",
      "(<AcquisitionMethod.independent: 'independent'>, <AcquisitionFunction.random: 'random'>)\n",
      "(<AcquisitionMethod.multibald: 'multibald'>, <AcquisitionFunction.bald: 'bald'>)\n",
      "(<AcquisitionMethod.multibald: 'multibald'>, <AcquisitionFunction.bald: 'bald'>)\n",
      "{\n",
      "    'experiments_laaos': {\n",
      "        None,\n",
      "        './experiment_configs/rsna_multi_vgg/configs.py'\n",
      "    },\n",
      "    'experiment_description': {\n",
      "        'RSNA MULTI:RESNET BN DROPOUT (SCRATCH)',\n",
      "        'RSNA MULTI:RESNET BN DROPOUT (PRETRAINED)',\n",
      "        'RSNA MULTI:VGG CINIC (PRETRAINED)'\n",
      "    },\n",
      "    'available_sample_k': {200, 50},\n",
      "    'type': {\n",
      "        acquisition_functions.AcquisitionFunction.random,\n",
      "        acquisition_functions.AcquisitionFunction.bald\n",
      "    },\n",
      "    'acquisition_method': {\n",
      "        acquisition_method.AcquisitionMethod.multibald,\n",
      "        acquisition_method.AcquisitionMethod.independent\n",
      "    },\n",
      "    'num_acquired_points': {560, 2660, 2310}\n",
      "}\n",
      "HERE\n",
      "HERE\n",
      "{\n",
      "    'Random': {\n",
      "        'num_trials': 3,\n",
      "        'experiments_laaos': {\n",
      "            './experiment_configs/rsna_multi_vgg/configs.py'\n",
      "        },\n",
      "        'experiment_description': {'RSNA MULTI:VGG CINIC (PRETRAINED)'},\n",
      "        'num_inference_samples': {20},\n",
      "        'available_sample_k': {50},\n",
      "        'quickquick': {False},\n",
      "        'initial_samples_per_class': {20},\n",
      "        'initial_samples': {None},\n",
      "        'type': {acquisition_functions.AcquisitionFunction.random},\n",
      "        'acquisition_method': {\n",
      "            acquisition_method.AcquisitionMethod.independent\n",
      "        },\n",
      "        'dataset': {dataset_enum.DatasetEnum.rsna_multi},\n",
      "        'min_remaining_percentage': {100},\n",
      "        'min_candidates_per_acquired_item': {20},\n",
      "        'initial_percentage': {100},\n",
      "        'reduce_percentage': {0},\n",
      "        'balanced_validation_set': {True},\n",
      "        'balanced_test_set': {False},\n",
      "        'num_acquired_points': {560},\n",
      "        'num_initial_samples': {60},\n",
      "        'tag': {'roy'}\n",
      "    },\n",
      "    'BatchBALD': {\n",
      "        'num_trials': 2,\n",
      "        'experiments_laaos': {None},\n",
      "        'experiment_description': {\n",
      "            'RSNA MULTI:RESNET BN DROPOUT (SCRATCH)',\n",
      "            'RSNA MULTI:RESNET BN DROPOUT (PRETRAINED)'\n",
      "        },\n",
      "        'num_inference_samples': {20},\n",
      "        'available_sample_k': {200, 50},\n",
      "        'quickquick': {False},\n",
      "        'initial_samples_per_class': {20},\n",
      "        'initial_samples': {None},\n",
      "        'type': {acquisition_functions.AcquisitionFunction.bald},\n",
      "        'acquisition_method': {acquisition_method.AcquisitionMethod.multibald},\n",
      "        'dataset': {dataset_enum.DatasetEnum.rsna_multi},\n",
      "        'min_remaining_percentage': {100},\n",
      "        'min_candidates_per_acquired_item': {20},\n",
      "        'initial_percentage': {100},\n",
      "        'reduce_percentage': {0},\n",
      "        'balanced_validation_set': {True},\n",
      "        'balanced_test_set': {False},\n",
      "        'num_acquired_points': {2660, 2310},\n",
      "        'num_initial_samples': {60},\n",
      "        'tag': {'roy'}\n",
      "    }\n",
      "}\n",
      "Random:\n",
      "60% at [460.  inf  inf]\n",
      "65% at [460.  inf  inf]\n",
      "BatchBALD:\n",
      "60% at [ 810.  810. 1460.]\n",
      "65% at [inf inf inf]\n"
     ]
    },
    {
     "data": {
      "image/png": "[encoded data removed]",
      "text/plain": [
       "<Figure size 700x500 with 1 Axes>"
      ]
     },
     "metadata": {},
     "output_type": "display_data"
    }
   ],
   "source": [
    "for show_b in (10, ):\n",
    "    filtered = {}\n",
    "\n",
    "    def filter_exps(name, store):\n",
    "            \n",
    "        vip_args = rl.get_vip_args(store)\n",
    "\n",
    "        # if vip_args.ds not in (DatasetEnum.rsna_multi,\n",
    "        #                        ):  #, DatasetEnum.mnist_w_noise):\n",
    "        #     return False\n",
    "\n",
    "        if vip_args.nis == 0:\n",
    "            return False\n",
    "\n",
    "    #     if vip_args.nap < 300:\n",
    "    #         return False\n",
    "\n",
    "        if (vip_args.am, vip_args.af) in ((AcquisitionMethod.multibald,\n",
    "                                               AcquisitionFunction.bald),\n",
    "                                              (AcquisitionMethod.independent,\n",
    "                                               AcquisitionFunction.bald),\n",
    "                                              (AcquisitionMethod.independent, AcquisitionFunction.random)):\n",
    "            return True\n",
    "\n",
    "        if vip_args.af != AcquisitionFunction.random:\n",
    "            if vip_args.k not in (10, ):\n",
    "                return False\n",
    "\n",
    "            if vip_args.b not in (show_b, ):\n",
    "                return False\n",
    "        return True\n",
    "\n",
    "    filtered.update(rl.filter_dict(stores, kv=filter_exps))\n",
    "\n",
    "    pp.pprint(rl.diff_args(filtered))\n",
    "\n",
    "    def key2text(name, store):\n",
    "\n",
    "        vip_args = rl.get_vip_args(store)\n",
    "        am, af = vip_args.am, vip_args.af\n",
    "        if (am, af) == (AcquisitionMethod.independent,\n",
    "                        AcquisitionFunction.random):\n",
    "            return 'Random'\n",
    "        elif (am, af) == (AcquisitionMethod.independent,\n",
    "                          AcquisitionFunction.bald):\n",
    "            return f'BALD'\n",
    "        elif (am, af) == (AcquisitionMethod.independent,\n",
    "                          AcquisitionFunction.variation_ratios):\n",
    "            return f'Var ratios'\n",
    "        elif (am, af) == (AcquisitionMethod.independent,\n",
    "                          AcquisitionFunction.mean_stddev):\n",
    "            return f'Mean STD'\n",
    "        elif (am, af) == (AcquisitionMethod.multibald,\n",
    "                          AcquisitionFunction.bald):\n",
    "            print(\"HERE\")\n",
    "            return f'BatchBALD'\n",
    "        raise ValueError(vip_args)\n",
    "\n",
    "    #grouped_by = rl.groupby_dict(filtered, key_kv=rl.get_diff_args_key2text(filtered, ('tag',)))\n",
    "    grouped_by = rl.groupby_dict(filtered, key_kv=key2text)\n",
    "\n",
    "    pp.pprint(\n",
    "        rl.map_dict(grouped_by, v=lambda stores: rl.get_stores_info(stores)))\n",
    "\n",
    "    grouped_by = rl.map_dict(\n",
    "        grouped_by,\n",
    "        v=lambda stores: rl.aggregate_accuracies(stores, thresholds=(60, 65)))\n",
    "\n",
    "    #sorted_dict = rl.sort_dict(grouped_by, v=rl.get_threshold_quantiles_key)\n",
    "\n",
    "    sorted_dict = {\n",
    "        key: grouped_by[key]\n",
    "        # for key in ['BatchBALD', 'Random', 'BALD', 'Var ratios', 'Mean STD']\n",
    "        for key in ['Random', 'BatchBALD']\n",
    "    }\n",
    "\n",
    "    plt.figure(figsize=(7, 5))\n",
    "    #plt.title(\"RMNIST\")\n",
    "    alp.plot_aggregated_groups(sorted_dict,\n",
    "                               show_num_trials=False,\n",
    "                               show_quantiles=False,\n",
    "                               show_thresholds=False)\n",
    "    # plt.axis([50, 280, 0.7, 0.98])\n",
    "    acc_label_axes()\n",
    "    plt.grid(True)\n",
    "    plt.legend(loc='lower right')\n",
    "\n",
    "    output_path = blackhc.notebook.original_dir + '/Roy_others.png'\n",
    "    alp.plot_save(output_path, dpi=300)\n",
    "    plt.show()"
   ]
  },
  {
   "cell_type": "code",
   "execution_count": 21,
   "metadata": {},
   "outputs": [
    {
     "data": {
      "text/plain": [
       "dict_keys(['Random'])"
      ]
     },
     "execution_count": 21,
     "metadata": {},
     "output_type": "execute_result"
    }
   ],
   "source": [
    "grouped_by.keys()"
   ]
  },
  {
   "cell_type": "markdown",
   "metadata": {
    "jp-MarkdownHeadingCollapsed": true
   },
   "source": [
    "## EMNIST"
   ]
  },
  {
   "cell_type": "code",
   "execution_count": 20,
   "metadata": {
    "ExecuteTime": {
     "end_time": "2019-06-13T11:45:43.509928Z",
     "start_time": "2019-06-13T11:45:43.048337Z"
    }
   },
   "outputs": [
    {
     "name": "stdout",
     "output_type": "stream",
     "text": [
      "{\n",
      "    'num_trials': 18,\n",
      "    'num_inference_samples': {10},\n",
      "    'available_sample_k': {5},\n",
      "    'type': {\n",
      "        acquisition_functions.AcquisitionFunction.random,\n",
      "        acquisition_functions.AcquisitionFunction.bald\n",
      "    },\n",
      "    'acquisition_method': {\n",
      "        acquisition_method.AcquisitionMethod.independent,\n",
      "        acquisition_method.AcquisitionMethod.multibald\n",
      "    },\n",
      "    'experiment_description': {\n",
      "        'EMNIST_balanced with random acquisition',\n",
      "        'EMNIST with b5 and k10, k100 with both BALD and BatchBALD'\n",
      "    },\n",
      "    'initial_percentage': {50, None},\n",
      "    'reduce_percentage': {10, None},\n",
      "    'min_remaining_percentage': {None, 30},\n",
      "    'min_candidates_per_acquired_item': {None, 100},\n",
      "    'dataset': {dataset_enum.DatasetEnum.emnist},\n",
      "    'initial_samples': {()},\n",
      "    'experiments_laaos': {\n",
      "        './experiment_configs/emnist_bbb/configs.py',\n",
      "        './experiment_configs/emnist_random/configs.py'\n",
      "    },\n",
      "    'quickquick': {False},\n",
      "    'initial_samples_per_class': {2},\n",
      "    'num_acquired_points': {300},\n",
      "    'num_initial_samples': {0},\n",
      "    'tag': {'paper'}\n",
      "}\n",
      "{\n",
      "    'Random': {\n",
      "        'num_trials': 6,\n",
      "        'num_inference_samples': {10},\n",
      "        'available_sample_k': {5},\n",
      "        'type': {acquisition_functions.AcquisitionFunction.random},\n",
      "        'acquisition_method': {\n",
      "            acquisition_method.AcquisitionMethod.independent\n",
      "        },\n",
      "        'experiment_description': {'EMNIST_balanced with random acquisition'},\n",
      "        'initial_percentage': {50},\n",
      "        'reduce_percentage': {10},\n",
      "        'min_remaining_percentage': {30},\n",
      "        'min_candidates_per_acquired_item': {100},\n",
      "        'dataset': {dataset_enum.DatasetEnum.emnist},\n",
      "        'initial_samples': {()},\n",
      "        'experiments_laaos': {'./experiment_configs/emnist_random/configs.py'},\n",
      "        'quickquick': {False},\n",
      "        'initial_samples_per_class': {2},\n",
      "        'num_acquired_points': {300},\n",
      "        'num_initial_samples': {0},\n",
      "        'tag': {'paper'}\n",
      "    },\n",
      "    'BALD': {\n",
      "        'num_trials': 6,\n",
      "        'available_sample_k': {5},\n",
      "        'num_inference_samples': {10},\n",
      "        'acquisition_method': {\n",
      "            acquisition_method.AcquisitionMethod.independent\n",
      "        },\n",
      "        'experiment_description': {\n",
      "            'EMNIST with b5 and k10, k100 with both BALD and BatchBALD'\n",
      "        },\n",
      "        'type': {acquisition_functions.AcquisitionFunction.bald},\n",
      "        'dataset': {dataset_enum.DatasetEnum.emnist},\n",
      "        'initial_samples': {()},\n",
      "        'experiments_laaos': {'./experiment_configs/emnist_bbb/configs.py'},\n",
      "        'quickquick': {False},\n",
      "        'initial_samples_per_class': {2},\n",
      "        'num_acquired_points': {300},\n",
      "        'num_initial_samples': {0},\n",
      "        'tag': {'paper'}\n",
      "    },\n",
      "    'BatchBALD': {\n",
      "        'num_trials': 6,\n",
      "        'available_sample_k': {5},\n",
      "        'num_inference_samples': {10},\n",
      "        'acquisition_method': {acquisition_method.AcquisitionMethod.multibald},\n",
      "        'experiment_description': {\n",
      "            'EMNIST with b5 and k10, k100 with both BALD and BatchBALD'\n",
      "        },\n",
      "        'type': {acquisition_functions.AcquisitionFunction.bald},\n",
      "        'dataset': {dataset_enum.DatasetEnum.emnist},\n",
      "        'initial_samples': {()},\n",
      "        'experiments_laaos': {'./experiment_configs/emnist_bbb/configs.py'},\n",
      "        'quickquick': {False},\n",
      "        'initial_samples_per_class': {2},\n",
      "        'num_acquired_points': {300},\n",
      "        'num_initial_samples': {0},\n",
      "        'tag': {'paper'}\n",
      "    }\n",
      "}\n",
      "BatchBALD:\n",
      "40% at [160 165 175]\n",
      "45% at [210 215 225]\n",
      "Random:\n",
      "40% at [175 175 200]\n",
      "45% at [215 230 260]\n",
      "BALD:\n",
      "40% at [215. 220. 230.]\n",
      "45% at [260. 280. 285.]\n"
     ]
    },
    {
     "data": {
      "image/png": "[encoded data removed]",
      "text/plain": [
       "<Figure size 700x500 with 1 Axes>"
      ]
     },
     "metadata": {},
     "output_type": "display_data"
    }
   ],
   "source": [
    "filtered = {}\n",
    "\n",
    "\n",
    "def filter_exps(name, store):\n",
    "    vip_args = rl.get_vip_args(store)\n",
    "\n",
    "    if vip_args.ds not in (\n",
    "            DatasetEnum.emnist, ):  #, DatasetEnum.mnist_w_noise):\n",
    "        return False\n",
    "\n",
    "    if vip_args.nis != 0:\n",
    "        return False\n",
    "    \n",
    "    if vip_args.nap < 100:\n",
    "        return False\n",
    "\n",
    "#     if vip_args.nap < 300:\n",
    "#         return False\n",
    "\n",
    "    if vip_args.k != 10:\n",
    "        return False\n",
    "\n",
    "    if (vip_args.am, vip_args.af) not in ((AcquisitionMethod.multibald,\n",
    "                                           AcquisitionFunction.bald),\n",
    "                                          (AcquisitionMethod.independent,\n",
    "                                           AcquisitionFunction.bald),\n",
    "                                          (AcquisitionMethod.independent,\n",
    "                                           AcquisitionFunction.random)):\n",
    "        return False\n",
    "\n",
    "    \n",
    "    return True\n",
    "\n",
    "filtered.update(rl.filter_dict(stores, kv=filter_exps))\n",
    "\n",
    "pp.pprint(rl.get_stores_info(filtered))\n",
    "\n",
    "\n",
    "def key2text(name, store):\n",
    "\n",
    "    vip_args = rl.get_vip_args(store)\n",
    "    am, af = vip_args.am, vip_args.af\n",
    "    if (am, af) == (AcquisitionMethod.independent, AcquisitionFunction.random):\n",
    "        return 'Random'\n",
    "    elif (am, af) == (AcquisitionMethod.independent, AcquisitionFunction.bald):\n",
    "        return f'BALD'\n",
    "    if (am, af) == (AcquisitionMethod.multibald, AcquisitionFunction.bald):\n",
    "        return f'BatchBALD'\n",
    "    raise ValueError(vip_args)\n",
    "\n",
    "\n",
    "grouped_by = rl.groupby_dict(filtered,\n",
    "                             key_kv=rl.get_diff_args_key2text(\n",
    "                                 filtered, ['tag'] + rl.culling_fields))\n",
    "\n",
    "grouped_by = rl.groupby_dict(filtered,\n",
    "                             key_kv=key2text)\n",
    "\n",
    "\n",
    "pp.pprint(rl.map_dict(grouped_by, v=lambda stores: rl.get_stores_info(stores)))\n",
    "\n",
    "grouped_by = rl.map_dict(\n",
    "    grouped_by,\n",
    "    v=lambda stores: rl.aggregate_accuracies(stores, thresholds=(40, 45)))\n",
    "\n",
    "sorted_dict = rl.sort_dict(grouped_by, v=rl.get_threshold_quantiles_key)\n",
    "\n",
    "plt.figure(figsize=(7, 5))\n",
    "#plt.title(\"EMNIST\")\n",
    "alp.plot_aggregated_groups(sorted_dict,\n",
    "                           show_num_trials=False,\n",
    "                           show_quantiles=False, show_thresholds=False)\n",
    "plt.axis([0, 0+280, 1/47, 0.5])\n",
    "acc_label_axes()\n",
    "plt.grid(True)\n",
    "plt.legend(loc='lower right')\n",
    "\n",
    "output_path = blackhc.notebook.original_dir + '/EMNIST_zero_initial_data.png'\n",
    "alp.plot_save(output_path, dpi=300)\n",
    "plt.show()"
   ]
  },
  {
   "cell_type": "code",
   "execution_count": null,
   "metadata": {},
   "outputs": [],
   "source": []
  },
  {
   "cell_type": "code",
   "execution_count": null,
   "metadata": {},
   "outputs": [],
   "source": []
  }
 ],
 "metadata": {
  "kernelspec": {
   "display_name": "Python 3 (ipykernel)",
   "language": "python",
   "name": "python3"
  },
  "language_info": {
   "codemirror_mode": {
    "name": "ipython",
    "version": 3
   },
   "file_extension": ".py",
   "mimetype": "text/x-python",
   "name": "python",
   "nbconvert_exporter": "python",
   "pygments_lexer": "ipython3",
   "version": "3.11.5"
  },
  "latex_envs": {
   "LaTeX_envs_menu_present": true,
   "autoclose": true,
   "autocomplete": true,
   "bibliofile": "biblio.bib",
   "cite_by": "apalike",
   "current_citInitial": 1,
   "eqLabelWithNumbers": true,
   "eqNumInitial": 1,
   "hotkeys": {
    "equation": "Ctrl-E",
    "itemize": "Ctrl-I"
   },
   "labels_anchors": false,
   "latex_user_defs": false,
   "report_style_numbering": false,
   "user_envs_cfg": false
  },
  "toc": {
   "base_numbering": 1,
   "nav_menu": {},
   "number_sections": true,
   "sideBar": true,
   "skip_h1_title": true,
   "title_cell": "Table of Contents",
   "title_sidebar": "Contents",
   "toc_cell": false,
   "toc_position": {
    "height": "calc(100% - 180px)",
    "left": "10px",
    "top": "150px",
    "width": "277px"
   },
   "toc_section_display": true,
   "toc_window_display": true
  }
 },
 "nbformat": 4,
 "nbformat_minor": 4
}
