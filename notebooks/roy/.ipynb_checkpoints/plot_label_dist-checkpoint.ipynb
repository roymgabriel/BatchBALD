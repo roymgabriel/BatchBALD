{
 "cells": [
  {
   "cell_type": "code",
   "execution_count": 7,
   "id": "6187f7ba-7088-41bc-9069-460c899cb600",
   "metadata": {},
   "outputs": [],
   "source": [
    "import pandas as pd\n",
    "import numpy as np\n",
    "import matplotlib.pyplot as plt\n",
    "import os\n",
    "from collections import Counter\n"
   ]
  },
  {
   "cell_type": "code",
   "execution_count": 10,
   "id": "54b97d71-64f9-4092-adf9-82400ee711ff",
   "metadata": {},
   "outputs": [],
   "source": [
    "def calculate_percentage_occurrence(value_list):\n",
    "    \"\"\"\n",
    "    Calculate the percentage occurrence of each value in a list.\n",
    "\n",
    "    Parameters:\n",
    "    value_list (list): A list of values.\n",
    "\n",
    "    Returns:\n",
    "    dict: A dictionary with the values as keys and their percentage occurrences as values.\n",
    "    \"\"\"\n",
    "    total_count = len(value_list)\n",
    "    value_counts = Counter(value_list)\n",
    "    \n",
    "    percentage_occurrence = {value: (count / total_count) for value, count in value_counts.items()}\n",
    "    \n",
    "    return percentage_occurrence"
   ]
  },
  {
   "cell_type": "code",
   "execution_count": 11,
   "id": "dc2e6464-06ad-47d2-86fb-c2b5cc64bbb1",
   "metadata": {},
   "outputs": [
    {
     "data": {
      "text/plain": [
       "{1: 0.5714285714285714, 0: 0.42857142857142855}"
      ]
     },
     "execution_count": 11,
     "metadata": {},
     "output_type": "execute_result"
    }
   ],
   "source": [
    "calculate_percentage_occurrence([1, 1, 1, 1, 0, 0, 0])"
   ]
  },
  {
   "cell_type": "code",
   "execution_count": 4,
   "id": "8dcb63ad-4611-4107-826c-1fd8ca1b0fe0",
   "metadata": {},
   "outputs": [],
   "source": [
    "# Function to extract chosen_targets from a given file content\n",
    "def get_chosen_targets(file_content, is_binary=True):\n",
    "    local_vars = {}\n",
    "    exec(file_content, {}, local_vars)\n",
    "    store = local_vars['store']\n",
    "\n",
    "    if is_binary:\n",
    "        chosen_targets = {\n",
    "            'iter_num' = [],\n",
    "            'class_0' = [],\n",
    "            'class_1' = []\n",
    "        }\n",
    "        for i, iteration in enumerate(store['iterations']):\n",
    "            chosen_targets['iter_num'].append(f'iter_{i}')\n",
    "            chosen_targets.append(iteration['chosen_targets'])\n",
    "\n",
    "    else:\n",
    "        chosen_targets = {\n",
    "            'iter_num' = [],\n",
    "            'class_0' = [],\n",
    "            'class_1' = [],\n",
    "            'class_2' = []\n",
    "        }\n",
    "        for i, iteration in enumerate(store['iterations']):\n",
    "            chosen_targets['iter_num'].append(f'iter_{i}')\n",
    "            iteration['chosen_targets'])\n",
    "    return chosen_targets\n",
    "    "
   ]
  },
  {
   "cell_type": "code",
   "execution_count": null,
   "id": "432761ec-b332-4308-9f0c-d604c5e91b8f",
   "metadata": {},
   "outputs": [],
   "source": []
  },
  {
   "cell_type": "code",
   "execution_count": null,
   "id": "9755d5f4-9331-4b45-ad1f-9a4a56722dcf",
   "metadata": {},
   "outputs": [],
   "source": [
    "# Path to the directory containing the .py files\n",
    "directory_path = '../laaos_results/EMORY_COVID/binary/'\n",
    "\n",
    "df = pd.DataFrame()\n",
    "\n",
    "# Loop through each file in the directory\n",
    "for filename in os.listdir(directory_path):\n",
    "    # Check if the file is a .py file and contains the search word in its filename\n",
    "    if filename.endswith('.py'):\n",
    "        # Construct the full file path\n",
    "        file_path = os.path.join(directory_path, filename)\n",
    "        \n",
    "        # Read the content of the .py file\n",
    "        with open(file_path, 'r') as file:\n",
    "            file_content = file.read()\n",
    "        \n",
    "        # Get the chosen_targets for the current file\n",
    "        chosen_targets = get_chosen_targets(file_content)\n",
    "\n",
    "\n",
    "# Convert the lists to numpy arrays for stacking (optional, if you need)\n",
    "for filename, targets in grouped_chosen_targets.items():\n",
    "    grouped_chosen_targets[filename] = np.array(targets)\n",
    "\n",
    "# Print the dictionary\n",
    "for filename, targets in grouped_chosen_targets.items():\n",
    "    print(f'{filename}: {targets}')"
   ]
  }
 ],
 "metadata": {
  "kernelspec": {
   "display_name": "Python 3 (ipykernel)",
   "language": "python",
   "name": "python3"
  },
  "language_info": {
   "codemirror_mode": {
    "name": "ipython",
    "version": 3
   },
   "file_extension": ".py",
   "mimetype": "text/x-python",
   "name": "python",
   "nbconvert_exporter": "python",
   "pygments_lexer": "ipython3",
   "version": "3.11.5"
  }
 },
 "nbformat": 4,
 "nbformat_minor": 5
}
